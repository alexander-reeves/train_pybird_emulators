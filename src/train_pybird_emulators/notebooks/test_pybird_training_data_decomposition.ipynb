{
 "cells": [
  {
   "cell_type": "code",
   "execution_count": 1,
   "id": "fae388f8-cf32-4f22-9ca1-2f13533441b0",
   "metadata": {},
   "outputs": [],
   "source": [
    "import os \n",
    "os.environ[\"JAX_PLATFORMS\"]=\"cpu\"\n",
    "\n",
    "import jax\n",
    "jax.config.update(\"jax_enable_x64\", True)\n",
    "\n",
    "import os, sys\n",
    "import matplotlib.pyplot as plt\n",
    "from timeit import timeit\n",
    "from scipy.special import legendre\n",
    "import numpy as np\n",
    "import jax.numpy as jnp\n",
    "from jax import grad, jit\n",
    "from classy import Class\n",
    "from pybird.correlator import Correlator\n",
    "from jax import jacfwd, jacrev\n",
    "import importlib \n",
    "import pybird \n",
    "from scipy.interpolate import interp1d\n",
    "import jax.numpy as jnp\n",
    "from train_pybird_emulators.emu_utils import emu_utils\n",
    "from train_pybird_emulators.emu_utils.emu_utils import get_pgg_from_linps_and_f_and_A\n",
    "from train_pybird_emulators.emu_utils.emu_utils import get_pgg_from_params"
   ]
  },
  {
   "cell_type": "code",
   "execution_count": 2,
   "id": "8164995a-d144-4d8d-ab63-69962a103732",
   "metadata": {},
   "outputs": [],
   "source": [
    "resum = True\n",
    "km=1.0\n",
    "kr=1.0\n",
    "nd=3e-4"
   ]
  },
  {
   "cell_type": "code",
   "execution_count": 3,
   "id": "e161dffc-af5a-47f6-8316-1085dc011fb9",
   "metadata": {},
   "outputs": [],
   "source": [
    "#set up a baseline cosmology\n",
    "k_r = 0.7\n",
    "k_l = 1e-4\n",
    "# z = .57\n",
    "z = 0.57\n",
    "\n",
    "kk = np.logspace(np.log10(k_l), np.log10(k_r), 1000)\n",
    "M = Class()\n",
    "cosmo = {'omega_b': 0.02235, 'omega_cdm': 0.120, 'h': 0.675, 'ln10^{10}A_s': 3.044, 'n_s': 0.965}\n",
    "M.set(cosmo)\n",
    "M.set({'output': 'mPk', 'P_k_max_h/Mpc': 10, 'z_max_pk': z})\n",
    "M.compute()\n",
    "pk_lin = np.array([M.pk_lin(k*M.h(), z)*M.h()**3 for k in kk]) # k in Mpc/h, pk in (Mpc/h)^3\n",
    "\n",
    "ipk_lin = interp1d(kk, pk_lin, kind='cubic')\n",
    "D1, f1 = M.scale_independent_growth_factor(z), M.scale_independent_growth_factor_f(z), \n",
    "A_s, Omega0_m = 1e-10 * np.exp(cosmo['ln10^{10}A_s']), M.Omega0_m()"
   ]
  },
  {
   "cell_type": "markdown",
   "id": "5848bd14-e8f8-4fa4-b184-7d7246844b69",
   "metadata": {},
   "source": [
    "### Need to check some of the comsologies in the bank to see whats happening - how can it be bad for the mean cosmo??\n",
    "* Also make sure the way the parameters are extracted matches what happens in the emulator code!!"
   ]
  },
  {
   "cell_type": "code",
   "execution_count": 4,
   "id": "1e97ff51-e4b8-4df2-890f-8841bb6add1d",
   "metadata": {},
   "outputs": [],
   "source": [
    "# outdir = os.path.join(os.path.expanduser('~'), 'Documents', 'local_software', 'pybird_emu', 'data', 'eftboss', 'out')\n",
    "outdir = \"/cluster/work/refregier/alexree/local_packages/pybird_emu/data/eftboss/out\"\n",
    "with open(os.path.join(outdir, 'fit_boss_onesky_pk_wc_cmass_ngc_l0.dat')) as f: data_file = f.read()\n",
    "eft_params_str = data_file.split(', \\n')[1].replace(\"# \", \"\")\n",
    "eft_params = {key: float(value) for key, value in (pair.split(': ') for pair in eft_params_str.split(', '))}"
   ]
  },
  {
   "cell_type": "code",
   "execution_count": 5,
   "id": "adb32d2a-c018-466e-ac40-9d19c0ec0ece",
   "metadata": {},
   "outputs": [
    {
     "name": "stdout",
     "output_type": "stream",
     "text": [
      "loading matrices!\n",
      "setting EdS time approximation\n"
     ]
    }
   ],
   "source": [
    "N_bird = Correlator()\n",
    "N_bird.set({'output': 'bPk', 'multipole': 3, 'kmax': 0.4,\n",
    "       'fftaccboost': 2, # boosting the FFTLog precision (slower, but ~0.1% more precise -> let's emulate this)\n",
    "       'with_resum': resum, 'with_exact_time': True,\n",
    "       \"with_time\":False, # test without specifying this too \n",
    "       'km': km, 'kr': kr, 'nd': nd,\n",
    "       'eft_basis': 'eftoflss', 'with_stoch': True})\n",
    "\n",
    "N_bird.compute({'kk': kk, 'pk_lin': pk_lin, 'D': D1, 'f': f1, 'z': z, 'Omega0_m': Omega0_m},\n",
    "          do_core=True, do_survey_specific=True)\n",
    "bpk_benchmark = N_bird.get(eft_params)"
   ]
  },
  {
   "cell_type": "markdown",
   "id": "be8ca6eb-fd8c-441d-9841-eba1a5e7e165",
   "metadata": {},
   "source": [
    "### Now lets use the training data function to get the pieces for training "
   ]
  },
  {
   "cell_type": "code",
   "execution_count": 6,
   "id": "5811e1a8-2290-4257-bc14-e203ca6fdde8",
   "metadata": {},
   "outputs": [
    {
     "name": "stdout",
     "output_type": "stream",
     "text": [
      "loading matrices!\n"
     ]
    }
   ],
   "source": [
    "N = Correlator()\n",
    "# Set up pybird in time unspecified mode for the computation of the pybird pieces training data\n",
    "N.set(\n",
    "    {\n",
    "        \"output\": \"bPk\",\n",
    "        \"multipole\": 3,\n",
    "        \"kmax\": 0.4, #new kmax so dont have to filter out the large ks! \n",
    "        \"fftaccboost\": 2,\n",
    "        \"with_resum\": True,\n",
    "        \"with_exact_time\": True,\n",
    "        \"with_time\": False,  # time unspecified\n",
    "        \"km\": 1.0,\n",
    "        \"kr\": 1.0,\n",
    "        \"nd\": 3e-4,\n",
    "        \"eft_basis\": \"eftoflss\",\n",
    "        \"with_stoch\": True,\n",
    "    }\n",
    ")"
   ]
  },
  {
   "cell_type": "code",
   "execution_count": 7,
   "id": "e03c3c87-bf9b-41c8-a895-a644f87e7bd1",
   "metadata": {},
   "outputs": [],
   "source": [
    "pk_max = np.amax(pk_lin)\n",
    "pk_norm = pk_lin/pk_max"
   ]
  },
  {
   "cell_type": "code",
   "execution_count": 8,
   "id": "a5bc92b9-b5e2-4a14-b5bd-7bf37f17a671",
   "metadata": {},
   "outputs": [
    {
     "name": "stdout",
     "output_type": "stream",
     "text": [
      "setting EdS time approximation\n"
     ]
    }
   ],
   "source": [
    "outputs = get_pgg_from_linps_and_f_and_A(pk_norm, kk=kk, N=N, f=f1, A=pk_max)"
   ]
  },
  {
   "cell_type": "code",
   "execution_count": 9,
   "id": "00fc85b8-a4a0-432a-a91b-5e27b812c668",
   "metadata": {},
   "outputs": [
    {
     "data": {
      "text/plain": [
       "array([ 0.        ,  0.        ,  0.        ,  0.        ,  0.        ,\n",
       "        0.        ,  0.        ,  0.        ,  0.11113569,  0.1323971 ,\n",
       "        0.15273494,  0.1722962 ,  0.19544902,  0.23621874,  0.26443778,\n",
       "        0.26410186,  0.23882394,  0.23375992,  0.30719569,  0.47349043,\n",
       "        0.68365529,  0.82989979,  0.82228543,  0.60826244,  0.20109917,\n",
       "       -0.32447964, -0.8589755 , -1.24991747, -1.35464339, -1.10132334,\n",
       "       -0.51272255,  0.25832506,  0.96187001,  1.34806766,  1.24533783,\n",
       "        0.60615157, -0.47283464, -1.7654632 , -2.96823362, -3.78260695,\n",
       "       -4.003683  , -3.57938162, -2.62204433, -1.38078518, -0.18488588,\n",
       "        0.63916521,  0.86209484,  0.4212993 , -0.56814817, -1.8621165 ,\n",
       "       -3.165399  , -4.20458251, -4.77972157, -4.79628985, -4.28115959,\n",
       "       -3.37886399, -2.32122536, -1.37122699, -0.75517768, -0.60518987,\n",
       "       -0.93083437, -1.62689045, -2.51068818, -3.37415925, -4.03457213,\n",
       "       -4.37213229, -4.34868668, -3.45368708, -2.28171793, -1.8122389 ,\n",
       "       -2.2927413 , -3.16511161, -3.66801044, -3.49752112, -2.94798735,\n",
       "       -2.52656095, -2.49586596])"
      ]
     },
     "execution_count": 9,
     "metadata": {},
     "output_type": "execute_result"
    }
   ],
   "source": [
    "N_bird.bird.fullIRPsloop[0][0]"
   ]
  },
  {
   "cell_type": "code",
   "execution_count": 10,
   "id": "330f4ce5-dcd5-4e05-8c7a-23cb208ff920",
   "metadata": {},
   "outputs": [
    {
     "name": "stdout",
     "output_type": "stream",
     "text": [
      "loading matrices!\n"
     ]
    }
   ],
   "source": [
    "N = Correlator()\n",
    "# Set up pybird in time unspecified mode for the computation of the pybird pieces training data\n",
    "N.set(\n",
    "    {\n",
    "        \"output\": \"bPk\",\n",
    "        \"multipole\": 3,\n",
    "        \"kmax\": 0.4, #new kmax so dont have to filter out the large ks! \n",
    "        \"fftaccboost\": 2,\n",
    "        \"with_resum\": False, # add resum in by hand below \n",
    "        \"with_exact_time\": True,\n",
    "        \"with_time\": False,  # time unspecified\n",
    "\n",
    "        # \"with_time\": False,  # time unspecified\n",
    "        \"km\": 1.0,\n",
    "        \"kr\": 1.0,\n",
    "        \"nd\": 3e-4,\n",
    "        \"eft_basis\": \"eftoflss\",\n",
    "        \"with_stoch\": True,\n",
    "    }\n",
    ")"
   ]
  },
  {
   "cell_type": "code",
   "execution_count": 11,
   "id": "4a853f78-cddf-40c9-8d77-77d3b4b6be0d",
   "metadata": {},
   "outputs": [
    {
     "name": "stdout",
     "output_type": "stream",
     "text": [
      "setting EdS time approximation\n"
     ]
    }
   ],
   "source": [
    "N.compute({'kk': kk, 'pk_lin': pk_lin, 'D': D1, 'f': f1, 'z': z, 'Omega0_m': Omega0_m},\n",
    "          do_core=True, do_survey_specific=True)\n"
   ]
  },
  {
   "cell_type": "code",
   "execution_count": 12,
   "id": "824c9c64-c8ea-4598-8080-22ec4167657d",
   "metadata": {},
   "outputs": [],
   "source": [
    "shape_ploop = (3, 35, -1)\n",
    "shape_3 = (3, 3, -1)\n",
    "shape_6 = (3, 6, -1)\n",
    "shape_35 = (3, 35, -1)"
   ]
  },
  {
   "cell_type": "code",
   "execution_count": 13,
   "id": "a3b9fe91-c0da-4016-bcbe-3e7c5655714b",
   "metadata": {},
   "outputs": [
    {
     "data": {
      "text/plain": [
       "array([0.00000000e+00, 8.18401096e-03, 7.64817663e-02, 2.48822805e-01,\n",
       "       5.28526863e-01, 8.89894176e-01, 1.29804535e+00, 1.72369200e+00,\n",
       "       2.15162298e+00, 2.58270873e+00, 3.02935344e+00, 3.51088778e+00,\n",
       "       4.04515244e+00, 5.30963876e+00, 6.79520208e+00, 8.31222585e+00,\n",
       "       9.60361779e+00, 1.04488073e+01, 1.07860062e+01, 1.07729680e+01,\n",
       "       1.07481406e+01, 1.11129243e+01, 1.21697448e+01, 1.39847737e+01,\n",
       "       1.63596108e+01, 1.88886199e+01, 2.10936040e+01, 2.25680688e+01,\n",
       "       2.30788505e+01, 2.26477998e+01, 2.15287341e+01, 2.01850558e+01,\n",
       "       1.91481940e+01, 1.88693488e+01, 1.95926228e+01, 2.12602829e+01,\n",
       "       2.35517905e+01, 2.59930907e+01, 2.80815362e+01, 2.94249692e+01,\n",
       "       2.98192107e+01, 2.92804409e+01, 2.80354546e+01, 2.64535771e+01,\n",
       "       2.49788958e+01, 2.40373358e+01, 2.38995847e+01, 2.45898425e+01,\n",
       "       2.59112915e+01, 2.75377171e+01, 2.91115925e+01, 3.03277312e+01,\n",
       "       3.09782309e+01, 3.09711670e+01, 3.03612457e+01, 2.93370703e+01,\n",
       "       2.81758471e+01, 2.71545741e+01, 2.64909849e+01, 2.63015053e+01,\n",
       "       2.65937914e+01, 2.72705225e+01, 2.81417801e+01, 2.89834913e+01,\n",
       "       2.96011472e+01, 2.98680528e+01, 2.97600520e+01, 2.86883350e+01,\n",
       "       2.73327663e+01, 2.66876981e+01, 2.69842281e+01, 2.76394751e+01,\n",
       "       2.79466628e+01, 2.75657893e+01, 2.67838798e+01, 2.61076932e+01,\n",
       "       2.58225861e+01])"
      ]
     },
     "execution_count": 13,
     "metadata": {},
     "output_type": "execute_result"
    }
   ],
   "source": [
    "N.bird.Ploopl[0][0]"
   ]
  },
  {
   "cell_type": "code",
   "execution_count": 14,
   "id": "59cafba8-e385-4839-bce4-ba327f6c2c08",
   "metadata": {},
   "outputs": [],
   "source": [
    "N.bird.P11l += outputs[3].reshape(shape_3)*pk_max\n",
    "N.bird.Pctl += outputs[4].reshape(shape_6)*pk_max\n",
    "N.bird.Ploopl += outputs[5].reshape(shape_35)*pk_max**2\n",
    "\n"
   ]
  },
  {
   "cell_type": "code",
   "execution_count": 15,
   "id": "65af2542-f820-49ab-a426-2fdfc388d4aa",
   "metadata": {},
   "outputs": [
    {
     "data": {
      "text/plain": [
       "array([0.00000000e+00, 8.18401096e-03, 7.64817663e-02, 2.48822805e-01,\n",
       "       5.28526863e-01, 8.89894176e-01, 1.29804535e+00, 1.72369200e+00,\n",
       "       2.26275867e+00, 2.71510583e+00, 3.18208838e+00, 3.68318397e+00,\n",
       "       4.24060146e+00, 5.54585750e+00, 7.05963986e+00, 8.57632771e+00,\n",
       "       9.84244173e+00, 1.06825672e+01, 1.10932019e+01, 1.12464584e+01,\n",
       "       1.14317959e+01, 1.19428241e+01, 1.29920302e+01, 1.45930362e+01,\n",
       "       1.65607099e+01, 1.85641402e+01, 2.02346285e+01, 2.13181513e+01,\n",
       "       2.17242071e+01, 2.15464764e+01, 2.10160116e+01, 2.04433808e+01,\n",
       "       2.01100640e+01, 2.02174164e+01, 2.08379606e+01, 2.18664344e+01,\n",
       "       2.30789558e+01, 2.42276274e+01, 2.51133025e+01, 2.56423622e+01,\n",
       "       2.58155277e+01, 2.57010593e+01, 2.54134103e+01, 2.50727920e+01,\n",
       "       2.47940100e+01, 2.46765010e+01, 2.47616795e+01, 2.50111418e+01,\n",
       "       2.53431433e+01, 2.56756006e+01, 2.59461935e+01, 2.61231487e+01,\n",
       "       2.61985093e+01, 2.61748772e+01, 2.60800862e+01, 2.59582063e+01,\n",
       "       2.58546217e+01, 2.57833471e+01, 2.57358072e+01, 2.56963154e+01,\n",
       "       2.56629570e+01, 2.56436320e+01, 2.56310920e+01, 2.56093321e+01,\n",
       "       2.55665751e+01, 2.54959205e+01, 2.54113653e+01, 2.52346480e+01,\n",
       "       2.50510484e+01, 2.48754592e+01, 2.46914868e+01, 2.44743635e+01,\n",
       "       2.42786524e+01, 2.40682681e+01, 2.38358925e+01, 2.35811322e+01,\n",
       "       2.33267202e+01])"
      ]
     },
     "execution_count": 15,
     "metadata": {},
     "output_type": "execute_result"
    }
   ],
   "source": [
    "N_bird.bird.Ploopl[0][0]"
   ]
  },
  {
   "cell_type": "code",
   "execution_count": 16,
   "id": "a0320297-d7e4-42e0-8da5-303912bef0a9",
   "metadata": {},
   "outputs": [
    {
     "data": {
      "text/plain": [
       "array([0.00000000e+00, 8.18401096e-03, 7.64817663e-02, 2.48822805e-01,\n",
       "       5.28526863e-01, 8.89894176e-01, 1.29804535e+00, 1.72369200e+00,\n",
       "       2.26275866e+00, 2.71510583e+00, 3.18208837e+00, 3.68318397e+00,\n",
       "       4.24060147e+00, 5.54585750e+00, 7.05963988e+00, 8.57632772e+00,\n",
       "       9.84244171e+00, 1.06825672e+01, 1.10932019e+01, 1.12464584e+01,\n",
       "       1.14317958e+01, 1.19428241e+01, 1.29920301e+01, 1.45930362e+01,\n",
       "       1.65607099e+01, 1.85641402e+01, 2.02346286e+01, 2.13181514e+01,\n",
       "       2.17242072e+01, 2.15464764e+01, 2.10160116e+01, 2.04433808e+01,\n",
       "       2.01100640e+01, 2.02174164e+01, 2.08379605e+01, 2.18664344e+01,\n",
       "       2.30789559e+01, 2.42276274e+01, 2.51133026e+01, 2.56423623e+01,\n",
       "       2.58155281e+01, 2.57010592e+01, 2.54134103e+01, 2.50727919e+01,\n",
       "       2.47940100e+01, 2.46765010e+01, 2.47616795e+01, 2.50111418e+01,\n",
       "       2.53431433e+01, 2.56756006e+01, 2.59461937e+01, 2.61231490e+01,\n",
       "       2.61985096e+01, 2.61748771e+01, 2.60800863e+01, 2.59582065e+01,\n",
       "       2.58546217e+01, 2.57833471e+01, 2.57358072e+01, 2.56963154e+01,\n",
       "       2.56629570e+01, 2.56436322e+01, 2.56310921e+01, 2.56093322e+01,\n",
       "       2.55665751e+01, 2.54959205e+01, 2.54113653e+01, 2.52346478e+01,\n",
       "       2.50510485e+01, 2.48754593e+01, 2.46914868e+01, 2.44743638e+01,\n",
       "       2.42786526e+01, 2.40682683e+01, 2.38358925e+01, 2.35811324e+01,\n",
       "       2.33267203e+01])"
      ]
     },
     "execution_count": 16,
     "metadata": {},
     "output_type": "execute_result"
    }
   ],
   "source": [
    "N.bird.Ploopl[0][0]"
   ]
  },
  {
   "cell_type": "code",
   "execution_count": 17,
   "id": "8f296e89-8fe1-4f7d-8006-32162ab3cd34",
   "metadata": {},
   "outputs": [],
   "source": [
    "bpk_recovered = N.get(eft_params)"
   ]
  },
  {
   "cell_type": "code",
   "execution_count": 18,
   "id": "253f13bf-7ae7-48a3-aa14-680df84a49f6",
   "metadata": {},
   "outputs": [
    {
     "data": {
      "text/plain": [
       "array([15546.046221  , 28993.75035143, 46185.86793839, 58082.52279579,\n",
       "       65881.49495249, 70488.65051879, 72600.00336628, 72776.81899798,\n",
       "       71490.86794325, 69161.98604965, 66141.81918763, 62716.12714569,\n",
       "       59135.62542325, 52215.70013339, 46306.33825128, 41719.50960795,\n",
       "       38344.24285887, 35878.68964958, 33942.9413469 , 32188.33431652,\n",
       "       30375.40886   , 28402.58339994, 26300.3789604 , 24187.81631782,\n",
       "       22207.10263008, 20474.62430832, 19049.62263196, 17931.2628911 ,\n",
       "       17073.66628971, 16402.78624176, 15838.58104249, 15307.51271103,\n",
       "       14758.58642631, 14170.28562261, 13547.85160636, 12915.82377003,\n",
       "       12305.31349629, 11743.5930313 , 11248.16710823, 10824.55905023,\n",
       "       10467.198787  , 10162.53819185,  9893.61656818,  9644.31707616,\n",
       "        9401.58590072,  9157.09177657,  8909.03174863,  8660.2576904 ,\n",
       "        8416.23929478,  8183.03902622,  7964.90017319,  7764.04224352,\n",
       "        7580.68929687,  7412.88420696,  7258.35059029,  7114.12091841,\n",
       "        6977.67858517,  6846.13653507,  6717.5262856 ,  6590.81515287,\n",
       "        6466.50551041,  6346.2557262 ,  6231.03706524,  6121.32102332,\n",
       "        6017.25635672,  5918.21231189,  5824.38226919,  5649.7617915 ,\n",
       "        5488.29066803,  5337.25626622,  5194.97086323,  5060.73725063,\n",
       "        4937.08603863,  4822.31164617,  4714.82801972,  4613.10736201,\n",
       "        4516.55988042])"
      ]
     },
     "execution_count": 18,
     "metadata": {},
     "output_type": "execute_result"
    }
   ],
   "source": [
    "bpk_recovered[0]"
   ]
  },
  {
   "cell_type": "code",
   "execution_count": 19,
   "id": "51a77181-8394-44af-af35-f20ddf0e614a",
   "metadata": {},
   "outputs": [
    {
     "data": {
      "text/plain": [
       "array([15546.046221  , 28993.75035143, 46185.86793839, 58082.52279579,\n",
       "       65881.49495249, 70488.65051879, 72600.00336628, 72776.81899798,\n",
       "       71490.86794244, 69161.98604974, 66141.81918792, 62716.12714561,\n",
       "       59135.62542268, 52215.700134  , 46306.33825182, 41719.50961135,\n",
       "       38344.24286072, 35878.68965429, 33942.94135185, 32188.3343158 ,\n",
       "       30375.4088634 , 28402.58340531, 26300.37895861, 24187.81632006,\n",
       "       22207.10262679, 20474.62430499, 19049.62262982, 17931.26288073,\n",
       "       17073.66628487, 16402.78624676, 15838.58103711, 15307.51271498,\n",
       "       14758.58642903, 14170.28562495, 13547.85161288, 12915.8237636 ,\n",
       "       12305.31349687, 11743.59303126, 11248.16710648, 10824.55905025,\n",
       "       10467.19877955, 10162.53818819,  9893.61656739,  9644.31707473,\n",
       "        9401.58589957,  9157.09177849,  8909.03174887,  8660.25769015,\n",
       "        8416.23930183,  8183.03903111,  7964.90017202,  7764.04223428,\n",
       "        7580.68928829,  7412.88420152,  7258.35059084,  7114.12091688,\n",
       "        6977.67858655,  6846.13653073,  6717.52628642,  6590.81514657,\n",
       "        6466.50550734,  6346.25572703,  6231.03706355,  6121.32101867,\n",
       "        6017.25635406,  5918.21230631,  5824.38226465,  5649.76178885,\n",
       "        5488.29066206,  5337.25626657,  5194.97085844,  5060.73724349,\n",
       "        4937.08603901,  4822.31164583,  4714.82802451,  4613.1073611 ,\n",
       "        4516.55987875])"
      ]
     },
     "execution_count": 19,
     "metadata": {},
     "output_type": "execute_result"
    }
   ],
   "source": [
    "bpk_benchmark[0]"
   ]
  },
  {
   "cell_type": "code",
   "execution_count": 20,
   "id": "4abde7a6-a40b-48ff-9226-e2e0c8e5f92f",
   "metadata": {},
   "outputs": [
    {
     "data": {
      "text/plain": [
       "[<matplotlib.lines.Line2D at 0x153357772d10>]"
      ]
     },
     "execution_count": 20,
     "metadata": {},
     "output_type": "execute_result"
    },
    {
     "data": {
      "image/png": "[encoded data removed]",
      "text/plain": [
       "<Figure size 640x480 with 1 Axes>"
      ]
     },
     "metadata": {},
     "output_type": "display_data"
    }
   ],
   "source": [
    "plt.plot(bpk_recovered.flatten()[:]/bpk_benchmark.flatten()[:])"
   ]
  },
  {
   "cell_type": "markdown",
   "id": "cc9c87ed-12e1-4cc8-9d11-27e64fad7400",
   "metadata": {},
   "source": [
    "### Next lets test this with the decomposition algorithm as well "
   ]
  },
  {
   "cell_type": "code",
   "execution_count": 21,
   "id": "68ec689b-aed9-41e3-962d-f93da56dfa2a",
   "metadata": {},
   "outputs": [
    {
     "name": "stdout",
     "output_type": "stream",
     "text": [
      "loading matrices!\n"
     ]
    }
   ],
   "source": [
    "N = Correlator()\n",
    "# Set up pybird in time unspecified mode for the computation of the pybird pieces training data\n",
    "N.set(\n",
    "    {\n",
    "        \"output\": \"bPk\",\n",
    "        \"multipole\": 3,\n",
    "        \"kmax\": 0.4, #new kmax so dont have to filter out the large ks! \n",
    "        \"fftaccboost\": 2,\n",
    "        \"with_resum\": True, # needed for the computation  \n",
    "        \"with_exact_time\": True,\n",
    "        \"with_time\": False,  # time unspecified\n",
    "\n",
    "        # \"with_time\": False,  # time unspecified\n",
    "        \"km\": 1.0,\n",
    "        \"kr\": 1.0,\n",
    "        \"nd\": 3e-4,\n",
    "        \"eft_basis\": \"eftoflss\",\n",
    "        \"with_stoch\": True,\n",
    "    }\n",
    ")"
   ]
  },
  {
   "cell_type": "code",
   "execution_count": 22,
   "id": "87dfeb3c-79e7-4285-bff0-baa703e6438c",
   "metadata": {},
   "outputs": [
    {
     "name": "stdout",
     "output_type": "stream",
     "text": [
      "setting EdS time approximation\n"
     ]
    }
   ],
   "source": [
    "N.compute({'kk': kk, 'pk_lin': pk_lin, 'D': D1, 'f': f1, 'z': z, 'Omega0_m': Omega0_m},\n",
    "          do_core=True, do_survey_specific=True)"
   ]
  },
  {
   "cell_type": "code",
   "execution_count": 23,
   "id": "ed5adb86-0b87-4fe1-a046-7a67d4a555d1",
   "metadata": {},
   "outputs": [],
   "source": [
    "filename_config = \"/cluster/work/refregier/alexree/local_packages/train_pybird_emulators/src/train_pybird_emulators/configs/config_pybird_80_knots_5sigma.yaml\"\n",
    "config_loaded = emu_utils.read_yaml_file(filename_config)\n",
    "parameters_dicts = config_loaded[\"parameters\"]"
   ]
  },
  {
   "cell_type": "code",
   "execution_count": 24,
   "id": "17c6a207-822d-48cd-83df-b7bea98a995b",
   "metadata": {},
   "outputs": [],
   "source": [
    "knots = np.load(\"/cluster/work/refregier/alexree/local_packages/pybird_emu/data/emu/knots.npy\")\n",
    "# slightly modify the start and end knot to fall in the range of k we are using so that the interpolation does not fail\n",
    "eps = 1e-10\n",
    "knots[0] = knots[0] + eps\n",
    "knots[-1] = knots[-1] - eps\n",
    "param_realization = [] \n",
    "pk_i = 1.*pk_lin\n",
    "f_i = 1.*f1\n",
    "#Get the spline params\n",
    "ilogpk = interp1d(np.log(kk), np.log(pk_norm), kind = 'cubic')\n",
    "spline_params = emu_utils.get_spline_params(knots,ilogpk)\n",
    "param_realization.extend(list(spline_params))\n",
    "param_realization.append(pk_max)\n",
    "param_realization.append(f_i)\n",
    "emu_inputs_i = np.array(param_realization)"
   ]
  },
  {
   "cell_type": "code",
   "execution_count": null,
   "id": "33ce16de-ee11-41df-be0b-5eec947578ba",
   "metadata": {},
   "outputs": [
    {
     "name": "stdout",
     "output_type": "stream",
     "text": [
      "setting EdS time approximation\n"
     ]
    }
   ],
   "source": [
    "outputs_params = get_pgg_from_params(emu_inputs_i, parameters_dicts, N, kk, knots)"
   ]
  },
  {
   "cell_type": "code",
   "execution_count": null,
   "id": "266d5a5c-7804-43f7-a8a7-9a0a0fd7caf8",
   "metadata": {},
   "outputs": [],
   "source": [
    "N = Correlator()\n",
    "# Set up pybird in time unspecified mode for the computation of the pybird pieces training data\n",
    "N.set(\n",
    "    {\n",
    "        \"output\": \"bPk\",\n",
    "        \"multipole\": 3,\n",
    "        \"kmax\": 0.4, #new kmax so dont have to filter out the large ks! \n",
    "        \"fftaccboost\": 2,\n",
    "        \"with_resum\": False, # add by hand below \n",
    "        \"with_exact_time\": True,\n",
    "        \"with_time\": False,  # time unspecified\n",
    "\n",
    "        # \"with_time\": False,  # time unspecified\n",
    "        \"km\": 1.0,\n",
    "        \"kr\": 1.0,\n",
    "        \"nd\": 3e-4,\n",
    "        \"eft_basis\": \"eftoflss\",\n",
    "        \"with_stoch\": True,\n",
    "    }\n",
    ")\n",
    "\n",
    "N.compute({'kk': kk, 'pk_lin': pk_lin, 'D': D1, 'f': f1, 'z': z, 'Omega0_m': Omega0_m},\n",
    "          do_core=True, do_survey_specific=True)"
   ]
  },
  {
   "cell_type": "code",
   "execution_count": null,
   "id": "226e1f16-eaac-49ab-be46-4126c2e13b5b",
   "metadata": {},
   "outputs": [],
   "source": [
    "N.bird.P11l += outputs_params[3].reshape(shape_3)*pk_max\n",
    "N.bird.Pctl += outputs_params[4].reshape(shape_6)*pk_max\n",
    "N.bird.Ploopl = outputs_params[2].reshape(shape_ploop)*pk_max**2 + outputs[5].reshape(shape_35)*pk_max**2"
   ]
  },
  {
   "cell_type": "code",
   "execution_count": null,
   "id": "35a9b9dd-aec7-4eea-afb3-8d66b9b07e5c",
   "metadata": {},
   "outputs": [],
   "source": [
    "bpk_recovered2 = N.get(eft_params)"
   ]
  },
  {
   "cell_type": "code",
   "execution_count": null,
   "id": "b4aee4bb-aae3-41fe-b83b-3916abcd751d",
   "metadata": {},
   "outputs": [],
   "source": [
    "plt.plot(bpk_recovered2.flatten()/bpk_benchmark.flatten())"
   ]
  },
  {
   "cell_type": "markdown",
   "id": "c8d97ab9-1bc0-40cb-a0b0-6c65a559eb45",
   "metadata": {},
   "source": [
    "### Good now lets try to understand where the emulator goes wrong here"
   ]
  },
  {
   "cell_type": "code",
   "execution_count": null,
   "id": "0efbdb14-d7e3-4e37-947a-23a04b0ed9c8",
   "metadata": {},
   "outputs": [],
   "source": [
    "from pybird import config\n",
    "config.set_jax_enabled(True) # Enable JAX by setting the config Class\n",
    "import jax.numpy as jnp "
   ]
  },
  {
   "cell_type": "code",
   "execution_count": null,
   "id": "2d59e5ea-fecb-4ff0-998a-95d5b49a34cf",
   "metadata": {},
   "outputs": [],
   "source": [
    "N_emu = Correlator()\n",
    "# Set up pybird in time unspecified mode for the computation of the pybird pieces training data\n",
    "N_emu.set(\n",
    "    {\n",
    "        \"output\": \"bPk\",\n",
    "        \"multipole\": 3,\n",
    "        \"kmax\": 0.4, #new kmax so dont have to filter out the large ks! \n",
    "        \"fftaccboost\": 2,\n",
    "        \"with_resum\": True, # add resum in by hand below \n",
    "        \"with_exact_time\": True,\n",
    "        \"with_time\": False,  # time unspecified\n",
    "        \"with_emu\":True,\n",
    "        # \"with_time\": False,  # time unspecified\n",
    "        \"km\": 1.0,\n",
    "        \"kr\": 1.0,\n",
    "        \"nd\": 3e-4,\n",
    "        \"eft_basis\": \"eftoflss\",\n",
    "        \"with_stoch\": True,\n",
    "    }\n",
    ")"
   ]
  },
  {
   "cell_type": "code",
   "execution_count": null,
   "id": "e60b42e5-806a-4c06-867c-792d48e0f1ee",
   "metadata": {},
   "outputs": [],
   "source": [
    "N_emu.compute({'kk': jnp.array(kk), 'pk_lin': jnp.array(pk_lin), 'D': D1, 'f': f1, 'z': jnp.array(z), 'Omega0_m': Omega0_m},\n",
    "          do_core=True, do_survey_specific=True)"
   ]
  },
  {
   "cell_type": "code",
   "execution_count": null,
   "id": "a13a62fa-e632-47f6-9e9d-d494277c8be1",
   "metadata": {},
   "outputs": [],
   "source": [
    "bpk_recovered_emu = N_emu.get(eft_params)"
   ]
  },
  {
   "cell_type": "code",
   "execution_count": null,
   "id": "3265d377-387f-4623-8bca-b6ef9df0fde4",
   "metadata": {},
   "outputs": [],
   "source": [
    "plt.plot(bpk_recovered_emu.flatten()[0:77]/bpk_benchmark.flatten()[:77])"
   ]
  },
  {
   "cell_type": "code",
   "execution_count": null,
   "id": "4c577c4f-b5ff-4015-88c0-2e484cea6d51",
   "metadata": {},
   "outputs": [],
   "source": [
    "plt.plot(N.bird.Ploopl[0][1])\n",
    "plt.plot(N_emu.bird.Ploopl[0][1],'r--')\n"
   ]
  },
  {
   "cell_type": "markdown",
   "id": "91509412-fabd-4f54-b901-a4d7987fcff7",
   "metadata": {},
   "source": [
    "### How representative is this training data really "
   ]
  },
  {
   "cell_type": "code",
   "execution_count": null,
   "id": "ae94348e-e5e1-4130-8018-b3737d95dbbf",
   "metadata": {},
   "outputs": [],
   "source": [
    "import h5py\n",
    "\n",
    "database = \"/cluster/scratch/areeves/pk_bank_boss_gaussian_cov_fixed_bug2/total_data.h5\"\n",
    "# database = \"/cluster/work/refregier/alexree/local_packages/train_pybird_emulators/src/train_pybird_emulators/notebooks/merged_output2.h5\"\n",
    "\n",
    "with h5py.File(database, \"r\") as f: \n",
    "    print(f.keys())\n",
    "    pk_lin_array = f[\"pk_lin\"][:]\n",
    "    kk = f[\"kk\"][:]"
   ]
  },
  {
   "cell_type": "code",
   "execution_count": null,
   "id": "48c50769-d6f0-4a13-8183-4daedf382084",
   "metadata": {},
   "outputs": [],
   "source": [
    "kk = kk[:1000]"
   ]
  },
  {
   "cell_type": "code",
   "execution_count": null,
   "id": "c3f054d4-ffc9-4fea-869f-d34fbdc402bd",
   "metadata": {
    "scrolled": true
   },
   "outputs": [],
   "source": [
    "fig, ax = plt.subplots()\n",
    "\n",
    "for i in range(5000):\n",
    "    plt.loglog(kk, pk_lin_array[i]/np.amax(pk_lin_array[i]), 'b--', alpha=0.01)\n",
    "\n",
    "plt.loglog(kk, pk_lin/np.amax(pk_lin), lw=1)"
   ]
  },
  {
   "cell_type": "markdown",
   "id": "3dcf83e2-1517-4ac3-97d0-166a038bfb97",
   "metadata": {},
   "source": [
    "### Here is the issue: N_ur us causing all of the equality scales to be much earlier? "
   ]
  },
  {
   "cell_type": "code",
   "execution_count": null,
   "id": "42bfcf52-0421-43fc-840a-d89ad2ff5ed4",
   "metadata": {},
   "outputs": [],
   "source": [
    "M = Class()\n",
    "cosmo = {'omega_b': 0.02235, 'omega_cdm': 0.120, 'h': 0.675, 'ln10^{10}A_s': 3.044, 'n_s': 0.965}\n",
    "M.set(cosmo)\n",
    "M.set({'output': 'mPk', 'P_k_max_h/Mpc': 10, 'z_max_pk': z})\n",
    "M.compute()\n",
    "pk_lin = np.array([M.pk_lin(k*M.h(), z)*M.h()**3 for k in kk]) # k in Mpc/h, pk in (Mpc/h)^3"
   ]
  },
  {
   "cell_type": "code",
   "execution_count": null,
   "id": "dd178f12-98d3-4208-a859-21c237fb96bd",
   "metadata": {},
   "outputs": [],
   "source": [
    "M.Omega_m()"
   ]
  },
  {
   "cell_type": "code",
   "execution_count": null,
   "id": "49afc8b6-e7f3-4611-b068-fd96d1c8ef80",
   "metadata": {},
   "outputs": [],
   "source": [
    "# params = {'omega_b': 0.02235, 'omega_m': 0.315, 'h': 0.675, 'ln10^{10}A_s': 3.044, 'n_s': 0.965,} #'Omega_k': 0.,} #'m_ncdm': 0.02, 'N_ur': 0.00641}\n",
    "\n",
    "params = {'omega_b': 0.02235, 'Omega_m':0.3124279835390946, 'h': 0.675, 'ln10^{10}A_s': 3.044, 'n_s': 0.965, 'Omega_k': 0., 'm_ncdm': 0.02, 'N_ur': 0.00641}\n",
    "\n",
    "# params = {'omega_b': 0.02235, 'omega_cdm': 0.120, 'h': 0.675, 'ln10^{10}A_s': 3.044, 'n_s': 0.965,} #'Omega_k': 0.,} #'m_ncdm': 0.02, 'N_ur': 0.00641}\n"
   ]
  },
  {
   "cell_type": "code",
   "execution_count": null,
   "id": "e939dd5c-43b7-4f52-94ce-c62690599d29",
   "metadata": {},
   "outputs": [],
   "source": [
    "cosmo = Class()\n",
    "#set the parameters\n",
    "cosmo.set(params)\n",
    "#compute the power spectrum\n",
    "cosmo.set({\"output\":\"mPk\", \n",
    "            \"N_ncdm\": 1,\n",
    "            \"deg_ncdm\": 3, #3 degenerate neutrino mass specied\n",
    "           \"P_k_max_1/Mpc\": 10.,\n",
    "           'z_max_pk': z})\n",
    "cosmo.compute()\n",
    "pk_lin_mean = np.array([cosmo.pk_lin(k*cosmo.h(), z)*cosmo.h()**3 for k in kk]) # k in Mpc/h, pk in (Mpc/h)^3\n"
   ]
  },
  {
   "cell_type": "code",
   "execution_count": null,
   "id": "a3301357-e7b1-4a45-801a-9ba4c4297178",
   "metadata": {},
   "outputs": [],
   "source": [
    "cosmo.Omega_Lambda()"
   ]
  },
  {
   "cell_type": "code",
   "execution_count": null,
   "id": "3e6ca842-f48b-4e45-9ac0-5f604074ed16",
   "metadata": {},
   "outputs": [],
   "source": [
    "M.Omega_Lambda()"
   ]
  },
  {
   "cell_type": "code",
   "execution_count": null,
   "id": "bf33713c-46ea-4dd1-94c7-5314a8b603b2",
   "metadata": {},
   "outputs": [],
   "source": [
    "plt.loglog(kk, pk_lin_mean/np.amax(pk_lin_mean), 'r')\n",
    "plt.loglog(kk, pk_lin/np.amax(pk_lin))"
   ]
  },
  {
   "cell_type": "code",
   "execution_count": null,
   "id": "a78d0cbf-736f-4353-9144-a960973719b9",
   "metadata": {},
   "outputs": [],
   "source": []
  }
 ],
 "metadata": {
  "kernelspec": {
   "display_name": "pybird_emu_train",
   "language": "python",
   "name": "pybird_emu_train"
  },
  "language_info": {
   "codemirror_mode": {
    "name": "ipython",
    "version": 3
   },
   "file_extension": ".py",
   "mimetype": "text/x-python",
   "name": "python",
   "nbconvert_exporter": "python",
   "pygments_lexer": "ipython3",
   "version": "3.11.6"
  }
 },
 "nbformat": 4,
 "nbformat_minor": 5
}
