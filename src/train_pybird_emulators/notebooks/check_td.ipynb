{
 "cells": [
  {
   "cell_type": "code",
   "execution_count": 1,
   "id": "8ed01bda-d7f0-4627-90d7-368345cca9bf",
   "metadata": {},
   "outputs": [],
   "source": [
    "import numpy as np \n",
    "import h5py "
   ]
  },
  {
   "cell_type": "code",
   "execution_count": 2,
   "id": "1c66b008-043f-45d3-be62-33399c76046e",
   "metadata": {},
   "outputs": [
    {
     "name": "stdout",
     "output_type": "stream",
     "text": [
      "<KeysViewHDF5 ['IRPs11', 'IRPsct', 'IRPsloop', 'P11l', 'Pctl', 'Ploopl', 'params']>\n",
      "[[-3.45864463e+00 -3.72670454e+00 -4.11450986e+00 ... -2.23120701e+00\n",
      "   4.19202241e+03  9.61501788e-01]\n",
      " [-5.12134770e-01 -2.42926157e-01 -6.36985495e-01 ... -4.18565162e+00\n",
      "   1.22075631e+03  9.32935884e-01]\n",
      " [-6.67703802e+00 -6.27066965e+00 -5.86430021e+00 ... -2.42069190e+00\n",
      "   1.24054464e+03  9.84604139e-01]\n",
      " ...\n",
      " [-3.56529763e-01 -1.32637665e-01 -3.37292224e-01 ... -4.80066254e+00\n",
      "   1.20853578e+04  8.51069218e-01]\n",
      " [-5.91674750e+00 -5.52055790e+00 -4.73425023e+00 ... -3.45038063e+00\n",
      "   1.46276869e+03  9.95571229e-01]\n",
      " [-9.63491321e-01 -6.81968110e-01 -4.00444155e-01 ... -3.32001090e+00\n",
      "   2.80178435e+04  8.21177579e-01]]\n"
     ]
    }
   ],
   "source": [
    "with h5py.File(\"/cluster/work/refregier/alexree/local_packages/train_pybird_emulators/src/train_pybird_emulators/data/training_data/new_training_input/total_data.h5\", \"r\") as f: \n",
    "    print(f.keys())\n",
    "    print(f[\"params\"][:])"
   ]
  },
  {
   "cell_type": "code",
   "execution_count": 3,
   "id": "9e304788-b4eb-4682-80d6-6c993b607d43",
   "metadata": {},
   "outputs": [
    {
     "name": "stdout",
     "output_type": "stream",
     "text": [
      "<KeysViewHDF5 ['IRPs11', 'IRPsct', 'IRPsloop', 'P11l', 'Pctl', 'Ploopl', 'params']>\n",
      "[[-3.45864463e+00 -3.72670454e+00 -4.11450986e+00 ... -2.23120701e+00\n",
      "   4.19202241e+03  9.61501788e-01]\n",
      " [-5.12134770e-01 -2.42926157e-01 -6.36985495e-01 ... -4.18565162e+00\n",
      "   1.22075631e+03  9.32935884e-01]\n",
      " [-6.67703802e+00 -6.27066965e+00 -5.86430021e+00 ... -2.42069190e+00\n",
      "   1.24054464e+03  9.84604139e-01]\n",
      " ...\n",
      " [-3.56529763e-01 -1.32637665e-01 -3.37292224e-01 ... -4.80066254e+00\n",
      "   1.20853578e+04  8.51069218e-01]\n",
      " [-5.91674750e+00 -5.52055790e+00 -4.73425023e+00 ... -3.45038063e+00\n",
      "   1.46276869e+03  9.95571229e-01]\n",
      " [-9.63491321e-01 -6.81968110e-01 -4.00444155e-01 ... -3.32001090e+00\n",
      "   2.80178435e+04  8.21177579e-01]]\n"
     ]
    }
   ],
   "source": [
    "with h5py.File(\"/cluster/scratch/areeves/pybird_training_data_pybird_emu_input_final/total_data.h5\", \"r\") as f: \n",
    "    print(f.keys())\n",
    "    print(f[\"params\"][:])"
   ]
  },
  {
   "cell_type": "code",
   "execution_count": null,
   "id": "3385db09-48e9-4adb-b0fa-c88630f9ed00",
   "metadata": {},
   "outputs": [],
   "source": []
  }
 ],
 "metadata": {
  "kernelspec": {
   "display_name": "pybird_emu",
   "language": "python",
   "name": "pybird_emu"
  },
  "language_info": {
   "codemirror_mode": {
    "name": "ipython",
    "version": 3
   },
   "file_extension": ".py",
   "mimetype": "text/x-python",
   "name": "python",
   "nbconvert_exporter": "python",
   "pygments_lexer": "ipython3",
   "version": "3.11.6"
  }
 },
 "nbformat": 4,
 "nbformat_minor": 5
}
