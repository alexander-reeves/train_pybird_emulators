{
 "cells": [
  {
   "cell_type": "code",
   "execution_count": 1,
   "id": "9c3ae628-44ca-4d5f-9d84-b29e03b444ee",
   "metadata": {},
   "outputs": [],
   "source": [
    "import jax\n",
    "import jax.numpy as jnp\n",
    "import numpy as np\n",
    "import numpyro\n",
    "from numpyro import distributions as dist\n",
    "from numpyro.infer import MCMC, NUTS, HMC\n",
    "from functools import partial\n",
    "import matplotlib.pyplot as plt\n",
    "from tqdm.notebook import tqdm\n",
    "import logging\n",
    "from jax.scipy.linalg import cholesky\n",
    "\n",
    "# Set logging level to INFO to display progress bar messages\n",
    "logger = logging.getLogger()\n",
    "logger.setLevel(logging.INFO)\n",
    "from jax import config\n",
    "#check that Jax is using the GPU \n",
    "config.update(\"jax_enable_x64\", True)"
   ]
  },
  {
   "cell_type": "code",
   "execution_count": 2,
   "id": "5ca7a275-ef4a-4a63-ba6f-dfb693866f2e",
   "metadata": {},
   "outputs": [],
   "source": [
    "params_array = np.load(\"params_array_from_lhc_new.npy\")[:1000, :80]\n",
    "knots = np.load(\"/cluster/work/refregier/alexree/local_packages/train_pybird_emulators/src/train_pybird_emulators/data/knots_data/final_knots_80.npy\")"
   ]
  },
  {
   "cell_type": "code",
   "execution_count": 3,
   "id": "665ca6ee-4b8b-46eb-ac43-2e7ce266a6b9",
   "metadata": {},
   "outputs": [
    {
     "data": {
      "text/plain": [
       "(1000, 80)"
      ]
     },
     "execution_count": 3,
     "metadata": {},
     "output_type": "execute_result"
    }
   ],
   "source": [
    "params_array.shape "
   ]
  },
  {
   "cell_type": "code",
   "execution_count": 4,
   "id": "eb9205de-54b2-4b89-98bc-544d5d8156db",
   "metadata": {},
   "outputs": [
    {
     "name": "stderr",
     "output_type": "stream",
     "text": [
      "2024-10-14 07:12:36.421757: W external/xla/xla/service/gpu/nvptx_compiler.cc:930] The NVIDIA driver's CUDA version is 12.4 which is older than the PTX compiler version 12.6.77. Because the driver is older than the PTX compiler version, XLA is disabling parallel compilation, which may slow down compilation. You should update your NVIDIA driver or use the NVIDIA-provided CUDA forward compatibility packages.\n"
     ]
    }
   ],
   "source": [
    "params_mean = jnp.mean(params_array, axis=0)"
   ]
  },
  {
   "cell_type": "code",
   "execution_count": 5,
   "id": "b73b5b09-948e-493c-b6ad-e91ae5a3b443",
   "metadata": {},
   "outputs": [
    {
     "data": {
      "text/plain": [
       "(80,)"
      ]
     },
     "execution_count": 5,
     "metadata": {},
     "output_type": "execute_result"
    }
   ],
   "source": [
    "params_mean.shape "
   ]
  },
  {
   "cell_type": "code",
   "execution_count": 6,
   "id": "567ac4dd-34c6-4543-a563-c011ca021720",
   "metadata": {},
   "outputs": [],
   "source": [
    "# Modify the kernel function to have different amplitudes and lengthscales at each knot\n",
    "# Define the squared exponential kernel function\n",
    "def squared_exponential_kernel(x1, x2, amplitude, lengthscale):\n",
    "    sqdist = jnp.sum((x1[:, None] - x2[None, :]) ** 2, axis=-1)\n",
    "    return amplitude**2 * jnp.exp(-0.5 * sqdist / lengthscale**2)\n",
    "\n",
    "# Gaussian Process model with a known mean\n",
    "def gp_model_with_mean(k_array, params_array):\n",
    "    jitter = 1e-6  # Add a small jitter to avoid numerical instabilities\n",
    "    n_points = len(k_array)\n",
    "    \n",
    "    # Calculate the mean function from the params_array\n",
    "    params_mean = jnp.mean(params_array, axis=0)  # Mean across realizations (shape: n_points)\n",
    "\n",
    "    # Define the amplitude and lengthscale for the GP residuals\n",
    "    amplitude = numpyro.sample('amplitude', dist.LogNormal(0.0, 0.5))\n",
    "    lengthscale = numpyro.sample('lengthscale', dist.LogNormal(0.0, 0.5))\n",
    "    \n",
    "    # Compute the covariance matrix using the squared exponential kernel\n",
    "    cov = squared_exponential_kernel(k_array, k_array, amplitude, lengthscale) + jitter * jnp.eye(n_points)\n",
    "    \n",
    "    # Perform Cholesky decomposition for efficient sampling\n",
    "    chol_cov = cholesky(cov, lower=True)\n",
    "    \n",
    "    # Sample from the GP residuals (these are deviations from the mean)\n",
    "    standard_normal = numpyro.sample('standard_normal', dist.Normal(0.0, 1.0).expand([n_points]))\n",
    "    f_residuals = jnp.dot(chol_cov, standard_normal)\n",
    "    \n",
    "    # The full function is the mean + GP residuals\n",
    "    f_samples = params_mean + f_residuals\n",
    "    \n",
    "    # Define the likelihood, where we compare the GP samples to the original data\n",
    "    numpyro.sample('obs', dist.Normal(f_samples, 1e-6), obs=params_array)"
   ]
  },
  {
   "cell_type": "code",
   "execution_count": 24,
   "id": "eac55a61-6161-486f-8a6b-23c39716e72c",
   "metadata": {},
   "outputs": [
    {
     "name": "stderr",
     "output_type": "stream",
     "text": [
      "sample: 100%|██████████| 700/700 [06:55<00:00,  1.68it/s, 1023 steps of size 1.11e-14. acc. prob=0.79]\n"
     ]
    }
   ],
   "source": [
    "# Set up the NUTS sampler and MCMC\n",
    "nuts_kernel = NUTS(gp_model_with_mean)\n",
    "mcmc = MCMC(nuts_kernel, num_warmup=200, num_samples=500, num_chains=1)\n",
    "mcmc.run(jax.random.PRNGKey(1), knots, params_array)"
   ]
  },
  {
   "cell_type": "code",
   "execution_count": 25,
   "id": "51d90b06-3c54-4a57-8421-ea8dc1878deb",
   "metadata": {},
   "outputs": [
    {
     "name": "stdout",
     "output_type": "stream",
     "text": [
      "\n",
      "                         mean       std    median      5.0%     95.0%     n_eff     r_hat\n",
      "          amplitude      3.23      0.00      3.23      3.23      3.23      4.58      1.22\n",
      "        lengthscale      0.29      0.00      0.29      0.29      0.29      3.72      1.81\n",
      " standard_normal[0]      1.21      0.00      1.21      1.21      1.21      5.36      1.36\n",
      " standard_normal[1]      1.17      0.00      1.17      1.17      1.17      5.11      1.00\n",
      " standard_normal[2]      1.00      0.00      1.00      1.00      1.00      3.16      2.03\n",
      " standard_normal[3]      0.59      0.00      0.59      0.59      0.59      3.07      1.76\n",
      " standard_normal[4]      1.86      0.00      1.86      1.86      1.86      6.72      1.28\n",
      " standard_normal[5]      0.28      0.00      0.28      0.28      0.28      3.64      1.61\n",
      " standard_normal[6]      1.04      0.00      1.04      1.04      1.04      2.79      2.14\n",
      " standard_normal[7]     -1.24      0.00     -1.24     -1.24     -1.24      7.77      1.06\n",
      " standard_normal[8]     -0.03      0.00     -0.03     -0.03     -0.03      6.42      1.33\n",
      " standard_normal[9]     -0.79      0.00     -0.79     -0.79     -0.79      2.69      2.37\n",
      "standard_normal[10]     -1.63      0.00     -1.63     -1.63     -1.63      5.45      1.16\n",
      "standard_normal[11]     -0.74      0.00     -0.74     -0.74     -0.74      3.24      1.49\n",
      "standard_normal[12]     -0.72      0.00     -0.72     -0.72     -0.72      2.75      2.19\n",
      "standard_normal[13]      0.01      0.00      0.01      0.01      0.01      4.15      1.07\n",
      "standard_normal[14]     -1.31      0.00     -1.31     -1.31     -1.31      2.55      3.56\n",
      "standard_normal[15]      1.62      0.00      1.62      1.62      1.62      3.53      1.27\n",
      "standard_normal[16]      1.93      0.00      1.93      1.93      1.93      2.93      2.00\n",
      "standard_normal[17]      1.10      0.00      1.10      1.10      1.10      2.97      2.01\n",
      "standard_normal[18]     -0.53      0.00     -0.53     -0.53     -0.53      5.44      1.24\n",
      "standard_normal[19]     -0.34      0.00     -0.34     -0.34     -0.34      4.00      1.48\n",
      "standard_normal[20]      0.65      0.00      0.65      0.65      0.65      4.71      2.46\n",
      "standard_normal[21]     -0.17      0.00     -0.17     -0.17     -0.17      4.01      1.11\n",
      "standard_normal[22]      0.59      0.00      0.59      0.59      0.59      9.50      1.03\n",
      "standard_normal[23]     -1.80      0.00     -1.80     -1.80     -1.80      9.77      1.28\n",
      "standard_normal[24]     -0.85      0.00     -0.85     -0.85     -0.85      8.06      1.00\n",
      "standard_normal[25]     -1.93      0.00     -1.93     -1.93     -1.93      3.29      1.74\n",
      "standard_normal[26]      0.96      0.00      0.96      0.96      0.96      3.83      1.49\n",
      "standard_normal[27]      0.61      0.00      0.61      0.61      0.61      2.98      1.90\n",
      "standard_normal[28]     -1.36      0.00     -1.36     -1.36     -1.36      3.31      2.28\n",
      "standard_normal[29]     -0.10      0.00     -0.10     -0.10     -0.10      3.28      1.83\n",
      "standard_normal[30]      1.32      0.00      1.32      1.32      1.32      7.70      1.06\n",
      "standard_normal[31]      0.50      0.00      0.50      0.50      0.50      4.61      1.70\n",
      "standard_normal[32]     -1.95      0.00     -1.95     -1.95     -1.95     14.61      1.02\n",
      "standard_normal[33]      1.94      0.00      1.94      1.94      1.94      4.22      1.88\n",
      "standard_normal[34]      1.19      0.00      1.19      1.19      1.19      2.54      2.87\n",
      "standard_normal[35]     -1.28      0.00     -1.28     -1.28     -1.28      4.98      1.33\n",
      "standard_normal[36]      0.93      0.00      0.93      0.93      0.93      5.72      1.00\n",
      "standard_normal[37]     -0.48      0.00     -0.48     -0.48     -0.48      3.25      1.80\n",
      "standard_normal[38]     -0.83      0.00     -0.83     -0.83     -0.83     10.35      1.07\n",
      "standard_normal[39]      0.29      0.00      0.29      0.29      0.29      7.47      1.00\n",
      "standard_normal[40]      0.57      0.00      0.57      0.57      0.57      2.62      2.57\n",
      "standard_normal[41]     -1.24      0.00     -1.24     -1.24     -1.24      8.62      1.04\n",
      "standard_normal[42]     -1.87      0.00     -1.87     -1.87     -1.87      3.56      1.86\n",
      "standard_normal[43]     -0.32      0.00     -0.32     -0.32     -0.32      2.52      3.09\n",
      "standard_normal[44]      0.05      0.00      0.05      0.05      0.05      2.63      3.24\n",
      "standard_normal[45]     -1.63      0.00     -1.63     -1.63     -1.63      2.65      2.22\n",
      "standard_normal[46]      0.04      0.00      0.04      0.04      0.04      3.45      1.98\n",
      "standard_normal[47]      1.92      0.00      1.92      1.92      1.92      3.42      1.78\n",
      "standard_normal[48]     -0.69      0.00     -0.69     -0.69     -0.69      4.61      1.10\n",
      "standard_normal[49]      1.62      0.00      1.62      1.62      1.62      3.38      1.65\n",
      "standard_normal[50]      0.04      0.00      0.04      0.04      0.04      3.93      1.29\n",
      "standard_normal[51]      0.24      0.00      0.24      0.24      0.24      3.46      1.75\n",
      "standard_normal[52]     -0.84      0.00     -0.84     -0.84     -0.84      5.04      1.50\n",
      "standard_normal[53]      0.38      0.00      0.38      0.38      0.38      4.07      1.05\n",
      "standard_normal[54]      0.25      0.00      0.25      0.25      0.25      2.90      2.08\n",
      "standard_normal[55]      0.72      0.00      0.72      0.72      0.72      3.00      2.35\n",
      "standard_normal[56]      1.53      0.00      1.53      1.53      1.53      3.81      1.92\n",
      "standard_normal[57]     -1.59      0.00     -1.59     -1.59     -1.59      2.48      2.68\n",
      "standard_normal[58]     -0.54      0.00     -0.54     -0.54     -0.54      6.20      1.32\n",
      "standard_normal[59]     -0.52      0.00     -0.52     -0.52     -0.52     13.46      1.18\n",
      "standard_normal[60]      0.84      0.00      0.84      0.84      0.84      2.53      2.74\n",
      "standard_normal[61]     -1.54      0.00     -1.54     -1.54     -1.54      3.23      1.92\n",
      "standard_normal[62]      1.98      0.00      1.98      1.98      1.98      2.37      3.90\n",
      "standard_normal[63]      1.39      0.00      1.39      1.39      1.39      5.95      1.15\n",
      "standard_normal[64]     -0.72      0.00     -0.72     -0.72     -0.72      2.70      2.33\n",
      "standard_normal[65]      0.42      0.00      0.42      0.42      0.42     11.12      1.00\n",
      "standard_normal[66]     -0.36      0.00     -0.36     -0.36     -0.36      7.47      1.09\n",
      "standard_normal[67]     -0.81      0.00     -0.81     -0.81     -0.81      6.16      1.45\n",
      "standard_normal[68]      0.34      0.00      0.34      0.34      0.34      3.97      1.27\n",
      "standard_normal[69]     -1.04      0.00     -1.04     -1.04     -1.04      3.63      1.89\n",
      "standard_normal[70]      1.47      0.00      1.47      1.47      1.47      6.22      1.33\n",
      "standard_normal[71]      1.62      0.00      1.62      1.62      1.62     16.09      1.00\n",
      "standard_normal[72]     -1.18      0.00     -1.18     -1.18     -1.18      3.62      1.43\n",
      "standard_normal[73]     -1.70      0.00     -1.70     -1.70     -1.70     14.16      1.20\n",
      "standard_normal[74]     -1.32      0.00     -1.32     -1.32     -1.32      3.48      1.58\n",
      "standard_normal[75]     -0.50      0.00     -0.50     -0.50     -0.50      3.71      1.32\n",
      "standard_normal[76]     -1.47      0.00     -1.47     -1.47     -1.47      3.74      1.65\n",
      "standard_normal[77]     -1.41      0.00     -1.41     -1.41     -1.41      2.72      2.14\n",
      "standard_normal[78]     -0.28      0.00     -0.28     -0.28     -0.28      2.78      2.29\n",
      "standard_normal[79]     -1.65      0.00     -1.65     -1.65     -1.65      3.76      1.68\n",
      "\n",
      "Number of divergences: 0\n"
     ]
    }
   ],
   "source": [
    "mcmc.print_summary()"
   ]
  },
  {
   "cell_type": "code",
   "execution_count": 26,
   "id": "747bbade-dc0a-4fc8-8af9-8ecc10900d06",
   "metadata": {},
   "outputs": [],
   "source": [
    "\n",
    "# Generate samples from the trained GP\n",
    "def generate_new_gp_samples(k_array, mcmc_result, n_samples=50):\n",
    "    samples = mcmc_result.get_samples()\n",
    "    \n",
    "    amplitude_mean = jnp.mean(samples['amplitude'])\n",
    "    lengthscale_mean = jnp.mean(samples['lengthscale'])\n",
    "    \n",
    "    # Recompute the covariance matrix with posterior mean hyperparameters\n",
    "    cov = squared_exponential_kernel(k_array, k_array, amplitude_mean, lengthscale_mean) + 1e-6 * jnp.eye(len(k_array))\n",
    "    \n",
    "    # Cholesky decomposition for efficient sampling\n",
    "    chol_cov = cholesky(cov, lower=True)\n",
    "    \n",
    "    # Sample new standard normal variables\n",
    "    rng_key = jax.random.PRNGKey(0)\n",
    "    standard_normal_samples = jax.random.normal(rng_key, (n_samples, len(k_array)))\n",
    "    \n",
    "    # Generate new GP samples\n",
    "    gp_samples = jnp.einsum('ij,rj->ri', chol_cov, standard_normal_samples)\n",
    "    \n",
    "    # Add the mean function back\n",
    "    new_gp_samples = gp_samples + params_mean\n",
    "    \n",
    "    return new_gp_samples"
   ]
  },
  {
   "cell_type": "code",
   "execution_count": 30,
   "id": "13be3e63-40ba-453c-a24e-fdaa0beaf39a",
   "metadata": {},
   "outputs": [
    {
     "data": {
      "image/png": "[encoded data removed]",
      "text/plain": [
       "<Figure size 1000x600 with 1 Axes>"
      ]
     },
     "metadata": {},
     "output_type": "display_data"
    }
   ],
   "source": [
    "new_samples = generate_new_gp_samples(knots, mcmc)\n",
    "\n",
    "# Plot the new samples\n",
    "import matplotlib.pyplot as plt\n",
    "\n",
    "plt.figure(figsize=(10, 6))\n",
    "\n",
    "# Plot the generated GP samples\n",
    "for i in range(new_samples.shape[0]):\n",
    "    plt.plot(knots, new_samples[i, :], color='red', alpha=0.3)\n",
    "\n",
    "# # Plot the original data for comparison\n",
    "# for i in range(params_array.shape[0]):\n",
    "#     plt.plot(knots, jnp.exp(params_array[i, :]), color='blue', alpha=0.1)\n",
    "\n",
    "# # Add the knot markers\n",
    "# plt.scatter(knots, jnp.exp(params_array[0, :]), color='black', marker='x', label=\"Knots\", s=50)\n",
    "\n",
    "# Labels and legend\n",
    "plt.xlabel('k')\n",
    "# plt.xscale(\"log\")\n",
    "# plt.yscale(\"log\")\n",
    "\n",
    "plt.ylabel('P(k)')\n",
    "\n",
    "plt.title('Generated GP Samples and Original Data')\n",
    "plt.legend([\"Generated GP Samples\", \"Original Data Realizations\", \"Knots\"])\n",
    "plt.show()"
   ]
  },
  {
   "cell_type": "code",
   "execution_count": null,
   "id": "09daa89e-4ec6-4534-a575-c9a27d66b919",
   "metadata": {},
   "outputs": [],
   "source": []
  }
 ],
 "metadata": {
  "kernelspec": {
   "display_name": "pybird_emu",
   "language": "python",
   "name": "pybird_emu"
  },
  "language_info": {
   "codemirror_mode": {
    "name": "ipython",
    "version": 3
   },
   "file_extension": ".py",
   "mimetype": "text/x-python",
   "name": "python",
   "nbconvert_exporter": "python",
   "pygments_lexer": "ipython3",
   "version": "3.11.6"
  }
 },
 "nbformat": 4,
 "nbformat_minor": 5
}
