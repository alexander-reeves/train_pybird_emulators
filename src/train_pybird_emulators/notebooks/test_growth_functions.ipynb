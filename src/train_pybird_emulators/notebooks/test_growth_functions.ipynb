{
 "cells": [
  {
   "cell_type": "code",
   "execution_count": 1,
   "id": "26c1cfc9-d5a9-4c35-825f-cc0d46f6f569",
   "metadata": {},
   "outputs": [],
   "source": [
    "import numpy as np \n",
    "import pybird\n",
    "import train_pybird_emulators\n",
    "import yaml"
   ]
  },
  {
   "cell_type": "code",
   "execution_count": 2,
   "id": "8150f5a5-23fe-4c54-8e03-7d2c2c02291c",
   "metadata": {},
   "outputs": [],
   "source": [
    "from train_pybird_emulators.emu_utils import emu_utils"
   ]
  },
  {
   "cell_type": "code",
   "execution_count": 3,
   "id": "1bc002c6-0b49-4882-8523-6c71a4b31946",
   "metadata": {},
   "outputs": [],
   "source": [
    "with open(\"/cluster/work/refregier/alexree/local_packages/train_pybird_emulators/src/train_pybird_emulators/configs/config_growth.yaml\", 'r') as f:\n",
    "    conf = yaml.safe_load(f)"
   ]
  },
  {
   "cell_type": "code",
   "execution_count": 4,
   "id": "b050ed4b-b26b-4f5f-a91d-e0a68f680542",
   "metadata": {},
   "outputs": [],
   "source": [
    "parameters = conf[\"parameters\"]"
   ]
  },
  {
   "cell_type": "code",
   "execution_count": 5,
   "id": "3ce54525-0c10-4513-a4de-fcabc5e20d5c",
   "metadata": {},
   "outputs": [
    {
     "data": {
      "text/plain": [
       "[{'name': 'omega_b', 'prior': [0.01875, 0.02625]},\n",
       " {'name': 'omega_cdm', 'prior': [0.05, 0.255]},\n",
       " {'name': 'n_s', 'prior': [0.7, 1.2]},\n",
       " {'name': 'h', 'prior': [0.4, 1.0]},\n",
       " {'name': 'z', 'prior': [0.0, 4.0]}]"
      ]
     },
     "execution_count": 5,
     "metadata": {},
     "output_type": "execute_result"
    }
   ],
   "source": [
    "parameters"
   ]
  },
  {
   "cell_type": "code",
   "execution_count": 6,
   "id": "f560bed6-6e6a-4228-b490-5fc9b55481cd",
   "metadata": {},
   "outputs": [],
   "source": [
    "parameters_dict = {\n",
    "\"omega_cdm\":0.12,\n",
    "\"omega_b\":0.02,\n",
    "\"h\":0.7,\n",
    "\"tau_reio\":0.05, \n",
    "\"sigma8\":0.8, \n",
    "\"n_s\":0.98\n",
    "}"
   ]
  },
  {
   "cell_type": "code",
   "execution_count": 7,
   "id": "884a7a43-96bc-4243-a550-aac21fa4f386",
   "metadata": {},
   "outputs": [],
   "source": [
    "params = [0.02, 0.12,0.98,0.8,0.7,0.5]"
   ]
  },
  {
   "cell_type": "code",
   "execution_count": 8,
   "id": "f3ac71f7-2598-4d18-accf-b416769c43cb",
   "metadata": {},
   "outputs": [
    {
     "data": {
      "text/plain": [
       "(0.8000981805275937, 0.6717850770144876, 1.23280036745348, 0.302762074961191)"
      ]
     },
     "execution_count": 8,
     "metadata": {},
     "output_type": "execute_result"
    }
   ],
   "source": [
    "emu_utils.get_growth_factor_from_params(params, parameters)"
   ]
  },
  {
   "cell_type": "code",
   "execution_count": 9,
   "id": "cda08ea1-f618-4c45-8946-104200531777",
   "metadata": {},
   "outputs": [],
   "source": [
    "with open(\"/cluster/work/refregier/alexree/local_packages/train_pybird_emulators/src/train_pybird_emulators/configs/config_green_functions.yaml\", 'r') as f:\n",
    "    conf = yaml.safe_load(f)\n",
    "\n",
    "parameters = conf[\"parameters\"]\n",
    "params = [0.3,-1,0.5]"
   ]
  },
  {
   "cell_type": "code",
   "execution_count": 11,
   "id": "645a45ea-f892-496d-9bc1-a9403b1295a9",
   "metadata": {},
   "outputs": [
    {
     "name": "stderr",
     "output_type": "stream",
     "text": [
      "2024-05-15 10:20:14.516991: W tensorflow/compiler/tf2tensorrt/utils/py_utils.cc:38] TF-TRT Warning: Could not find TensorRT\n"
     ]
    }
   ],
   "source": [
    "from train_pybird_emulators.emu_utils import integrated_model"
   ]
  },
  {
   "cell_type": "code",
   "execution_count": 12,
   "id": "bfd54af2-8a85-40a6-a5e1-2266776b454d",
   "metadata": {},
   "outputs": [],
   "source": [
    "growth_model = integrated_model.IntegratedModel(None,None,None)"
   ]
  },
  {
   "cell_type": "code",
   "execution_count": 14,
   "id": "bdde2bf4-6f1b-44c2-ae84-2341993fe3a2",
   "metadata": {},
   "outputs": [
    {
     "name": "stdout",
     "output_type": "stream",
     "text": [
      "no pca\n",
      "restore successful\n"
     ]
    },
    {
     "name": "stderr",
     "output_type": "stream",
     "text": [
      "2024-05-15 10:21:25.364528: E external/local_xla/xla/stream_executor/cuda/cuda_driver.cc:282] failed call to cuInit: CUDA_ERROR_NO_DEVICE: no CUDA-capable device is detected\n"
     ]
    }
   ],
   "source": [
    "growth_model.restore(\"/cluster/work/refregier/alexree/local_packages/train_pybird_emulators/src/train_pybird_emulators/data/saved_models/growth_emulator\")"
   ]
  },
  {
   "cell_type": "code",
   "execution_count": 16,
   "id": "2c168741-0dfb-47f9-9162-4238cde741b7",
   "metadata": {},
   "outputs": [
    {
     "data": {
      "text/plain": [
       "array([0.02250596, 0.15257835, 0.9495503 , 0.74909538, 0.70073881,\n",
       "       2.75040583])"
      ]
     },
     "execution_count": 16,
     "metadata": {},
     "output_type": "execute_result"
    }
   ],
   "source": [
    "growth_model.scaler_mean_in"
   ]
  },
  {
   "cell_type": "code",
   "execution_count": null,
   "id": "a48370f1-3315-476f-ad2f-2ac4fd2a91b2",
   "metadata": {},
   "outputs": [],
   "source": []
  }
 ],
 "metadata": {
  "kernelspec": {
   "display_name": "pybird_emu_jax",
   "language": "python",
   "name": "pybird_emu_jax"
  },
  "language_info": {
   "codemirror_mode": {
    "name": "ipython",
    "version": 3
   },
   "file_extension": ".py",
   "mimetype": "text/x-python",
   "name": "python",
   "nbconvert_exporter": "python",
   "pygments_lexer": "ipython3",
   "version": "3.10.4"
  }
 },
 "nbformat": 4,
 "nbformat_minor": 5
}
