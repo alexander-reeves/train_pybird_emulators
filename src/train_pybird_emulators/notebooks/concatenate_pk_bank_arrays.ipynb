{
 "cells": [
  {
   "cell_type": "code",
   "execution_count": 1,
   "id": "a178f41f-960e-47b1-98fe-b6a37bc46d09",
   "metadata": {},
   "outputs": [],
   "source": [
    "import numpy as np \n",
    "import h5py "
   ]
  },
  {
   "cell_type": "code",
   "execution_count": 2,
   "id": "bf30eac3-6c7d-4708-9b76-0c54d6a21498",
   "metadata": {},
   "outputs": [],
   "source": [
    "# fn1 = \"/cluster/scratch/areeves/pk_bank_boss_gaussian_cov_2/total_data.h5\"\n",
    "# fn2 = \"/cluster/scratch/areeves/pk_bank_boss_gaussian_cov_final/total_data.h5\"\n",
    "# fn3 = \"/cluster/scratch/areeves/pk_bank_boss_gaussian_cov_final2/total_data.h5\"\n",
    "# fn4 = \"/cluster/scratch/areeves/pk_bank_boss_gaussian_cov_final3/total_data.h5\"\n",
    "# fn5 = \"/cluster/scratch/areeves/pk_bank_boss_gaussian_cov_final5/total_data.h5\"\n",
    "\n",
    "fn1 = \"/cluster/scratch/areeves/pybird_training_data_pybird_emu_input_final/total_data.h5\"\n",
    "fn2 = \"/cluster/scratch/areeves/pybird_training_data_pybird_emu_input2/total_data.h5\"\n"
   ]
  },
  {
   "cell_type": "code",
   "execution_count": 3,
   "id": "4a85a4d2-6686-494a-8a23-474682facb7d",
   "metadata": {},
   "outputs": [
    {
     "name": "stdout",
     "output_type": "stream",
     "text": [
      "IRPs11\n",
      "IRPsct\n"
     ]
    },
    {
     "ename": "KeyboardInterrupt",
     "evalue": "",
     "output_type": "error",
     "traceback": [
      "\u001b[0;31m---------------------------------------------------------------------------\u001b[0m",
      "\u001b[0;31mKeyboardInterrupt\u001b[0m                         Traceback (most recent call last)",
      "Cell \u001b[0;32mIn[3], line 15\u001b[0m\n\u001b[1;32m     13\u001b[0m             \u001b[38;5;28;01mif\u001b[39;00m key \u001b[38;5;129;01mnot\u001b[39;00m \u001b[38;5;129;01min\u001b[39;00m merged_arrays:\n\u001b[1;32m     14\u001b[0m                 merged_arrays[key] \u001b[38;5;241m=\u001b[39m []\n\u001b[0;32m---> 15\u001b[0m             merged_arrays[key]\u001b[38;5;241m.\u001b[39mappend(\u001b[43mf\u001b[49m\u001b[43m[\u001b[49m\u001b[43mkey\u001b[49m\u001b[43m]\u001b[49m\u001b[43m[\u001b[49m\u001b[43m:\u001b[49m\u001b[43m]\u001b[49m)  \u001b[38;5;66;03m# Append array data\u001b[39;00m\n\u001b[1;32m     17\u001b[0m \u001b[38;5;66;03m# Concatenate arrays and save to new file\u001b[39;00m\n\u001b[1;32m     18\u001b[0m \u001b[38;5;28;01mwith\u001b[39;00m h5py\u001b[38;5;241m.\u001b[39mFile(merged_filename, \u001b[38;5;124m'\u001b[39m\u001b[38;5;124mw\u001b[39m\u001b[38;5;124m'\u001b[39m) \u001b[38;5;28;01mas\u001b[39;00m f_out:\n",
      "File \u001b[0;32mh5py/_objects.pyx:54\u001b[0m, in \u001b[0;36mh5py._objects.with_phil.wrapper\u001b[0;34m()\u001b[0m\n",
      "File \u001b[0;32mh5py/_objects.pyx:55\u001b[0m, in \u001b[0;36mh5py._objects.with_phil.wrapper\u001b[0;34m()\u001b[0m\n",
      "File \u001b[0;32m/cluster/project/refregier/areeves/pybird_emu_train/lib/python3.11/site-packages/h5py/_hl/dataset.py:781\u001b[0m, in \u001b[0;36mDataset.__getitem__\u001b[0;34m(self, args, new_dtype)\u001b[0m\n\u001b[1;32m    779\u001b[0m \u001b[38;5;28;01mif\u001b[39;00m \u001b[38;5;28mself\u001b[39m\u001b[38;5;241m.\u001b[39m_fast_read_ok \u001b[38;5;129;01mand\u001b[39;00m (new_dtype \u001b[38;5;129;01mis\u001b[39;00m \u001b[38;5;28;01mNone\u001b[39;00m):\n\u001b[1;32m    780\u001b[0m     \u001b[38;5;28;01mtry\u001b[39;00m:\n\u001b[0;32m--> 781\u001b[0m         \u001b[38;5;28;01mreturn\u001b[39;00m \u001b[38;5;28;43mself\u001b[39;49m\u001b[38;5;241;43m.\u001b[39;49m\u001b[43m_fast_reader\u001b[49m\u001b[38;5;241;43m.\u001b[39;49m\u001b[43mread\u001b[49m\u001b[43m(\u001b[49m\u001b[43margs\u001b[49m\u001b[43m)\u001b[49m\n\u001b[1;32m    782\u001b[0m     \u001b[38;5;28;01mexcept\u001b[39;00m \u001b[38;5;167;01mTypeError\u001b[39;00m:\n\u001b[1;32m    783\u001b[0m         \u001b[38;5;28;01mpass\u001b[39;00m  \u001b[38;5;66;03m# Fall back to Python read pathway below\u001b[39;00m\n",
      "\u001b[0;31mKeyboardInterrupt\u001b[0m: "
     ]
    }
   ],
   "source": [
    "# Filenames of the HDF5 files\n",
    "filenames = [fn1, fn2]\n",
    "merged_filename = 'merged_training_data.h5'\n",
    "\n",
    "# Dictionary to store merged arrays\n",
    "merged_arrays = {}\n",
    "\n",
    "# Loop through each file and read arrays\n",
    "for fn in filenames:\n",
    "    with h5py.File(fn, 'r') as f:\n",
    "        for key in f.keys():\n",
    "            print(key)\n",
    "            if key not in merged_arrays:\n",
    "                merged_arrays[key] = []\n",
    "            merged_arrays[key].append(f[key][:])  # Append array data\n",
    "\n",
    "# Concatenate arrays and save to new file\n",
    "with h5py.File(merged_filename, 'w') as f_out:\n",
    "    for key, array_list in merged_arrays.items():\n",
    "        merged_array = np.unique(np.concatenate(array_list, axis=0), axis=0)  # Adjust axis if needed\n",
    "        print(\"shape\", merged_array.shape)\n",
    "        print(\"key\", key)\n",
    "        f_out.create_dataset(key, data=merged_array)\n",
    "\n",
    "print(f\"Merged arrays saved in '{merged_filename}'\")"
   ]
  },
  {
   "cell_type": "code",
   "execution_count": null,
   "id": "9da98c80-5fd3-49ef-8f71-cf83a2e62b1a",
   "metadata": {},
   "outputs": [],
   "source": [
    "merged_arrays.keys()"
   ]
  },
  {
   "cell_type": "code",
   "execution_count": null,
   "id": "6b10aaef-6cbf-4367-89d3-19d01a3f1b4a",
   "metadata": {},
   "outputs": [],
   "source": [
    "np.concatenate(merged_arrays[\"emu_inputs\"], axis=0).shape "
   ]
  },
  {
   "cell_type": "code",
   "execution_count": null,
   "id": "6087b47f-651e-467a-a547-b0ebe32102de",
   "metadata": {},
   "outputs": [],
   "source": [
    "np.unique(np.concatenate(merged_arrays[\"emu_inputs\"], axis=0), axis=0).shape "
   ]
  },
  {
   "cell_type": "code",
   "execution_count": null,
   "id": "c940c381-398d-4f78-9488-acf62b7e0ddd",
   "metadata": {},
   "outputs": [],
   "source": [
    "with h5py.File(fn4) as f: \n",
    "    print(f[\"D\"][:].shape)"
   ]
  },
  {
   "cell_type": "code",
   "execution_count": null,
   "id": "26137b88-f450-4546-baab-4bbe4ce1ab02",
   "metadata": {},
   "outputs": [],
   "source": []
  }
 ],
 "metadata": {
  "kernelspec": {
   "display_name": "pybird_emu_train",
   "language": "python",
   "name": "pybird_emu_train"
  },
  "language_info": {
   "codemirror_mode": {
    "name": "ipython",
    "version": 3
   },
   "file_extension": ".py",
   "mimetype": "text/x-python",
   "name": "python",
   "nbconvert_exporter": "python",
   "pygments_lexer": "ipython3",
   "version": "3.11.6"
  }
 },
 "nbformat": 4,
 "nbformat_minor": 5
}
