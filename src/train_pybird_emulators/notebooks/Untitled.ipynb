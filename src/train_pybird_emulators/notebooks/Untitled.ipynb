{
 "cells": [
  {
   "cell_type": "code",
   "execution_count": 1,
   "id": "672aad3c-38f6-42b9-9621-d990205ab153",
   "metadata": {},
   "outputs": [],
   "source": [
    "import os \n",
    "os.environ[\"JAX_PLATFORMS\"] = \"cpu\"\n",
    "import jax\n",
    "jax.config.update(\"jax_enable_x64\", True)\n",
    "\n",
    "import os, sys\n",
    "import matplotlib.pyplot as plt\n",
    "from timeit import timeit\n",
    "from scipy.special import legendre\n",
    "import numpy as np\n",
    "import jax.numpy as jnp\n",
    "from jax import grad, jit\n",
    "from classy import Class\n",
    "from pybird.correlator import Correlator\n",
    "from jax import jacfwd, jacrev\n",
    "import importlib \n",
    "import pybird \n",
    "from scipy.interpolate import interp1d\n",
    "import jax.numpy as jnp\n",
    "from train_pybird_emulators.emu_utils import emu_utils\n",
    "from train_pybird_emulators.emu_utils.emu_utils import get_pgg_from_linps_and_f_and_A\n",
    "from train_pybird_emulators.emu_utils.emu_utils import get_pgg_from_params"
   ]
  },
  {
   "cell_type": "code",
   "execution_count": 2,
   "id": "55cdb4e5-a5c5-4fc8-8366-840479c023d2",
   "metadata": {},
   "outputs": [],
   "source": [
    "import h5py "
   ]
  },
  {
   "cell_type": "code",
   "execution_count": 7,
   "id": "fc44b3e8-c1ec-4db7-b205-9f60012b1556",
   "metadata": {},
   "outputs": [],
   "source": [
    "with h5py.File(\"/cluster/work/refregier/alexree/local_packages/train_pybird_emulators/src/train_pybird_emulators/data/training_data/validation_data/lhc_bank_Geff_z0p5to2p5/lhc_pk_lins.h5\") as f:\n",
    "    test = f['0'][:]"
   ]
  },
  {
   "cell_type": "code",
   "execution_count": 9,
   "id": "86901065-6f4c-44ca-8fd3-923255c90e54",
   "metadata": {},
   "outputs": [
    {
     "data": {
      "text/plain": [
       "(200,)"
      ]
     },
     "execution_count": 9,
     "metadata": {},
     "output_type": "execute_result"
    }
   ],
   "source": [
    "test.shape "
   ]
  },
  {
   "cell_type": "code",
   "execution_count": 2,
   "id": "26d37424-999f-419f-819a-7f09e9b0fe27",
   "metadata": {},
   "outputs": [],
   "source": [
    "km=1.0\n",
    "kr=1.0\n",
    "nd=3e-4"
   ]
  },
  {
   "cell_type": "code",
   "execution_count": 3,
   "id": "f8400d7f-69d1-4fd5-969c-cc638581f4fd",
   "metadata": {},
   "outputs": [],
   "source": [
    "resum = False"
   ]
  },
  {
   "cell_type": "code",
   "execution_count": 4,
   "id": "1c3359f7-ee60-4d87-a56c-9bb94af3a9f9",
   "metadata": {},
   "outputs": [],
   "source": [
    "#set up a baseline cosmology\n",
    "k_r = 0.7\n",
    "k_l = 1e-4\n",
    "z = 0.57\n",
    "# z = 2\n",
    "\n",
    "kk = np.logspace(np.log10(k_l), np.log10(k_r), 1000)\n",
    "M = Class()\n",
    "cosmo = {'omega_b': 0.02235, 'omega_cdm': 0.120, 'h': 0.675, 'ln10^{10}A_s': 3.044, 'n_s': 0.965}\n",
    "# cosmo = {'omega_b': 0.018, 'omega_cdm': 0.125, 'h': 0.9, 'ln10^{10}A_s': 2.044, 'n_s': 1.065}\n",
    "\n",
    "M.set(cosmo)\n",
    "M.set({'output': 'mPk', 'P_k_max_h/Mpc': 10, 'z_max_pk': 2})\n",
    "M.compute()\n",
    "pk_lin_0 = np.array([M.pk_lin(k*M.h(), z)*M.h()**3 for k in kk]) # k in Mpc/h, pk in (Mpc/h)^3\n",
    "\n",
    "\n",
    "ipk_lin_0 = interp1d(kk, pk_lin_0, kind='cubic')\n",
    "D1_0, f1_0 = M.scale_independent_growth_factor(z), M.scale_independent_growth_factor_f(z), \n",
    "A_s, Omega0_m_0 = 1e-10 * np.exp(cosmo['ln10^{10}A_s']), M.Omega0_m()"
   ]
  },
  {
   "cell_type": "code",
   "execution_count": 5,
   "id": "9550c30c-7138-4c9e-9220-d43f7d24eea2",
   "metadata": {},
   "outputs": [
    {
     "data": {
      "text/plain": [
       "0.3124279835390946"
      ]
     },
     "execution_count": 5,
     "metadata": {},
     "output_type": "execute_result"
    }
   ],
   "source": [
    "Omega0_m_0"
   ]
  },
  {
   "cell_type": "code",
   "execution_count": 6,
   "id": "692d4745-0bbc-402d-ac96-045594265675",
   "metadata": {},
   "outputs": [],
   "source": [
    "outdir = \"/cluster/work/refregier/alexree/local_packages/pybird_emu/data/eftboss/out\"\n",
    "with open(os.path.join(outdir, 'fit_boss_onesky_pk_wc_cmass_ngc_l0.dat')) as f: data_file = f.read()\n",
    "eft_params_str = data_file.split(', \\n')[1].replace(\"# \", \"\")\n",
    "eft_params = {key: float(value) for key, value in (pair.split(': ') for pair in eft_params_str.split(', '))}"
   ]
  },
  {
   "cell_type": "code",
   "execution_count": 7,
   "id": "035a1e43-96b9-4a14-8b09-05cc5ef27f7b",
   "metadata": {
    "scrolled": true
   },
   "outputs": [
    {
     "name": "stdout",
     "output_type": "stream",
     "text": [
      "loading matrices!\n",
      "setting EdS time approximation\n"
     ]
    }
   ],
   "source": [
    "N_bird = Correlator()\n",
    "N_bird.set({'output': 'bPk', 'multipole': 3, 'kmax': 0.4,\n",
    "       'fftaccboost': 2, # boosting the FFTLog precision (slower, but ~0.1% more precise -> let's emulate this)\n",
    "       'with_resum':resum, 'with_exact_time': True,\n",
    "       \"with_time\":False, # test without specifying this too \n",
    "       'km': km, 'kr': kr, 'nd': nd,\n",
    "       'eft_basis': 'eftoflss', 'with_stoch': True})\n",
    "\n",
    "N_bird.compute({'kk': kk, 'pk_lin': pk_lin_0, 'D': D1_0, 'f': f1_0, 'z': np.array(z), 'Omega0_m': Omega0_m_0},\n",
    "          do_core=True, do_survey_specific=True)\n",
    "bpk_benchmark_0 = N_bird.get(eft_params)"
   ]
  },
  {
   "cell_type": "code",
   "execution_count": 9,
   "id": "406fa3e1-4691-4403-8bb7-90bd37e0e252",
   "metadata": {},
   "outputs": [
    {
     "name": "stdout",
     "output_type": "stream",
     "text": [
      "param gird shape (3125, 5)\n",
      "z 0.5429550696658834\n",
      "loading matrices!\n",
      "setting EdS time approximation\n",
      "z 1.7395611013101886\n",
      "loading matrices!\n",
      "setting EdS time approximation\n",
      "z 0.9673748664101047\n",
      "loading matrices!\n",
      "setting EdS time approximation\n",
      "z 0.420186368771186\n",
      "loading matrices!\n",
      "setting EdS time approximation\n",
      "z 0.04421050001994842\n",
      "loading matrices!\n",
      "setting EdS time approximation\n",
      "z 0.1739488572447807\n",
      "loading matrices!\n",
      "setting EdS time approximation\n",
      "z 1.5930557427563385\n",
      "loading matrices!\n",
      "setting EdS time approximation\n",
      "z 1.6922710820712636\n",
      "loading matrices!\n",
      "setting EdS time approximation\n",
      "z 0.4692795677241508\n",
      "loading matrices!\n",
      "setting EdS time approximation\n",
      "z 1.91957103622271\n",
      "loading matrices!\n",
      "setting EdS time approximation\n"
     ]
    }
   ],
   "source": [
    "# Define parameter ranges\n",
    "omega_cdm_range = np.linspace(0.1, 0.13, 5)\n",
    "omega_b_range = np.linspace(0.02, 0.03, 5)\n",
    "h_range = np.linspace(0.4, 1.2, 5)\n",
    "ln10A_s_range = np.linspace(1, 5, 5)\n",
    "n_s_range = np.linspace(0.9, 1.1, 5)\n",
    "\n",
    "# Generate parameter grid\n",
    "param_grid = np.array(np.meshgrid(omega_cdm_range, omega_b_range, h_range, ln10A_s_range, n_s_range)).T.reshape(-1, 5)\n",
    "print(\"param gird shape\", param_grid.shape)\n",
    "results = []\n",
    "\n",
    "# Loop over each cosmological parameter set\n",
    "inds = np.random.randint(0,100, 10)\n",
    "for params in param_grid[inds]:\n",
    "    omega_cdm, omega_b, h, ln10A_s, n_s = params\n",
    "    cosmo = {'omega_b': omega_b, 'omega_cdm': omega_cdm, 'h': h, 'ln10^{10}A_s': ln10A_s, 'n_s': n_s}\n",
    "    \n",
    "    # Initialize CLASS\n",
    "    M = Class()\n",
    "    M.set(cosmo)\n",
    "    M.set({'output': 'mPk', 'P_k_max_h/Mpc': 10, 'z_max_pk': 2})\n",
    "    M.compute()\n",
    "    \n",
    "    z = np.random.rand()*2\n",
    "    print(\"z\", z)# Redshift\n",
    "\n",
    "    # Compute pk_lin\n",
    "    kk = np.logspace(np.log10(k_l), np.log10(k_r), 1000)\n",
    "    pk_lin = np.array([M.pk_lin(k * M.h(), z) * M.h()**3 for k in kk])  # at z=0\n",
    "    ipk_lin = interp1d(kk, pk_lin, kind='cubic')\n",
    "    D1 = M.scale_independent_growth_factor(z)\n",
    "    f1 = M.scale_independent_growth_factor_f(z)\n",
    "    A_s = 1e-10 * np.exp(ln10A_s)\n",
    "    Omega0_m = M.Omega0_m()\n",
    "    \n",
    "    # Initialize Correlator\n",
    "    N_bird = Correlator()\n",
    "    # Set up pybird in time unspecified mode for the computation of the pybird pieces training data\n",
    "    N_bird.set(\n",
    "        {\n",
    "            \"output\": \"bPk\",\n",
    "            \"multipole\": 3,\n",
    "            \"kmax\": 0.4, #new kmax so dont have to filter out the large ks! \n",
    "            \"fftaccboost\": 2,\n",
    "            \"with_resum\": resum, # add resum in by hand below \n",
    "            \"with_exact_time\": True,\n",
    "            \"with_time\": False,  # time unspecified\n",
    "            \"with_emu\":False,\n",
    "            \"km\": km,\n",
    "            \"kr\": kr,\n",
    "            \"nd\": nd,\n",
    "            \"eft_basis\": \"eftoflss\",\n",
    "            \"with_stoch\": True,\n",
    "        }\n",
    "    )\n",
    "    \n",
    "    N_bird.compute({'kk': kk, 'pk_lin': pk_lin, 'D': D1, 'f': f1/1., 'z':z, 'Omega0_m': Omega0_m},\n",
    "              do_core=True, do_survey_specific=True)\n",
    "\n",
    "    bpk_benchmark = N_bird.get(eft_params)\n",
    "    \n",
    "    # Save results\n",
    "    params = np.hstack((params, np.array([Omega0_m]), np.array([f1]), np.array([D1]), np.array([z])))\n",
    "    results.append({'params': params, 'pk_lin': pk_lin, 'bpk_benchmark': bpk_benchmark})\n",
    "    \n",
    "    # Clean up CLASS object\n",
    "    M.struct_cleanup()\n",
    "    M.empty()"
   ]
  },
  {
   "cell_type": "code",
   "execution_count": null,
   "id": "b4b9c35c-9a8a-4727-94fc-5ee1f5ca61dd",
   "metadata": {},
   "outputs": [],
   "source": [
    "from pybird import config\n",
    "config.set_jax_enabled(True) # Enable JAX by setting the config Class\n",
    "import jax.numpy as jnp "
   ]
  },
  {
   "cell_type": "code",
   "execution_count": null,
   "id": "8d12121a-fb5a-4ea2-9bdd-0fd62ee501b1",
   "metadata": {},
   "outputs": [],
   "source": [
    "\n",
    "N_emu = Correlator()\n",
    "# Set up pybird in time unspecified mode for the computation of the pybird pieces training data\n",
    "print(N_emu)\n",
    "N_emu.set(\n",
    "    {\n",
    "        \"output\": \"bPk\",\n",
    "        \"multipole\": 3,\n",
    "        \"kmax\": 0.4, #new kmax so dont have to filter out the large ks! \n",
    "        \"fftaccboost\": 2,\n",
    "        \"with_resum\": resum, # add resum in by hand below \n",
    "        \"with_exact_time\": True,\n",
    "        \"with_time\": False,  # time unspecified\n",
    "        \"with_emu\":True,\n",
    "        \"km\": km,\n",
    "        \"kr\": kr,\n",
    "        \"nd\": nd,\n",
    "        \"eft_basis\": \"eftoflss\",\n",
    "        \"with_stoch\": True,\n",
    "    }\n",
    ")\n",
    "\n",
    "\n",
    "N_emu.compute({'kk': jnp.array(kk), 'pk_lin': jnp.array(pk_lin_0), 'D': D1_0, 'f': f1_0, 'z':jnp.array(z), 'Omega0_m': Omega0_m_0},\n",
    "          do_core=True, do_survey_specific=True)\n"
   ]
  },
  {
   "cell_type": "code",
   "execution_count": null,
   "id": "896db53b-05e4-44a2-8344-cdc29cded567",
   "metadata": {},
   "outputs": [],
   "source": [
    "bpk_recovered_emu = N_emu.get(eft_params)"
   ]
  },
  {
   "cell_type": "code",
   "execution_count": null,
   "id": "b6ad1e66-dd4f-44aa-b7a3-cf4633e39a9a",
   "metadata": {},
   "outputs": [],
   "source": [
    "plt.plot(bpk_recovered_emu[0]/bpk_benchmark_0[0])"
   ]
  },
  {
   "cell_type": "markdown",
   "id": "ffd93fbb-15dc-4edb-91b3-8b061e839d58",
   "metadata": {},
   "source": [
    "### OK lets test over a range of cosmologies"
   ]
  },
  {
   "cell_type": "code",
   "execution_count": null,
   "id": "93f09f93-d27b-402f-84ba-de949d7e057f",
   "metadata": {},
   "outputs": [],
   "source": [
    "results[0][\"params\"]"
   ]
  },
  {
   "cell_type": "code",
   "execution_count": null,
   "id": "66a471dd-b03a-45cb-be8e-79ae474d2a3d",
   "metadata": {},
   "outputs": [],
   "source": [
    "\n",
    "emu_out = []\n",
    "for results_dict in results:\n",
    "    pk_lin = results_dict[\"pk_lin\"]\n",
    "    Omega_m, f1, D1, z = results_dict[\"params\"][-4:]\n",
    "    print(Omega_m, f1, D1, z)\n",
    "    \n",
    "    N_emu = Correlator()\n",
    "    # Set up pybird in time unspecified mode for the computation of the pybird pieces training data\n",
    "    N_emu.set(\n",
    "        {\n",
    "            \"output\": \"bPk\",\n",
    "            \"multipole\": 3,\n",
    "            \"kmax\": 0.4, #new kmax so dont have to filter out the large ks! \n",
    "            \"fftaccboost\": 2,\n",
    "            \"with_resum\": resum, # add resum in by hand below \n",
    "            \"with_exact_time\": True,\n",
    "            \"with_time\": False,  # time unspecified\n",
    "            \"with_emu\":True,\n",
    "            \"km\": km,\n",
    "            \"kr\": kr,\n",
    "            \"nd\": nd,\n",
    "            \"eft_basis\": \"eftoflss\",\n",
    "            \"with_stoch\": True,\n",
    "        }\n",
    "    )\n",
    "    \n",
    "    N_emu.compute({'kk': jnp.array(kk), 'pk_lin': jnp.array(pk_lin), 'D': D1, 'f': f1/1., 'z':jnp.array(z), 'Omega0_m': Omega_m},\n",
    "              do_core=True, do_survey_specific=True)\n",
    "\n",
    "    emu_out.append(N_emu.get(eft_params))"
   ]
  },
  {
   "cell_type": "code",
   "execution_count": null,
   "id": "7ee57ef0-a171-4ebe-b546-9c57204c899a",
   "metadata": {},
   "outputs": [],
   "source": [
    "for i in range(10): \n",
    "    plt.plot(results[i]['bpk_benchmark'][0]/emu_out[i][0])"
   ]
  },
  {
   "cell_type": "code",
   "execution_count": null,
   "id": "c63747d5-924d-47e5-89c3-a0329c97caf8",
   "metadata": {},
   "outputs": [],
   "source": [
    "for i in range(10):\n",
    "    plt.loglog(kk, results[i][\"pk_lin\"]/np.amax(results[i][\"pk_lin\"]), alpha=0.1)\n",
    "    plt.loglog(kk, pk_lin_0/np.amax(pk_lin_0), 'r--')"
   ]
  },
  {
   "cell_type": "code",
   "execution_count": null,
   "id": "78860ef8-1b8f-4444-8da4-71f214d27a81",
   "metadata": {},
   "outputs": [],
   "source": []
  },
  {
   "cell_type": "code",
   "execution_count": null,
   "id": "654e1c0a-ad6a-4707-af37-5e32577058ab",
   "metadata": {},
   "outputs": [],
   "source": []
  },
  {
   "cell_type": "code",
   "execution_count": null,
   "id": "58d468b5-8cec-4a36-9a19-b64f629c096d",
   "metadata": {},
   "outputs": [],
   "source": []
  },
  {
   "cell_type": "code",
   "execution_count": null,
   "id": "66e29786-a9d6-4cc2-b6ba-7dd5c4c59b82",
   "metadata": {},
   "outputs": [],
   "source": []
  },
  {
   "cell_type": "code",
   "execution_count": null,
   "id": "36dea4cf-c558-4549-a722-3d4ad4f8e512",
   "metadata": {},
   "outputs": [],
   "source": []
  },
  {
   "cell_type": "code",
   "execution_count": null,
   "id": "c89751e4-9831-436c-850e-c3321c8aa758",
   "metadata": {},
   "outputs": [],
   "source": []
  },
  {
   "cell_type": "code",
   "execution_count": null,
   "id": "6a102f4b-7aca-439c-a4e3-3db15aa5c896",
   "metadata": {},
   "outputs": [],
   "source": []
  },
  {
   "cell_type": "code",
   "execution_count": null,
   "id": "fcb3e61c-d92a-494f-821e-7d7bab52cc95",
   "metadata": {},
   "outputs": [],
   "source": []
  },
  {
   "cell_type": "code",
   "execution_count": null,
   "id": "d68e2b5e-90a9-48bc-ba50-0f1d0435c9f5",
   "metadata": {},
   "outputs": [],
   "source": []
  },
  {
   "cell_type": "code",
   "execution_count": null,
   "id": "e7e1c588-d221-4c3b-b40b-eec0c6e581d0",
   "metadata": {},
   "outputs": [],
   "source": []
  },
  {
   "cell_type": "code",
   "execution_count": null,
   "id": "22bfc732-969d-4bd1-8290-49f8cb1b1666",
   "metadata": {},
   "outputs": [],
   "source": []
  },
  {
   "cell_type": "code",
   "execution_count": null,
   "id": "aa0f6ef9-7539-4988-bf0f-6f126260c9df",
   "metadata": {},
   "outputs": [],
   "source": []
  },
  {
   "cell_type": "code",
   "execution_count": null,
   "id": "52bcf881-2f07-4093-a830-be7a53d97ed5",
   "metadata": {},
   "outputs": [],
   "source": []
  },
  {
   "cell_type": "code",
   "execution_count": null,
   "id": "623c30f0-5941-42d7-9746-085b6e3f60f4",
   "metadata": {},
   "outputs": [],
   "source": []
  },
  {
   "cell_type": "code",
   "execution_count": null,
   "id": "e055babe-e55a-4520-9220-bb5bf32b753f",
   "metadata": {},
   "outputs": [],
   "source": []
  },
  {
   "cell_type": "code",
   "execution_count": null,
   "id": "59b52baf-bbab-4543-b6d9-97162ce47726",
   "metadata": {},
   "outputs": [],
   "source": []
  }
 ],
 "metadata": {
  "kernelspec": {
   "display_name": "pybird_emu_train",
   "language": "python",
   "name": "pybird_emu_train"
  },
  "language_info": {
   "codemirror_mode": {
    "name": "ipython",
    "version": 3
   },
   "file_extension": ".py",
   "mimetype": "text/x-python",
   "name": "python",
   "nbconvert_exporter": "python",
   "pygments_lexer": "ipython3",
   "version": "3.11.6"
  }
 },
 "nbformat": 4,
 "nbformat_minor": 5
}
