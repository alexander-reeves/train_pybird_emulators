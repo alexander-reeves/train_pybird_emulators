{
 "cells": [
  {
   "cell_type": "markdown",
   "id": "9eb620f8-cfe6-4a40-a6a0-f25a6d3e34ee",
   "metadata": {},
   "source": [
    "### In this notebook we demo the pre-trained growth emu"
   ]
  },
  {
   "cell_type": "code",
   "execution_count": 1,
   "id": "70f482ff-1670-47e8-8f3f-f544f6b6b9f3",
   "metadata": {},
   "outputs": [
    {
     "name": "stderr",
     "output_type": "stream",
     "text": [
      "2024-05-15 17:35:13.454865: W tensorflow/compiler/tf2tensorrt/utils/py_utils.cc:38] TF-TRT Warning: Could not find TensorRT\n"
     ]
    }
   ],
   "source": [
    "import os\n",
    "os.environ['JAX_PLATFORMS'] = 'cpu' #remove if you are using GPU!\n",
    "import jax\n",
    "jax.config.update(\"jax_enable_x64\", True)\n",
    "import matplotlib.pyplot as plt \n",
    "from train_pybird_emulators.emu_utils import integrated_model_jax\n",
    "import jax.numpy as jnp\n"
   ]
  },
  {
   "cell_type": "code",
   "execution_count": 2,
   "id": "ad5fe002-fdff-4c97-b3b3-fc3d22137002",
   "metadata": {},
   "outputs": [],
   "source": [
    "growth_model = integrated_model_jax.IntegratedModel(None,None,None)"
   ]
  },
  {
   "cell_type": "code",
   "execution_count": 3,
   "id": "d30e671f-8ddd-4c48-bb65-58fc6299141e",
   "metadata": {},
   "outputs": [
    {
     "name": "stderr",
     "output_type": "stream",
     "text": [
      "2024-05-15 17:35:17.610553: E external/local_xla/xla/stream_executor/cuda/cuda_driver.cc:282] failed call to cuInit: CUDA_ERROR_NO_DEVICE: no CUDA-capable device is detected\n"
     ]
    }
   ],
   "source": [
    "growth_model.restore(\"../pretrained_models/growth\")"
   ]
  },
  {
   "cell_type": "code",
   "execution_count": 4,
   "id": "2781a775-56e0-4cca-90cc-3028eaae9cc5",
   "metadata": {},
   "outputs": [],
   "source": [
    "#list of params for input to emulator - this has to be in this specific order (need to update this to be a dict input in the future!)\n",
    "params_dict = {\n",
    "\"omega_b\":0.02,\n",
    "\"omega_cdm\":0.12,\n",
    "\"n_s\":0.98,\n",
    "\"sigma8\":0.8, #actually has no impact on growth so will be removed in the next interation of this emu\n",
    "\"h\":0.7,\n",
    "\"z\":1.0\n",
    "}\n",
    "\n",
    "#params needs to be a 2d JAX array- if you just want one prediction you can write it like this\n",
    "params = jnp.array([[params_dict[\"omega_b\"], params_dict[\"omega_cdm\"], params_dict[\"n_s\"], params_dict[\"sigma8\"], params_dict[\"h\"],params_dict[\"z\"]]])"
   ]
  },
  {
   "cell_type": "code",
   "execution_count": 5,
   "id": "ccda1094-407a-47f9-b275-a8358ff5292f",
   "metadata": {},
   "outputs": [
    {
     "data": {
      "text/plain": [
       "Array([[0.02, 0.12, 0.98, 0.8 , 0.7 , 1.  ]], dtype=float64)"
      ]
     },
     "execution_count": 5,
     "metadata": {},
     "output_type": "execute_result"
    }
   ],
   "source": [
    "params"
   ]
  },
  {
   "cell_type": "code",
   "execution_count": 6,
   "id": "279be49f-e390-4859-80c8-935cb10f428b",
   "metadata": {},
   "outputs": [],
   "source": [
    "single_prediction=growth_model.predict(params)"
   ]
  },
  {
   "cell_type": "code",
   "execution_count": 7,
   "id": "7c610517-4a8b-4fe1-8eae-4b13536b0afe",
   "metadata": {},
   "outputs": [
    {
     "data": {
      "text/plain": [
       "Array([[0.61692419, 0.86139655, 1.73246101, 0.38900015]], dtype=float64)"
      ]
     },
     "execution_count": 7,
     "metadata": {},
     "output_type": "execute_result"
    }
   ],
   "source": [
    "single_prediction #D, f, H, DA"
   ]
  },
  {
   "cell_type": "code",
   "execution_count": 8,
   "id": "e6e3d9ea-fc01-4f34-9b7c-47e1c8a584a1",
   "metadata": {},
   "outputs": [],
   "source": [
    "# if you want multiple predictions at once you can call the model like: \n",
    "params_multi =  jnp.array([[params_dict[\"omega_b\"], params_dict[\"omega_cdm\"], params_dict[\"n_s\"], params_dict[\"sigma8\"], params_dict[\"h\"],params_dict[\"z\"]], \n",
    "                    [params_dict[\"omega_b\"], params_dict[\"omega_cdm\"], params_dict[\"n_s\"], params_dict[\"sigma8\"], params_dict[\"h\"],params_dict[\"z\"]]])"
   ]
  },
  {
   "cell_type": "code",
   "execution_count": 9,
   "id": "17325091-2e00-4da1-b6f6-fa2e4a13a17d",
   "metadata": {},
   "outputs": [],
   "source": [
    "multi_prediction=growth_model.predict(params_multi)"
   ]
  },
  {
   "cell_type": "code",
   "execution_count": 10,
   "id": "0fe66592-e98e-467f-b59b-4dfe72f5c7d4",
   "metadata": {},
   "outputs": [
    {
     "data": {
      "text/plain": [
       "Array([[0.61692418, 0.86139654, 1.73246112, 0.38900015],\n",
       "       [0.61692418, 0.86139654, 1.73246112, 0.38900015]], dtype=float64)"
      ]
     },
     "execution_count": 10,
     "metadata": {},
     "output_type": "execute_result"
    }
   ],
   "source": [
    "multi_prediction"
   ]
  },
  {
   "cell_type": "code",
   "execution_count": 11,
   "id": "72d38529-f56e-4716-b81c-b3454965a2ab",
   "metadata": {},
   "outputs": [
    {
     "data": {
      "text/plain": [
       "True"
      ]
     },
     "execution_count": 11,
     "metadata": {},
     "output_type": "execute_result"
    }
   ],
   "source": [
    "#test against CLASS\n",
    "from classy import Class\n",
    "M = Class()\n",
    "M.set({\n",
    "\"omega_b\":0.02,\n",
    "\"omega_cdm\":0.12,\n",
    "\"n_s\":0.98,\n",
    "\"sigma8\":0.8, #actually has no impact on growth so will be removed in the next interation of this emu\n",
    "\"h\":0.7,\n",
    "})"
   ]
  },
  {
   "cell_type": "code",
   "execution_count": 12,
   "id": "4591d719-fff7-4ad3-84ea-b416a173956a",
   "metadata": {},
   "outputs": [],
   "source": [
    "M.compute()\n"
   ]
  },
  {
   "cell_type": "code",
   "execution_count": 13,
   "id": "8b9aaddc-41c2-4044-9aa7-78098cca7e4c",
   "metadata": {},
   "outputs": [
    {
     "data": {
      "text/plain": [
       "0.61693752040359"
      ]
     },
     "execution_count": 13,
     "metadata": {},
     "output_type": "execute_result"
    }
   ],
   "source": [
    "M.scale_independent_growth_factor(1.0)"
   ]
  },
  {
   "cell_type": "code",
   "execution_count": null,
   "id": "5d47b0a8-9c5e-4d99-a563-0504e277ccee",
   "metadata": {},
   "outputs": [],
   "source": []
  }
 ],
 "metadata": {
  "kernelspec": {
   "display_name": "pybird_emu_jax",
   "language": "python",
   "name": "pybird_emu_jax"
  },
  "language_info": {
   "codemirror_mode": {
    "name": "ipython",
    "version": 3
   },
   "file_extension": ".py",
   "mimetype": "text/x-python",
   "name": "python",
   "nbconvert_exporter": "python",
   "pygments_lexer": "ipython3",
   "version": "3.10.4"
  }
 },
 "nbformat": 4,
 "nbformat_minor": 5
}
