{
 "cells": [
  {
   "cell_type": "code",
   "execution_count": 1,
   "id": "109525c2-9407-4543-817f-08b98541bacb",
   "metadata": {},
   "outputs": [
    {
     "name": "stdout",
     "output_type": "stream",
     "text": [
      "using jax\n"
     ]
    }
   ],
   "source": [
    "from pybird import config\n",
    "config.set_jax_enabled(True) # Enable JAX by setting the config Class\n",
    "import jax.numpy as jnp\n",
    "from pybird.correlator import Correlator\n",
    "\n",
    "\n",
    "import numpy as np\n",
    "import scipy\n",
    "from classy import Class\n",
    "from scipy.interpolate import interp1d\n",
    "import utils \n",
    "import h5py\n",
    "import matplotlib.pyplot as plt \n",
    "import os \n",
    "import jax\n",
    "import time\n",
    "import jax.numpy as jnp"
   ]
  },
  {
   "cell_type": "markdown",
   "id": "4bcef02f-6cec-4832-8ef4-1226a5f6f293",
   "metadata": {},
   "source": [
    "## In this notebook we outline the knots decomposition process and validate this"
   ]
  },
  {
   "cell_type": "markdown",
   "id": "b41d4f19-8df1-43e7-b227-087e0f29761e",
   "metadata": {},
   "source": [
    "### Lets begin with loading in a bank of pre-made Pks on a kk grid\n",
    "\n",
    "* Here we also define a fiducial covariance which will be used in the validation stage"
   ]
  },
  {
   "cell_type": "code",
   "execution_count": 2,
   "id": "f5b365aa-3606-4a20-b8cc-4db1faaa826f",
   "metadata": {},
   "outputs": [],
   "source": [
    "k_arr = np.array([0.001 , 0.0025, 0.005 , 0.0075, 0.01  , 0.0125, 0.015 , 0.0175,\n",
    "    0.02  , 0.0225, 0.025 , 0.0275, 0.03  , 0.035 , 0.04  , 0.045 ,\n",
    "    0.05  , 0.055 , 0.06  , 0.065 , 0.07  , 0.075 , 0.08  , 0.085 ,\n",
    "    0.09  , 0.095 , 0.1   , 0.105 , 0.11  , 0.115 , 0.12  , 0.125 ,\n",
    "    0.13  , 0.135 , 0.14  , 0.145 , 0.15  , 0.155 , 0.16  , 0.165 ,\n",
    "    0.17  , 0.175 , 0.18  , 0.185 , 0.19  , 0.195 , 0.2   , 0.205 ,\n",
    "    0.21  , 0.215 , 0.22  , 0.225 , 0.23  , 0.235 , 0.24  , 0.245 ,\n",
    "    0.25  , 0.255 , 0.26  , 0.265 , 0.27  , 0.275 , 0.28  , 0.285 ,\n",
    "    0.29  , 0.295 , 0.3   , 0.31  , 0.32  , 0.33  , 0.34  , 0.35  ,\n",
    "    0.36  , 0.37  , 0.38  , 0.39  , 0.4])\n",
    "\n",
    "nbank = 50"
   ]
  },
  {
   "cell_type": "code",
   "execution_count": 3,
   "id": "401c23df-9a01-40bf-8db4-ec8f5eb6d5d9",
   "metadata": {},
   "outputs": [
    {
     "name": "stdout",
     "output_type": "stream",
     "text": [
      "{'b1': 1.9536, 'c2': 0.5865, 'c4': 0.0, 'b3': -0.3595, 'cct': 0.1821, 'cr1': -0.8417, 'cr2': -0.808, 'ce0': 1.4954, 'ce1': 0.0, 'ce2': -1.6292, 'b2': 0.4147, 'b4': 0.4147}\n"
     ]
    }
   ],
   "source": [
    "outdir = os.path.join('/cluster/work/refregier/alexree/frequentist_framework/pybird_emu', 'data', 'eftboss', 'out')\n",
    "with open(os.path.join(outdir, 'fit_boss_onesky_pk_wc_cmass_ngc_l0.dat')) as f: data_file = f.read()\n",
    "eft_params_str = data_file.split(', \\n')[1].replace(\"# \", \"\")\n",
    "eft_params = {key: float(value) for key, value in (pair.split(': ') for pair in eft_params_str.split(', '))}\n",
    "print (eft_params)"
   ]
  },
  {
   "cell_type": "code",
   "execution_count": 4,
   "id": "0648e3ae-28a4-480e-8545-d8e38b4aee22",
   "metadata": {},
   "outputs": [],
   "source": [
    "def load_pk(file_path, nbank, kk):\n",
    "    with h5py.File(file_path + 'total_data.h5', 'r') as f:\n",
    "        lhc_pk_lin = f[\"pk_lin\"][:nbank]\n",
    "        param_array = f[\"params\"][:nbank]\n",
    "\n",
    "    lhc_pk_lin = np.array(lhc_pk_lin)\n",
    "\n",
    "    param_order = ['omega_cdm', 'omega_b', 'h', 'Omega_k', 'n_s', 'N_ur', 'm_ncdm', 'w0_fld', 'z']\n",
    "\n",
    "    lhc_cosmo_dict = {\n",
    "        param_order[i]: param_array[:, i] for i in range(param_array.shape[1])\n",
    "    }\n",
    "\n",
    "    return lhc_cosmo_dict, lhc_pk_lin\n",
    "\n",
    "k_l, k_r =  1e-4, 1.0 #In Mpc/h\n",
    "kk = np.logspace(-5, 1, 1000)\n",
    "mask = (kk < k_l) | (kk > k_r)\n",
    "# mask = np.where((kk>k_l) & (kk<k_r))\n",
    "kk_ = kk[mask]\n",
    "#Get covariance matrix at reference cosmology \n",
    "z=0.5\n",
    "M = Class()\n",
    "cosmo = {'omega_b': 0.02235, 'omega_cdm': 0.120, 'h': 0.675, 'ln10^{10}A_s': 3.044, 'n_s': 0.965}\n",
    "M.set(cosmo)\n",
    "M.set({'output': 'mPk', 'P_k_max_h/Mpc': 30, 'z_max_pk': z})\n",
    "M.compute()\n",
    "\n",
    "D1, f1 = M.scale_independent_growth_factor(z), M.scale_independent_growth_factor_f(z)\n",
    "Omega0_m = M.Omega0_m()\n",
    "pk_lin = np.array([M.pk_lin(k*M.h(), z)*M.h()**3 for k in kk]) # k in Mpc/h, pk in (Mpc/h)^3\n",
    "ipk_h = interp1d(kk, pk_lin, kind='cubic')\n",
    "\n",
    "Vs = 1.e11      # ideal volume (in [Mpc/h]^3), > 3 x better than DESI / Euclid (BOSS ~ 3e9, DESI ~ 3e10)\n",
    "nbar = 5e-3     # ideal nbar (for b1~2) (in [Mpc/h]^3), > 3 x better than DESI / Euclid\n",
    "\n",
    "# Vs = 1.e11      # ideal volume (in [Mpc/h]^3), > 3 x better than DESI / Euclid (BOSS ~ 3e9, DESI ~ 3e10)\n",
    "# nbar = 6e-3     # ideal nbar (for b1~2) (in [Mpc/h]^3), > 12 x better than DESI / Euclid\n",
    "cov = utils.get_cov(k_arr, ipk_h, eft_params[\"b1\"], f1, mult=3, nbar=nbar, Vs=Vs)\n",
    "cov_inv = np.linalg.inv(cov)\n",
    "err_0 = np.sqrt(np.diag(cov))\n",
    "\n",
    "lhc_cosmo_dict, lhc_pk_lin = load_pk('/cluster/work/refregier/alexree/frequentist_framework/FreqCosmo/lhc_bank_z0p5to2p5/', nbank, kk)"
   ]
  },
  {
   "cell_type": "code",
   "execution_count": 5,
   "id": "fde11065-134a-47f9-bc59-c49e1109adb2",
   "metadata": {},
   "outputs": [
    {
     "data": {
      "text/plain": [
       "(50, 1000)"
      ]
     },
     "execution_count": 5,
     "metadata": {},
     "output_type": "execute_result"
    }
   ],
   "source": [
    "lhc_pk_lin.shape"
   ]
  },
  {
   "cell_type": "code",
   "execution_count": 6,
   "id": "c6a3e9c8-f76b-4a5d-a49e-015607bef081",
   "metadata": {},
   "outputs": [],
   "source": [
    "M_test = Class()\n",
    "cosmo = {key: lhc_cosmo_dict[key][7] for key in lhc_cosmo_dict.keys() if key not in [\"z\"]}\n",
    "M_test.set({\"output\":\"mPk\", \n",
    "                        \"N_ncdm\": 1,\n",
    "                        \"T_ncdm\": 0.71611,\n",
    "                        \"Omega_Lambda\": 0,\n",
    "                       'z_max_pk': 0.5})\n",
    "    \n",
    "M_test.set(cosmo)\n",
    "M_test.set({'output': 'mPk', 'P_k_max_h/Mpc': 30, 'z_max_pk': z})\n",
    "M_test.compute()\n",
    "\n",
    "pk_lin = np.array([M_test.pk_lin(k*M_test.h(), z)*M_test.h()**3 for k in kk]) # k in Mpc/h, pk in (Mpc/h)^3\n"
   ]
  },
  {
   "cell_type": "code",
   "execution_count": 7,
   "id": "967dbd5f-906a-40fd-aa4b-b13ca845f726",
   "metadata": {},
   "outputs": [
    {
     "data": {
      "text/plain": [
       "[<matplotlib.lines.Line2D at 0x2aeed2ab3af0>]"
      ]
     },
     "execution_count": 7,
     "metadata": {},
     "output_type": "execute_result"
    },
    {
     "data": {
      "image/png": "[encoded data removed]",
      "text/plain": [
       "<Figure size 432x288 with 1 Axes>"
      ]
     },
     "metadata": {
      "needs_background": "light"
     },
     "output_type": "display_data"
    }
   ],
   "source": [
    "fig, ax = plt.subplots()\n",
    "ax.set_xscale(\"log\")\n",
    "\n",
    "ax.plot(kk, pk_lin)"
   ]
  },
  {
   "cell_type": "code",
   "execution_count": 8,
   "id": "c9619e9a-afd4-464d-8fc1-ec0f3d1f5bc0",
   "metadata": {},
   "outputs": [
    {
     "data": {
      "text/plain": [
       "array([5.99708372e+03, 4.18508429e+03, 3.58115884e+03, 3.07548073e+03,\n",
       "       2.64616593e+03, 2.27864528e+03, 1.96198815e+03, 1.68815678e+03,\n",
       "       1.45134261e+03, 1.24696824e+03, 1.07141971e+03, 9.21286967e+02,\n",
       "       5.61309812e+02, 4.21548383e+02, 3.24270923e+02, 2.57563757e+02,\n",
       "       2.11681767e+02, 1.79310137e+02, 1.55108485e+02, 1.35472269e+02,\n",
       "       1.18283349e+02, 1.02558906e+02, 8.81032166e+01, 7.51382913e+01,\n",
       "       6.39590004e+01, 5.47440147e+01, 4.74599084e+01, 4.18808847e+01,\n",
       "       3.76641895e+01, 3.44169019e+01, 3.17707694e+01, 2.94158878e+01,\n",
       "       2.71461197e+01, 2.48656520e+01, 2.25746090e+01, 2.03417942e+01,\n",
       "       1.82607684e+01, 1.64118074e+01, 1.48422898e+01, 1.35583920e+01,\n",
       "       1.25308672e+01, 1.17067777e+01, 1.10228019e+01, 1.04188338e+01,\n",
       "       9.84515486e+00, 9.26771381e+00, 8.67456283e+00, 8.07383659e+00,\n",
       "       7.48567646e+00, 6.93220725e+00, 6.43053404e+00, 5.99019604e+00,\n",
       "       5.61285138e+00, 5.29315576e+00, 5.02092964e+00, 4.78224614e+00,\n",
       "       4.56326604e+00, 4.35259640e+00, 4.14371904e+00, 3.93427349e+00,\n",
       "       3.72541781e+00, 3.52105164e+00, 3.32602570e+00, 3.14498085e+00,\n",
       "       2.98102953e+00, 2.83469669e+00, 1.91268453e+00, 1.75550119e+00,\n",
       "       1.61843398e+00, 1.48861558e+00, 1.36391223e+00, 1.24955986e+00,\n",
       "       1.15004757e+00, 1.06550239e+00, 9.91738255e-01, 9.24257584e-01,\n",
       "       8.60807859e-01, 1.53901553e+04, 1.07538210e+04, 9.20590483e+03,\n",
       "       7.90703846e+03, 6.80367739e+03, 5.85889614e+03, 5.04476213e+03,\n",
       "       4.34067921e+03, 3.73174597e+03, 3.20621023e+03, 2.75478930e+03,\n",
       "       2.36872027e+03, 1.44314441e+03, 1.08374490e+03, 8.33598809e+02,\n",
       "       6.62069703e+02, 5.44095973e+02, 4.60865514e+02, 3.98643853e+02,\n",
       "       3.48160801e+02, 3.03969089e+02, 2.63541433e+02, 2.26374933e+02,\n",
       "       1.93041049e+02, 1.64298556e+02, 1.40607280e+02, 1.21881444e+02,\n",
       "       1.07540419e+02, 9.67027118e+01, 8.83577672e+01, 8.15584639e+01,\n",
       "       7.55077487e+01, 6.96754632e+01, 6.38152139e+01, 5.79273680e+01,\n",
       "       5.21889418e+01, 4.68406259e+01, 4.20889351e+01, 3.80557632e+01,\n",
       "       3.47570201e+01, 3.21174990e+01, 3.00010529e+01, 2.82448235e+01,\n",
       "       2.66942219e+01, 2.52213762e+01, 2.37387122e+01, 2.22155084e+01,\n",
       "       2.06726983e+01, 1.91620980e+01, 1.77406242e+01, 1.64522815e+01,\n",
       "       1.53216129e+01, 1.43528894e+01, 1.35323700e+01, 1.28338758e+01,\n",
       "       1.22215891e+01, 1.16599172e+01, 1.11195591e+01, 1.05837526e+01,\n",
       "       1.00464294e+01, 9.51057135e+00, 8.98621192e+00, 8.48583059e+00,\n",
       "       8.02136699e+00, 7.60082911e+00, 7.22556932e+00, 4.87403039e+00,\n",
       "       4.47120261e+00, 4.12002491e+00, 3.78740873e+00, 3.46787307e+00,\n",
       "       3.17489220e+00, 2.92001862e+00, 2.70358425e+00, 2.51482640e+00,\n",
       "       2.34218074e+00, 2.17985719e+00, 2.03134754e+04, 1.41916666e+04,\n",
       "       1.21482478e+04, 1.04340675e+04, 8.97801282e+03, 7.73126797e+03,\n",
       "       6.65694477e+03, 5.72785315e+03, 4.92432390e+03, 4.23084619e+03,\n",
       "       3.63516918e+03, 3.12572867e+03, 1.90435881e+03, 1.43011036e+03,\n",
       "       1.10002729e+03, 8.73683067e+02, 7.18007758e+02, 6.08178023e+02,\n",
       "       5.26070692e+02, 4.59453387e+02, 4.01138194e+02, 3.47790206e+02,\n",
       "       2.98745748e+02, 2.54758801e+02, 2.16830529e+02, 1.85567636e+02,\n",
       "       1.60856903e+02, 1.41932158e+02, 1.27630233e+02, 1.16617668e+02,\n",
       "       1.07644707e+02, 9.96596134e+01, 9.19628242e+01, 8.42292105e+01,\n",
       "       7.64592484e+01, 6.88865067e+01, 6.18285746e+01, 5.55579461e+01,\n",
       "       5.02354579e+01, 4.58820994e+01, 4.23986307e+01, 3.96054008e+01,\n",
       "       3.72875129e+01, 3.52409819e+01, 3.32970767e+01, 3.13402395e+01,\n",
       "       2.93299312e+01, 2.72937721e+01, 2.53001327e+01, 2.34241146e+01,\n",
       "       2.17237813e+01, 2.02315168e+01, 1.89529558e+01, 1.78699659e+01,\n",
       "       1.69480030e+01, 1.61398041e+01, 1.53984033e+01, 1.46851367e+01,\n",
       "       1.39778857e+01, 1.32686425e+01, 1.25613410e+01, 1.18692202e+01,\n",
       "       1.12087466e+01, 1.05956744e+01, 1.00405699e+01, 9.54521740e+00,\n",
       "       6.43898253e+00, 5.90719643e+00, 5.44357897e+00, 5.00446752e+00,\n",
       "       4.58262845e+00, 4.19584039e+00, 3.85934635e+00, 3.57358356e+00,\n",
       "       3.32434964e+00, 3.09638435e+00, 2.88204685e+00])"
      ]
     },
     "execution_count": 8,
     "metadata": {},
     "output_type": "execute_result"
    }
   ],
   "source": [
    "err_0"
   ]
  },
  {
   "cell_type": "code",
   "execution_count": 9,
   "id": "9819fe88-d256-4c8d-9d17-5911787b4b15",
   "metadata": {},
   "outputs": [
    {
     "name": "stdout",
     "output_type": "stream",
     "text": [
      "7\n"
     ]
    },
    {
     "data": {
      "text/plain": [
       "[<matplotlib.lines.Line2D at 0x2aeed2e5aef0>]"
      ]
     },
     "execution_count": 9,
     "metadata": {},
     "output_type": "execute_result"
    },
    {
     "data": {
      "image/png": "[encoded data removed]",
      "text/plain": [
       "<Figure size 432x288 with 1 Axes>"
      ]
     },
     "metadata": {
      "needs_background": "light"
     },
     "output_type": "display_data"
    }
   ],
   "source": [
    "fig,ax =plt.subplots()\n",
    "ax.set_xscale(\"log\")\n",
    "ax.set_yscale(\"log\")\n",
    "for i in range(7,8): \n",
    "    print(i)\n",
    "    ax.plot(kk, lhc_pk_lin[i])\n",
    "\n",
    "ax.plot(kk, pk_lin)"
   ]
  },
  {
   "cell_type": "markdown",
   "id": "40e01a8d-41ac-41de-b65a-c137bdd4f35d",
   "metadata": {},
   "source": [
    "### Need to finally get the required pieces for the knots decomposition"
   ]
  },
  {
   "cell_type": "code",
   "execution_count": 10,
   "id": "e0469e6a-693d-4ecc-b3ed-61d971850fd3",
   "metadata": {},
   "outputs": [
    {
     "name": "stdout",
     "output_type": "stream",
     "text": [
      "Time taken to get pk_info_dict_list: 0.42856407165527344\n"
     ]
    }
   ],
   "source": [
    "def get_logslope(x, f, side='left'):\n",
    "    if side == 'left': \n",
    "        n = (jnp.log(f[1]) - jnp.log(f[0])) / (jnp.log(x[1]) - jnp.log(x[0]))\n",
    "        A = f[0] / x[0]**n\n",
    "    elif side == 'right':\n",
    "        n = (jnp.log(f[-1]) - jnp.log(f[-2])) / (jnp.log(x[-1]) - jnp.log(x[-2]))\n",
    "        A = f[-1] / x[-1]**n\n",
    "    return A, n \n",
    "\n",
    "def return_info(lhc_pk_lin_i, kk, kk_): \n",
    "    pk_i = 1.*lhc_pk_lin_i\n",
    "    pk_max = jnp.max(pk_i)\n",
    "    pk = jnp.array(1.*pk_i / pk_max) # normalizing\n",
    "    ilogpk = utils.InterpolatedUnivariateSpline_jax(jnp.log(kk), jnp.log(pk), k=3, endpoints='natural')\n",
    "    pkk_ = jnp.exp(ilogpk(jnp.log(kk_)))\n",
    "\n",
    "    A_l, n_l = get_logslope(kk_, pkk_, side='left')\n",
    "    A_r, n_r = get_logslope(kk_, pkk_, side='right')\n",
    "\n",
    "    pk_r = A_r * k_r**n_r\n",
    "    dpk_r = A_r * n_r * k_r**(n_r-1.)\n",
    "    dlogpk_r = (k_r/pk_r * dpk_r)\n",
    "\n",
    "    return {'pk':pk, 'dlogpk_r': jnp.array(dlogpk_r), 'pk_max':pk_max}\n",
    "\n",
    "return_info_jit = jax.jit(return_info)\n",
    "\n",
    "start = time.time()\n",
    "\n",
    "#use vmap to get the info for each pk in the bank\n",
    "pk_info_dict_list = jax.vmap(return_info_jit, in_axes=(0, None, None))(lhc_pk_lin, kk, kk_)\n",
    "print(f\"Time taken to get pk_info_dict_list: {time.time()-start}\")"
   ]
  },
  {
   "cell_type": "markdown",
   "id": "b7597698-cf62-4bcd-bfae-f877354a5f29",
   "metadata": {},
   "source": [
    "### Now lets consider our starting point\n",
    "\n",
    "* This has proven to faithfully reproduce the pybird predictions at one loop already to good accuracy"
   ]
  },
  {
   "cell_type": "code",
   "execution_count": 11,
   "id": "d3658e52-b9df-442e-9a07-bfa60e3edd6e",
   "metadata": {},
   "outputs": [],
   "source": [
    "nknots = 75\n",
    "k_mid = 0.05\n",
    "n_low = 15\n",
    "n_high = nknots - n_low\n",
    "knots_low = np.geomspace(k_l, k_mid, n_low)\n",
    "knots_high = np.geomspace(k_mid+0.001, k_r, n_high)\n",
    "knots = np.concatenate((knots_low,knots_high))"
   ]
  },
  {
   "cell_type": "markdown",
   "id": "f5066e09-5787-4b0d-a1fc-71f160c5ec74",
   "metadata": {},
   "source": [
    "### Set up the PyBird testing\n",
    "\n",
    "* Need to make everything a JAX array to make this work"
   ]
  },
  {
   "cell_type": "code",
   "execution_count": 12,
   "id": "a4f6a86b-6c7a-4ba8-ac67-aa522143093c",
   "metadata": {},
   "outputs": [],
   "source": [
    "knots = jnp.array(knots)\n",
    "kk = jnp.array(kk)"
   ]
  },
  {
   "cell_type": "code",
   "execution_count": 13,
   "id": "d31205dd-6905-410b-9080-a148f3d0f8e9",
   "metadata": {},
   "outputs": [],
   "source": [
    "N = Correlator()\n",
    "\n",
    "N.set({'output': 'bPk', 'multipole': 3, 'kmax': 0.4,\n",
    "       'fftaccboost': 2, # boosting the FFTLog precision (slower, but ~0.1% more precise -> let's emulate this)\n",
    "       'with_resum': False, 'with_exact_time': True,\n",
    "       'km': 1., 'kr': 1., 'nd': 3e-4,\n",
    "       'eft_basis': 'eftoflss', 'with_stoch': True})\n",
    "N.compute({'kk': kk, 'pk_lin': jnp.array(lhc_pk_lin[0]), 'D': D1, 'f': f1, 'z': z, 'Omega0_m': Omega0_m},\n",
    "          do_core=True, do_survey_specific=True)\n",
    "bpk_benchmark = N.get(eft_params)\n"
   ]
  },
  {
   "cell_type": "code",
   "execution_count": 14,
   "id": "fc516fbc-9e49-4692-ab75-e7362b75d16c",
   "metadata": {},
   "outputs": [],
   "source": [
    "from pybird import config\n",
    "config.set_jax_enabled(True) # Enable JAX by setting the config Class\n",
    "import jax.numpy as jnp\n",
    "from pybird.correlator import Correlator"
   ]
  },
  {
   "cell_type": "code",
   "execution_count": 15,
   "id": "afdbb2c5-1441-4af5-be7d-5fbb37961741",
   "metadata": {},
   "outputs": [],
   "source": [
    "from pybird import config\n",
    "config.set_jax_enabled(True) # Enable JAX by setting the config Class"
   ]
  },
  {
   "cell_type": "code",
   "execution_count": 16,
   "id": "e04bbb2b-4bc7-4ffd-a611-7f5cd2d691da",
   "metadata": {},
   "outputs": [
    {
     "data": {
      "text/plain": [
       "0.3124279835390946"
      ]
     },
     "execution_count": 16,
     "metadata": {},
     "output_type": "execute_result"
    }
   ],
   "source": [
    "Omega0_m"
   ]
  },
  {
   "cell_type": "code",
   "execution_count": 17,
   "id": "050ea481-aa11-419d-b43d-6c12f50cb353",
   "metadata": {},
   "outputs": [],
   "source": [
    "indices = jnp.where((kk>k_l) & (kk<k_r))"
   ]
  },
  {
   "cell_type": "code",
   "execution_count": 18,
   "id": "77597978-38f5-4dfa-8a4e-f47fc9007c9d",
   "metadata": {},
   "outputs": [],
   "source": [
    "N = Correlator()\n",
    "N.set({'output': 'bPk', 'multipole': 3, 'kmax': 0.4,\n",
    "       'fftaccboost': 2, # boosting the FFTLog precision (slower, but ~0.1% more precise -> let's emulate this)\n",
    "       'with_resum': False, 'with_exact_time': True,\n",
    "       'km': 1., 'kr': 1., 'nd': 3e-4,\n",
    "       'eft_basis': 'eftoflss', 'with_stoch': True})\n",
    "\n",
    "N_rec = Correlator()\n",
    "N_rec.set({'output': 'bPk', 'multipole': 3, 'kmax': 0.4,\n",
    "       'fftaccboost': 2, # boosting the FFTLog precision (slower, but ~0.1% more precise -> let's emulate this)\n",
    "       'with_resum': False, 'with_exact_time': True,\n",
    "       'km': 1., 'kr': 1., 'nd': 3e-4,\n",
    "       'eft_basis': 'eftoflss', 'with_stoch': True})"
   ]
  },
  {
   "cell_type": "code",
   "execution_count": 19,
   "id": "57afef19-5d6e-4926-b35d-bfb887de109f",
   "metadata": {},
   "outputs": [],
   "source": [
    "def get_pybird_chi2(knots, kk, cov_inv, pk_input, dlogpk_r, pk_max, return_spectra=False):\n",
    "    # Construct the spline\n",
    "    ilogpk = utils.InterpolatedUnivariateSpline_jax(jnp.log(kk), \\\n",
    "    jnp.log(pk_input),endpoints='natural')\n",
    "    logpk = ilogpk(jnp.log(knots))\n",
    "\n",
    "    spline = utils.PiecewiseSpline_jax(knots, logpk, dlogpk_r)\n",
    "\n",
    "    prediction_pklin = jnp.exp(spline(jnp.log(kk)))\n",
    "    \n",
    "    einsum_str = 'b,lbx->lx'\n",
    "    \n",
    "    \n",
    "    \n",
    "    N.compute({'kk': kk[indices], 'pk_lin': jnp.array(pk_input[indices])*pk_max, 'D': D1, 'f': f1, 'z': z, 'Omega0_m': Omega0_m},\n",
    "            do_core=True, do_survey_specific=True)\n",
    "    \n",
    "    bpk_truth = N.get(eft_params)\n",
    "\n",
    "    N_rec.compute({'kk': kk[indices], 'pk_lin': jnp.array(prediction_pklin[indices])*pk_max, 'D': D1, 'f': f1, 'z': z, 'Omega0_m': Omega0_m},\n",
    "            do_core=True, do_survey_specific=True)\n",
    "    \n",
    "    N_rec.get(eft_params)\n",
    "\n",
    "    N.bird.Ploopl = N_rec.bird.Ploopl\n",
    "    N.bird.setreducePslb(N.bias)\n",
    "    \n",
    "    bpk_reconstructed = N.bird.fullPs\n",
    "\n",
    "    difference = bpk_truth.flatten() - bpk_reconstructed.flatten()\n",
    "    chi2 = jnp.dot(difference, jnp.dot(cov_inv, difference))\n",
    "    \n",
    "    if return_spectra: \n",
    "        return chi2, bpk_truth, bpk_reconstructed, prediction_pklin\n",
    "    return chi2\n"
   ]
  },
  {
   "cell_type": "code",
   "execution_count": 20,
   "id": "5caf4206-f919-49a0-9e1c-1ade964d33ae",
   "metadata": {},
   "outputs": [],
   "source": [
    "get_pybird_chi2_vmap = jax.vmap(get_pybird_chi2, in_axes=(None, None, None, 0, 0, 0))"
   ]
  },
  {
   "cell_type": "code",
   "execution_count": 21,
   "id": "d69a3d4d-bfde-432c-8f29-18ff103e1ac6",
   "metadata": {},
   "outputs": [
    {
     "data": {
      "text/plain": [
       "Array([4.9698967e-03, 2.8519660e-01, 4.6763282e+00, 1.2881975e-03,\n",
       "       9.7744188e+00], dtype=float32)"
      ]
     },
     "execution_count": 21,
     "metadata": {},
     "output_type": "execute_result"
    }
   ],
   "source": [
    "get_pybird_chi2_vmap(knots, kk, cov_inv, pk_info_dict_list[\"pk\"][0:5], pk_info_dict_list[\"dlogpk_r\"][0:5], \\\n",
    "        pk_info_dict_list[\"pk_max\"][0:5])"
   ]
  },
  {
   "cell_type": "code",
   "execution_count": 22,
   "id": "1541830e-9855-4fca-b444-ca3f218db9de",
   "metadata": {},
   "outputs": [],
   "source": [
    "chi2, bpk_truth, bpk_reconstructed, prediction_pklin = get_pybird_chi2(knots, kk, cov_inv, \\\n",
    "pk_info_dict_list[\"pk\"][4], pk_info_dict_list[\"dlogpk_r\"][4], \\\n",
    "pk_info_dict_list[\"pk_max\"][4], return_spectra=True)"
   ]
  },
  {
   "cell_type": "code",
   "execution_count": 23,
   "id": "6c4a281a-e6ff-499a-a62d-8400c09fa24a",
   "metadata": {},
   "outputs": [
    {
     "data": {
      "image/png": "[encoded data removed]",
      "text/plain": [
       "<Figure size 432x288 with 1 Axes>"
      ]
     },
     "metadata": {
      "needs_background": "light"
     },
     "output_type": "display_data"
    }
   ],
   "source": [
    "plt.plot(kk[~mask], pk_info_dict_list[\"pk\"][0][~mask]/prediction_pklin[~mask])\n",
    "plt.xscale(\"log\")"
   ]
  },
  {
   "cell_type": "code",
   "execution_count": 24,
   "id": "30037290-b06b-4d17-9003-f6b978d9a31c",
   "metadata": {},
   "outputs": [
    {
     "data": {
      "text/plain": [
       "<matplotlib.legend.Legend at 0x2aefa46b3bb0>"
      ]
     },
     "execution_count": 24,
     "metadata": {},
     "output_type": "execute_result"
    },
    {
     "data": {
      "image/png": "[encoded data removed]",
      "text/plain": [
       "<Figure size 720x432 with 3 Axes>"
      ]
     },
     "metadata": {
      "needs_background": "light"
     },
     "output_type": "display_data"
    }
   ],
   "source": [
    "fig, ax = plt.subplots(3,1,figsize =(10,6))\n",
    "\n",
    "# truth = bpk_benchmark\n",
    "truth = bpk_truth\n",
    "reconstructed = bpk_reconstructed\n",
    "for i, ell in enumerate([0, 2, 4]):\n",
    "    ax[i].plot(k_arr, (truth[i]-reconstructed[i])/truth[i], 'C0', alpha=0.2, label=fr'$\\Delta P^g_{ell}/truth$')\n",
    "    ax[i].fill_between(k_arr, -err_0[i*77:(i+1)*77]/truth[i], err_0[i*77:(i+1)*77]/truth[i], color='orange', alpha=.4, label='errorbar')\n",
    "    ax[i].fill_between(k_arr, -1e-3*np.ones_like(k_arr), 1e-3*np.ones_like(k_arr), color='C2', alpha=.3, label='Boltzmann code error')\n",
    "    ax[i].set_ylim([-0.005,0.005])\n",
    "\n",
    "plt.legend()"
   ]
  },
  {
   "cell_type": "code",
   "execution_count": 25,
   "id": "5cd36ff7-36f6-4de6-9359-ab98a2e4003a",
   "metadata": {},
   "outputs": [
    {
     "data": {
      "text/plain": [
       "0.20569469"
      ]
     },
     "execution_count": 25,
     "metadata": {},
     "output_type": "execute_result"
    }
   ],
   "source": [
    "np.sqrt(chi2/(77*3))"
   ]
  },
  {
   "cell_type": "markdown",
   "id": "571d8436-db49-45fa-8698-56dca4ce4cf7",
   "metadata": {},
   "source": [
    "### Now finally lets JIT this function and do some optimization"
   ]
  },
  {
   "cell_type": "code",
   "execution_count": 26,
   "id": "e90e46aa-9a90-49d2-a930-e8dbd3973bdd",
   "metadata": {},
   "outputs": [],
   "source": [
    "get_pybird_chi2_jit = jax.jit(get_pybird_chi2)"
   ]
  },
  {
   "cell_type": "code",
   "execution_count": 27,
   "id": "8f1e85cd-7402-4e19-8790-fcea30dcf0e1",
   "metadata": {},
   "outputs": [
    {
     "name": "stdout",
     "output_type": "stream",
     "text": [
      "46.3 ms ± 5.78 ms per loop (mean ± std. dev. of 7 runs, 1 loop each)\n"
     ]
    }
   ],
   "source": [
    "%%timeit\n",
    "\n",
    "get_pybird_chi2_jit(knots, kk, cov_inv, \\\n",
    "            pk_info_dict_list[\"pk\"][0], pk_info_dict_list[\"dlogpk_r\"][0], \\\n",
    "            pk_info_dict_list[\"pk_max\"][0])"
   ]
  },
  {
   "cell_type": "code",
   "execution_count": 28,
   "id": "f8b146f1-006c-439b-8485-7711b4cf962a",
   "metadata": {},
   "outputs": [],
   "source": [
    "get_pybird_chi2_jit_vmap = jax.vmap(get_pybird_chi2_jit, in_axes=(None, None, None, 0,0,0))"
   ]
  },
  {
   "cell_type": "code",
   "execution_count": 29,
   "id": "5d424a63-6e58-48d7-abd7-33c908e85225",
   "metadata": {},
   "outputs": [
    {
     "data": {
      "text/plain": [
       "(50, 1000)"
      ]
     },
     "execution_count": 29,
     "metadata": {},
     "output_type": "execute_result"
    }
   ],
   "source": [
    "pk_info_dict_list[\"pk\"].shape "
   ]
  },
  {
   "cell_type": "code",
   "execution_count": 30,
   "id": "6cb8d326-1784-45df-b277-d5c86e04cb76",
   "metadata": {},
   "outputs": [],
   "source": [
    "# starting with Jitting need to make a wrapper function as cant pass PyBird classes around\n",
    "def get_chi2_multiple(internal_knots):\n",
    "    \n",
    "    knots = jnp.concatenate((jnp.array([k_l]), internal_knots, jnp.array([k_r])))\n",
    "    chi2=0\n",
    "    for i in range(pk_info_dict_list[\"pk\"].shape[0]):\n",
    "        chi2 += get_pybird_chi2_jit(knots, kk, cov_inv, \\\n",
    "            pk_info_dict_list[\"pk\"][i], pk_info_dict_list[\"dlogpk_r\"][i], \\\n",
    "            pk_info_dict_list[\"pk_max\"][i])\n",
    "            \n",
    "    return chi2/pk_info_dict_list[\"pk\"].shape[1]/77*3"
   ]
  },
  {
   "cell_type": "code",
   "execution_count": 31,
   "id": "503ac599-44dd-44ee-97d5-cbac1557b687",
   "metadata": {
    "scrolled": true,
    "tags": []
   },
   "outputs": [
    {
     "name": "stdout",
     "output_type": "stream",
     "text": [
      "time for 50: 2.158705949783325\n"
     ]
    }
   ],
   "source": [
    "start = time.time()\n",
    "get_chi2_multiple(knots[1:-1])\n",
    "print(\"time for 50:\", time.time()-start)"
   ]
  },
  {
   "cell_type": "markdown",
   "id": "7bcbd2d7-41ad-41c4-b0b6-4fcfc6d57b27",
   "metadata": {},
   "source": [
    "### Now finally for some optimization \n",
    "* I did try with VMAP instead of the loop but the memory overhead was very high"
   ]
  },
  {
   "cell_type": "code",
   "execution_count": 32,
   "id": "451ea329-a783-458f-b41a-9944ee96414b",
   "metadata": {},
   "outputs": [],
   "source": [
    "import optax"
   ]
  },
  {
   "cell_type": "code",
   "execution_count": 37,
   "id": "996fc89f-9cc4-4f09-a4d1-b2512d9ab5e6",
   "metadata": {},
   "outputs": [],
   "source": [
    "# Gradient of the function with respect to its parameters\n",
    "gradient_function = jax.grad(get_chi2_multiple)\n",
    "\n",
    "# Initial parameters (internal knots), assuming a shape that matches your requirements\n",
    "internal_knots_init = knots[1:-1]  # Replace `initial_guesses` with your initial values\n",
    "\n",
    "# Set up the optimizer (for example, Stochastic Gradient Descent with a certain learning rate)\n",
    "optimizer = optax.sgd(learning_rate=0.01)\n",
    "opt_state = optimizer.init(internal_knots_init)"
   ]
  },
  {
   "cell_type": "code",
   "execution_count": 40,
   "id": "372b8f91-02b9-4dac-af84-82d77b1fa646",
   "metadata": {},
   "outputs": [
    {
     "data": {
      "text/plain": [
       "Array([ 2.5305260e-02,  2.2516043e-01,  1.4061044e+00,  1.8777096e-01,\n",
       "       -4.3570915e-01,  3.0036805e-02,  2.9808037e-02, -3.2184608e-02,\n",
       "       -1.3483779e-01,  8.1080186e-01, -1.2827334e+01,  6.9703415e+01,\n",
       "       -9.3598267e+01,  5.1123425e+01,  1.5701803e+01,  6.1853069e-01,\n",
       "       -5.5844695e-03,  1.3377378e-02,  1.5315781e-02,  2.1503814e-02,\n",
       "        1.1103454e-02, -3.7135170e-03, -6.3832109e-03, -9.4129797e-03,\n",
       "       -3.4851961e-02, -3.4088336e-02,  5.5439002e-03, -1.7734112e-02,\n",
       "        4.1008268e-02,  3.8146485e-02,  1.2258885e-02,  2.8928913e-02,\n",
       "       -2.2445358e-02, -3.4345537e-02, -5.0029512e-02, -2.9949246e-02,\n",
       "        5.6800742e-02,  3.8433995e-02, -3.5546180e-03, -3.6580689e-02,\n",
       "       -1.1382258e-02, -6.0131466e-03,  3.4759067e-02, -8.2320325e-02,\n",
       "       -1.2590146e-01,  2.3639932e-01, -3.4558412e-02, -1.4307939e-01,\n",
       "       -7.6826066e-01,  2.0846918e-01, -1.6367011e+00,  8.6218989e-01,\n",
       "       -7.3168522e-01,  3.1436124e-01, -8.4151620e-01, -2.4251333e-01,\n",
       "        1.2489952e+00, -7.7644311e-02, -1.5402408e-04,  8.3429823e-03,\n",
       "        1.4762201e-03,  5.7785510e-04, -5.7891320e-04, -1.8211901e-04,\n",
       "        1.4118468e-04, -3.2205604e-05,  5.1073753e-06, -4.5986999e-06,\n",
       "       -7.4868831e-06, -1.8365166e-05, -1.5928104e-05,  6.6857656e-06,\n",
       "        1.4286896e-04], dtype=float32)"
      ]
     },
     "execution_count": 40,
     "metadata": {},
     "output_type": "execute_result"
    }
   ],
   "source": [
    "gradient_function(knots[1:-1])"
   ]
  },
  {
   "cell_type": "code",
   "execution_count": 41,
   "id": "7b6c1b21-712a-44d7-acb1-4010c4d0098f",
   "metadata": {},
   "outputs": [
    {
     "name": "stdout",
     "output_type": "stream",
     "text": [
      "Invalid nan value encountered in the output of a C++-jit/pmap function. Calling the de-optimized version.\n",
      "Invalid nan value encountered in the output of a C++-jit/pmap function. Calling the de-optimized version.\n"
     ]
    },
    {
     "ename": "FloatingPointError",
     "evalue": "invalid value (nan) encountered in jit(convert_element_type). Because jax_config.debug_nans.value and/or config.jax_debug_infs is set, the de-optimized function (i.e., the function as if the `jit` decorator were removed) was called in an attempt to get a more precise error message. However, the de-optimized function did not produce invalid values during its execution. This behavior can result from `jit` optimizations causing the invalid value to be produced. It may also arise from having nan/inf constants as outputs, like `jax.jit(lambda ...: jax.numpy.nan)(...)`. \n\nIt may be possible to avoid the invalid value by removing the `jit` decorator, at the cost of losing optimizations. \n\nIf you see this error, consider opening a bug report at https://github.com/google/jax.",
     "output_type": "error",
     "traceback": [
      "\u001b[0;31m---------------------------------------------------------------------------\u001b[0m",
      "\u001b[0;31mFloatingPointError\u001b[0m                        Traceback (most recent call last)",
      "    \u001b[0;31m[... skipping hidden 1 frame]\u001b[0m\n",
      "File \u001b[0;32m/cluster/project/refregier/areeves/pybird_emu_jax/lib64/python3.10/site-packages/jax/_src/dispatch.py:322\u001b[0m, in \u001b[0;36mcheck_special\u001b[0;34m(name, bufs)\u001b[0m\n\u001b[1;32m    321\u001b[0m \u001b[38;5;28;01mfor\u001b[39;00m buf \u001b[38;5;129;01min\u001b[39;00m bufs:\n\u001b[0;32m--> 322\u001b[0m   \u001b[43m_check_special\u001b[49m\u001b[43m(\u001b[49m\u001b[43mname\u001b[49m\u001b[43m,\u001b[49m\u001b[43m \u001b[49m\u001b[43mbuf\u001b[49m\u001b[38;5;241;43m.\u001b[39;49m\u001b[43mdtype\u001b[49m\u001b[43m,\u001b[49m\u001b[43m \u001b[49m\u001b[43mbuf\u001b[49m\u001b[43m)\u001b[49m\n",
      "File \u001b[0;32m/cluster/project/refregier/areeves/pybird_emu_jax/lib64/python3.10/site-packages/jax/_src/dispatch.py:327\u001b[0m, in \u001b[0;36m_check_special\u001b[0;34m(name, dtype, buf)\u001b[0m\n\u001b[1;32m    326\u001b[0m \u001b[38;5;28;01mif\u001b[39;00m config\u001b[38;5;241m.\u001b[39mdebug_nans\u001b[38;5;241m.\u001b[39mvalue \u001b[38;5;129;01mand\u001b[39;00m np\u001b[38;5;241m.\u001b[39many(np\u001b[38;5;241m.\u001b[39misnan(np\u001b[38;5;241m.\u001b[39masarray(buf))):\n\u001b[0;32m--> 327\u001b[0m   \u001b[38;5;28;01mraise\u001b[39;00m \u001b[38;5;167;01mFloatingPointError\u001b[39;00m(\u001b[38;5;124mf\u001b[39m\u001b[38;5;124m\"\u001b[39m\u001b[38;5;124minvalid value (nan) encountered in \u001b[39m\u001b[38;5;132;01m{\u001b[39;00mname\u001b[38;5;132;01m}\u001b[39;00m\u001b[38;5;124m\"\u001b[39m)\n\u001b[1;32m    328\u001b[0m \u001b[38;5;28;01mif\u001b[39;00m config\u001b[38;5;241m.\u001b[39mdebug_infs\u001b[38;5;241m.\u001b[39mvalue \u001b[38;5;129;01mand\u001b[39;00m np\u001b[38;5;241m.\u001b[39many(np\u001b[38;5;241m.\u001b[39misinf(np\u001b[38;5;241m.\u001b[39masarray(buf))):\n",
      "\u001b[0;31mFloatingPointError\u001b[0m: invalid value (nan) encountered in pjit",
      "\nDuring handling of the above exception, another exception occurred:\n",
      "\u001b[0;31mFloatingPointError\u001b[0m                        Traceback (most recent call last)",
      "    \u001b[0;31m[... skipping hidden 1 frame]\u001b[0m\n",
      "File \u001b[0;32m/cluster/project/refregier/areeves/pybird_emu_jax/lib64/python3.10/site-packages/jax/_src/dispatch.py:322\u001b[0m, in \u001b[0;36mcheck_special\u001b[0;34m(name, bufs)\u001b[0m\n\u001b[1;32m    321\u001b[0m \u001b[38;5;28;01mfor\u001b[39;00m buf \u001b[38;5;129;01min\u001b[39;00m bufs:\n\u001b[0;32m--> 322\u001b[0m   \u001b[43m_check_special\u001b[49m\u001b[43m(\u001b[49m\u001b[43mname\u001b[49m\u001b[43m,\u001b[49m\u001b[43m \u001b[49m\u001b[43mbuf\u001b[49m\u001b[38;5;241;43m.\u001b[39;49m\u001b[43mdtype\u001b[49m\u001b[43m,\u001b[49m\u001b[43m \u001b[49m\u001b[43mbuf\u001b[49m\u001b[43m)\u001b[49m\n",
      "File \u001b[0;32m/cluster/project/refregier/areeves/pybird_emu_jax/lib64/python3.10/site-packages/jax/_src/dispatch.py:327\u001b[0m, in \u001b[0;36m_check_special\u001b[0;34m(name, dtype, buf)\u001b[0m\n\u001b[1;32m    326\u001b[0m \u001b[38;5;28;01mif\u001b[39;00m config\u001b[38;5;241m.\u001b[39mdebug_nans\u001b[38;5;241m.\u001b[39mvalue \u001b[38;5;129;01mand\u001b[39;00m np\u001b[38;5;241m.\u001b[39many(np\u001b[38;5;241m.\u001b[39misnan(np\u001b[38;5;241m.\u001b[39masarray(buf))):\n\u001b[0;32m--> 327\u001b[0m   \u001b[38;5;28;01mraise\u001b[39;00m \u001b[38;5;167;01mFloatingPointError\u001b[39;00m(\u001b[38;5;124mf\u001b[39m\u001b[38;5;124m\"\u001b[39m\u001b[38;5;124minvalid value (nan) encountered in \u001b[39m\u001b[38;5;132;01m{\u001b[39;00mname\u001b[38;5;132;01m}\u001b[39;00m\u001b[38;5;124m\"\u001b[39m)\n\u001b[1;32m    328\u001b[0m \u001b[38;5;28;01mif\u001b[39;00m config\u001b[38;5;241m.\u001b[39mdebug_infs\u001b[38;5;241m.\u001b[39mvalue \u001b[38;5;129;01mand\u001b[39;00m np\u001b[38;5;241m.\u001b[39many(np\u001b[38;5;241m.\u001b[39misinf(np\u001b[38;5;241m.\u001b[39masarray(buf))):\n",
      "\u001b[0;31mFloatingPointError\u001b[0m: invalid value (nan) encountered in pjit",
      "\nDuring handling of the above exception, another exception occurred:\n",
      "\u001b[0;31mFloatingPointError\u001b[0m                        Traceback (most recent call last)",
      "    \u001b[0;31m[... skipping hidden 1 frame]\u001b[0m\n",
      "File \u001b[0;32m/cluster/project/refregier/areeves/pybird_emu_jax/lib64/python3.10/site-packages/jax/_src/profiler.py:336\u001b[0m, in \u001b[0;36mannotate_function.<locals>.wrapper\u001b[0;34m(*args, **kwargs)\u001b[0m\n\u001b[1;32m    335\u001b[0m \u001b[38;5;28;01mwith\u001b[39;00m TraceAnnotation(name, \u001b[38;5;241m*\u001b[39m\u001b[38;5;241m*\u001b[39mdecorator_kwargs):\n\u001b[0;32m--> 336\u001b[0m   \u001b[38;5;28;01mreturn\u001b[39;00m \u001b[43mfunc\u001b[49m\u001b[43m(\u001b[49m\u001b[38;5;241;43m*\u001b[39;49m\u001b[43margs\u001b[49m\u001b[43m,\u001b[49m\u001b[43m \u001b[49m\u001b[38;5;241;43m*\u001b[39;49m\u001b[38;5;241;43m*\u001b[39;49m\u001b[43mkwargs\u001b[49m\u001b[43m)\u001b[49m\n\u001b[1;32m    337\u001b[0m \u001b[38;5;28;01mreturn\u001b[39;00m wrapper\n",
      "File \u001b[0;32m/cluster/project/refregier/areeves/pybird_emu_jax/lib64/python3.10/site-packages/jax/_src/interpreters/pxla.py:1163\u001b[0m, in \u001b[0;36mExecuteReplicated.__call__\u001b[0;34m(self, *args)\u001b[0m\n\u001b[1;32m   1162\u001b[0m \u001b[38;5;28;01mfor\u001b[39;00m arrays \u001b[38;5;129;01min\u001b[39;00m out_arrays:\n\u001b[0;32m-> 1163\u001b[0m   \u001b[43mdispatch\u001b[49m\u001b[38;5;241;43m.\u001b[39;49m\u001b[43mcheck_special\u001b[49m\u001b[43m(\u001b[49m\u001b[38;5;28;43mself\u001b[39;49m\u001b[38;5;241;43m.\u001b[39;49m\u001b[43mname\u001b[49m\u001b[43m,\u001b[49m\u001b[43m \u001b[49m\u001b[43marrays\u001b[49m\u001b[43m)\u001b[49m\n\u001b[1;32m   1164\u001b[0m \u001b[38;5;28;01mreturn\u001b[39;00m \u001b[38;5;28mself\u001b[39m\u001b[38;5;241m.\u001b[39mout_handler(out_arrays)\n",
      "File \u001b[0;32m/cluster/project/refregier/areeves/pybird_emu_jax/lib64/python3.10/site-packages/jax/_src/dispatch.py:322\u001b[0m, in \u001b[0;36mcheck_special\u001b[0;34m(name, bufs)\u001b[0m\n\u001b[1;32m    321\u001b[0m \u001b[38;5;28;01mfor\u001b[39;00m buf \u001b[38;5;129;01min\u001b[39;00m bufs:\n\u001b[0;32m--> 322\u001b[0m   \u001b[43m_check_special\u001b[49m\u001b[43m(\u001b[49m\u001b[43mname\u001b[49m\u001b[43m,\u001b[49m\u001b[43m \u001b[49m\u001b[43mbuf\u001b[49m\u001b[38;5;241;43m.\u001b[39;49m\u001b[43mdtype\u001b[49m\u001b[43m,\u001b[49m\u001b[43m \u001b[49m\u001b[43mbuf\u001b[49m\u001b[43m)\u001b[49m\n",
      "File \u001b[0;32m/cluster/project/refregier/areeves/pybird_emu_jax/lib64/python3.10/site-packages/jax/_src/dispatch.py:327\u001b[0m, in \u001b[0;36m_check_special\u001b[0;34m(name, dtype, buf)\u001b[0m\n\u001b[1;32m    326\u001b[0m \u001b[38;5;28;01mif\u001b[39;00m config\u001b[38;5;241m.\u001b[39mdebug_nans\u001b[38;5;241m.\u001b[39mvalue \u001b[38;5;129;01mand\u001b[39;00m np\u001b[38;5;241m.\u001b[39many(np\u001b[38;5;241m.\u001b[39misnan(np\u001b[38;5;241m.\u001b[39masarray(buf))):\n\u001b[0;32m--> 327\u001b[0m   \u001b[38;5;28;01mraise\u001b[39;00m \u001b[38;5;167;01mFloatingPointError\u001b[39;00m(\u001b[38;5;124mf\u001b[39m\u001b[38;5;124m\"\u001b[39m\u001b[38;5;124minvalid value (nan) encountered in \u001b[39m\u001b[38;5;132;01m{\u001b[39;00mname\u001b[38;5;132;01m}\u001b[39;00m\u001b[38;5;124m\"\u001b[39m)\n\u001b[1;32m    328\u001b[0m \u001b[38;5;28;01mif\u001b[39;00m config\u001b[38;5;241m.\u001b[39mdebug_infs\u001b[38;5;241m.\u001b[39mvalue \u001b[38;5;129;01mand\u001b[39;00m np\u001b[38;5;241m.\u001b[39many(np\u001b[38;5;241m.\u001b[39misinf(np\u001b[38;5;241m.\u001b[39masarray(buf))):\n",
      "\u001b[0;31mFloatingPointError\u001b[0m: invalid value (nan) encountered in jit(convert_element_type)",
      "\nDuring handling of the above exception, another exception occurred:\n",
      "\u001b[0;31mFloatingPointError\u001b[0m                        Traceback (most recent call last)",
      "Input \u001b[0;32mIn [41]\u001b[0m, in \u001b[0;36m<cell line: 6>\u001b[0;34m()\u001b[0m\n\u001b[1;32m      5\u001b[0m num_steps \u001b[38;5;241m=\u001b[39m \u001b[38;5;241m10\u001b[39m  \u001b[38;5;66;03m# Number of optimization steps\u001b[39;00m\n\u001b[1;32m      6\u001b[0m \u001b[38;5;28;01mfor\u001b[39;00m step \u001b[38;5;129;01min\u001b[39;00m \u001b[38;5;28mrange\u001b[39m(num_steps):\n\u001b[0;32m----> 7\u001b[0m     grads \u001b[38;5;241m=\u001b[39m \u001b[43mgradient_function\u001b[49m\u001b[43m(\u001b[49m\u001b[43minternal_knots_init\u001b[49m\u001b[43m)\u001b[49m\n\u001b[1;32m      8\u001b[0m     updates, opt_state \u001b[38;5;241m=\u001b[39m optimizer\u001b[38;5;241m.\u001b[39mupdate(grads, opt_state)\n\u001b[1;32m      9\u001b[0m     internal_knots_init \u001b[38;5;241m=\u001b[39m optax\u001b[38;5;241m.\u001b[39mapply_updates(internal_knots_init, updates)\n",
      "    \u001b[0;31m[... skipping hidden 10 frame]\u001b[0m\n",
      "Input \u001b[0;32mIn [30]\u001b[0m, in \u001b[0;36mget_chi2_multiple\u001b[0;34m(internal_knots)\u001b[0m\n\u001b[1;32m      2\u001b[0m \u001b[38;5;28;01mdef\u001b[39;00m \u001b[38;5;21mget_chi2_multiple\u001b[39m(internal_knots):\n\u001b[0;32m----> 4\u001b[0m     knots \u001b[38;5;241m=\u001b[39m \u001b[43mjnp\u001b[49m\u001b[38;5;241;43m.\u001b[39;49m\u001b[43mconcatenate\u001b[49m\u001b[43m(\u001b[49m\u001b[43m(\u001b[49m\u001b[43mjnp\u001b[49m\u001b[38;5;241;43m.\u001b[39;49m\u001b[43marray\u001b[49m\u001b[43m(\u001b[49m\u001b[43m[\u001b[49m\u001b[43mk_l\u001b[49m\u001b[43m]\u001b[49m\u001b[43m)\u001b[49m\u001b[43m,\u001b[49m\u001b[43m \u001b[49m\u001b[43minternal_knots\u001b[49m\u001b[43m,\u001b[49m\u001b[43m \u001b[49m\u001b[43mjnp\u001b[49m\u001b[38;5;241;43m.\u001b[39;49m\u001b[43marray\u001b[49m\u001b[43m(\u001b[49m\u001b[43m[\u001b[49m\u001b[43mk_r\u001b[49m\u001b[43m]\u001b[49m\u001b[43m)\u001b[49m\u001b[43m)\u001b[49m\u001b[43m)\u001b[49m\n\u001b[1;32m      5\u001b[0m     chi2\u001b[38;5;241m=\u001b[39m\u001b[38;5;241m0\u001b[39m\n\u001b[1;32m      6\u001b[0m     \u001b[38;5;28;01mfor\u001b[39;00m i \u001b[38;5;129;01min\u001b[39;00m \u001b[38;5;28mrange\u001b[39m(pk_info_dict_list[\u001b[38;5;124m\"\u001b[39m\u001b[38;5;124mpk\u001b[39m\u001b[38;5;124m\"\u001b[39m]\u001b[38;5;241m.\u001b[39mshape[\u001b[38;5;241m0\u001b[39m]):\n",
      "File \u001b[0;32m/cluster/project/refregier/areeves/pybird_emu_jax/lib64/python3.10/site-packages/jax/_src/numpy/lax_numpy.py:1889\u001b[0m, in \u001b[0;36mconcatenate\u001b[0;34m(arrays, axis, dtype)\u001b[0m\n\u001b[1;32m   1887\u001b[0m axis \u001b[38;5;241m=\u001b[39m _canonicalize_axis(axis, ndim(arrays[\u001b[38;5;241m0\u001b[39m]))\n\u001b[1;32m   1888\u001b[0m \u001b[38;5;28;01mif\u001b[39;00m dtype \u001b[38;5;129;01mis\u001b[39;00m \u001b[38;5;28;01mNone\u001b[39;00m:\n\u001b[0;32m-> 1889\u001b[0m   arrays_out \u001b[38;5;241m=\u001b[39m \u001b[43mutil\u001b[49m\u001b[38;5;241;43m.\u001b[39;49m\u001b[43mpromote_dtypes\u001b[49m\u001b[43m(\u001b[49m\u001b[38;5;241;43m*\u001b[39;49m\u001b[43marrays\u001b[49m\u001b[43m)\u001b[49m\n\u001b[1;32m   1890\u001b[0m \u001b[38;5;28;01melse\u001b[39;00m:\n\u001b[1;32m   1891\u001b[0m   arrays_out \u001b[38;5;241m=\u001b[39m [asarray(arr, dtype\u001b[38;5;241m=\u001b[39mdtype) \u001b[38;5;28;01mfor\u001b[39;00m arr \u001b[38;5;129;01min\u001b[39;00m arrays]\n",
      "File \u001b[0;32m/cluster/project/refregier/areeves/pybird_emu_jax/lib64/python3.10/site-packages/jax/_src/numpy/util.py:278\u001b[0m, in \u001b[0;36mpromote_dtypes\u001b[0;34m(*args)\u001b[0m\n\u001b[1;32m    276\u001b[0m to_dtype, weak_type \u001b[38;5;241m=\u001b[39m dtypes\u001b[38;5;241m.\u001b[39m_lattice_result_type(\u001b[38;5;241m*\u001b[39margs)\n\u001b[1;32m    277\u001b[0m to_dtype \u001b[38;5;241m=\u001b[39m dtypes\u001b[38;5;241m.\u001b[39mcanonicalize_dtype(to_dtype, allow_extended_dtype\u001b[38;5;241m=\u001b[39m\u001b[38;5;28;01mTrue\u001b[39;00m)  \u001b[38;5;66;03m# type: ignore[assignment]\u001b[39;00m\n\u001b[0;32m--> 278\u001b[0m \u001b[38;5;28;01mreturn\u001b[39;00m [lax\u001b[38;5;241m.\u001b[39m_convert_element_type(x, to_dtype, weak_type) \u001b[38;5;28;01mfor\u001b[39;00m x \u001b[38;5;129;01min\u001b[39;00m args]\n",
      "File \u001b[0;32m/cluster/project/refregier/areeves/pybird_emu_jax/lib64/python3.10/site-packages/jax/_src/numpy/util.py:278\u001b[0m, in \u001b[0;36m<listcomp>\u001b[0;34m(.0)\u001b[0m\n\u001b[1;32m    276\u001b[0m to_dtype, weak_type \u001b[38;5;241m=\u001b[39m dtypes\u001b[38;5;241m.\u001b[39m_lattice_result_type(\u001b[38;5;241m*\u001b[39margs)\n\u001b[1;32m    277\u001b[0m to_dtype \u001b[38;5;241m=\u001b[39m dtypes\u001b[38;5;241m.\u001b[39mcanonicalize_dtype(to_dtype, allow_extended_dtype\u001b[38;5;241m=\u001b[39m\u001b[38;5;28;01mTrue\u001b[39;00m)  \u001b[38;5;66;03m# type: ignore[assignment]\u001b[39;00m\n\u001b[0;32m--> 278\u001b[0m \u001b[38;5;28;01mreturn\u001b[39;00m [\u001b[43mlax\u001b[49m\u001b[38;5;241;43m.\u001b[39;49m\u001b[43m_convert_element_type\u001b[49m\u001b[43m(\u001b[49m\u001b[43mx\u001b[49m\u001b[43m,\u001b[49m\u001b[43m \u001b[49m\u001b[43mto_dtype\u001b[49m\u001b[43m,\u001b[49m\u001b[43m \u001b[49m\u001b[43mweak_type\u001b[49m\u001b[43m)\u001b[49m \u001b[38;5;28;01mfor\u001b[39;00m x \u001b[38;5;129;01min\u001b[39;00m args]\n",
      "    \u001b[0;31m[... skipping hidden 19 frame]\u001b[0m\n",
      "File \u001b[0;32m/cluster/project/refregier/areeves/pybird_emu_jax/lib64/python3.10/site-packages/jax/_src/pjit.py:1209\u001b[0m, in \u001b[0;36m_pjit_call_impl_python\u001b[0;34m(jaxpr, in_shardings, out_shardings, resource_env, donated_invars, name, keep_unused, inline, *args)\u001b[0m\n\u001b[1;32m   1192\u001b[0m \u001b[38;5;66;03m# If control reaches this line, we got a NaN on the output of `compiled`\u001b[39;00m\n\u001b[1;32m   1193\u001b[0m \u001b[38;5;66;03m# but not `fun.call_wrapped` on the same arguments. Let's tell the user.\u001b[39;00m\n\u001b[1;32m   1194\u001b[0m msg \u001b[38;5;241m=\u001b[39m (\u001b[38;5;124mf\u001b[39m\u001b[38;5;124m\"\u001b[39m\u001b[38;5;132;01m{\u001b[39;00m\u001b[38;5;28mstr\u001b[39m(e)\u001b[38;5;132;01m}\u001b[39;00m\u001b[38;5;124m. Because \u001b[39m\u001b[38;5;124m\"\u001b[39m\n\u001b[1;32m   1195\u001b[0m        \u001b[38;5;124m\"\u001b[39m\u001b[38;5;124mjax_config.debug_nans.value and/or config.jax_debug_infs is set, the \u001b[39m\u001b[38;5;124m\"\u001b[39m\n\u001b[1;32m   1196\u001b[0m        \u001b[38;5;124m\"\u001b[39m\u001b[38;5;124mde-optimized function (i.e., the function as if the `jit` \u001b[39m\u001b[38;5;124m\"\u001b[39m\n\u001b[0;32m   (...)\u001b[0m\n\u001b[1;32m   1207\u001b[0m        \u001b[38;5;124m\"\u001b[39m\u001b[38;5;124mIf you see this error, consider opening a bug report at \u001b[39m\u001b[38;5;124m\"\u001b[39m\n\u001b[1;32m   1208\u001b[0m        \u001b[38;5;124m\"\u001b[39m\u001b[38;5;124mhttps://github.com/google/jax.\u001b[39m\u001b[38;5;124m\"\u001b[39m)\n\u001b[0;32m-> 1209\u001b[0m \u001b[38;5;28;01mraise\u001b[39;00m \u001b[38;5;167;01mFloatingPointError\u001b[39;00m(msg)\n",
      "\u001b[0;31mFloatingPointError\u001b[0m: invalid value (nan) encountered in jit(convert_element_type). Because jax_config.debug_nans.value and/or config.jax_debug_infs is set, the de-optimized function (i.e., the function as if the `jit` decorator were removed) was called in an attempt to get a more precise error message. However, the de-optimized function did not produce invalid values during its execution. This behavior can result from `jit` optimizations causing the invalid value to be produced. It may also arise from having nan/inf constants as outputs, like `jax.jit(lambda ...: jax.numpy.nan)(...)`. \n\nIt may be possible to avoid the invalid value by removing the `jit` decorator, at the cost of losing optimizations. \n\nIf you see this error, consider opening a bug report at https://github.com/google/jax."
     ]
    }
   ],
   "source": [
    "# Optimization loop\n",
    "from jax import config\n",
    "config.update(\"jax_debug_nans\", True)\n",
    "\n",
    "num_steps = 10  # Number of optimization steps\n",
    "for step in range(num_steps):\n",
    "    grads = gradient_function(internal_knots_init)\n",
    "    updates, opt_state = optimizer.update(grads, opt_state)\n",
    "    internal_knots_init = optax.apply_updates(internal_knots_init, updates)\n",
    "\n",
    "    if step % 2 == 0:  # Print information every 10 steps\n",
    "        loss = get_chi2_multiple(internal_knots_init)\n",
    "        print(f\"Step {step}, Loss: {loss}\")"
   ]
  },
  {
   "cell_type": "code",
   "execution_count": null,
   "id": "76dfcd4b-a02e-4ec7-9009-4210f1fe9ffd",
   "metadata": {},
   "outputs": [],
   "source": []
  }
 ],
 "metadata": {
  "kernelspec": {
   "display_name": "pybird_emu_jax",
   "language": "python",
   "name": "pybird_emu_jax"
  },
  "language_info": {
   "codemirror_mode": {
    "name": "ipython",
    "version": 3
   },
   "file_extension": ".py",
   "mimetype": "text/x-python",
   "name": "python",
   "nbconvert_exporter": "python",
   "pygments_lexer": "ipython3",
   "version": "3.10.4"
  }
 },
 "nbformat": 4,
 "nbformat_minor": 5
}
