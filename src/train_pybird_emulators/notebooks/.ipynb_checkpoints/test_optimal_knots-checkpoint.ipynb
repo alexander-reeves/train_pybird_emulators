{
 "cells": [
  {
   "cell_type": "code",
   "execution_count": 1,
   "id": "cb470e41-5a6f-4043-bcb0-8c99d15c48af",
   "metadata": {},
   "outputs": [
    {
     "name": "stdout",
     "output_type": "stream",
     "text": [
      "using jax\n"
     ]
    },
    {
     "name": "stderr",
     "output_type": "stream",
     "text": [
      "2024-05-12 10:41:14.946843: E external/xla/xla/stream_executor/cuda/cuda_driver.cc:266] failed call to cuInit: CUDA_ERROR_NO_DEVICE: no CUDA-capable device is detected\n"
     ]
    },
    {
     "ename": "RuntimeError",
     "evalue": "Unable to initialize backend 'cuda': FAILED_PRECONDITION: No visible GPU devices. (you may need to uninstall the failing plugin package, or set JAX_PLATFORMS=cpu to skip this backend.)",
     "output_type": "error",
     "traceback": [
      "\u001b[0;31m---------------------------------------------------------------------------\u001b[0m",
      "\u001b[0;31mXlaRuntimeError\u001b[0m                           Traceback (most recent call last)",
      "    \u001b[0;31m[... skipping hidden 1 frame]\u001b[0m\n",
      "File \u001b[0;32m/cluster/project/refregier/areeves/pybird_emu_jax/lib64/python3.10/site-packages/jax/_src/xla_bridge.py:965\u001b[0m, in \u001b[0;36m_init_backend\u001b[0;34m(platform)\u001b[0m\n\u001b[1;32m    964\u001b[0m logger\u001b[38;5;241m.\u001b[39mdebug(\u001b[38;5;124m\"\u001b[39m\u001b[38;5;124mInitializing backend \u001b[39m\u001b[38;5;124m'\u001b[39m\u001b[38;5;132;01m%s\u001b[39;00m\u001b[38;5;124m'\u001b[39m\u001b[38;5;124m\"\u001b[39m, platform)\n\u001b[0;32m--> 965\u001b[0m backend \u001b[38;5;241m=\u001b[39m \u001b[43mregistration\u001b[49m\u001b[38;5;241;43m.\u001b[39;49m\u001b[43mfactory\u001b[49m\u001b[43m(\u001b[49m\u001b[43m)\u001b[49m\n\u001b[1;32m    966\u001b[0m \u001b[38;5;66;03m# TODO(skye): consider raising more descriptive errors directly from backend\u001b[39;00m\n\u001b[1;32m    967\u001b[0m \u001b[38;5;66;03m# factories instead of returning None.\u001b[39;00m\n",
      "File \u001b[0;32m/cluster/project/refregier/areeves/pybird_emu_jax/lib64/python3.10/site-packages/jax/_src/xla_bridge.py:663\u001b[0m, in \u001b[0;36mregister_plugin.<locals>.factory\u001b[0;34m()\u001b[0m\n\u001b[1;32m    662\u001b[0m \u001b[38;5;28;01mif\u001b[39;00m distributed\u001b[38;5;241m.\u001b[39mglobal_state\u001b[38;5;241m.\u001b[39mclient \u001b[38;5;129;01mis\u001b[39;00m \u001b[38;5;28;01mNone\u001b[39;00m:\n\u001b[0;32m--> 663\u001b[0m   \u001b[38;5;28;01mreturn\u001b[39;00m \u001b[43mxla_client\u001b[49m\u001b[38;5;241;43m.\u001b[39;49m\u001b[43mmake_c_api_client\u001b[49m\u001b[43m(\u001b[49m\u001b[43mplugin_name\u001b[49m\u001b[43m,\u001b[49m\u001b[43m \u001b[49m\u001b[43mupdated_options\u001b[49m\u001b[43m,\u001b[49m\u001b[43m \u001b[49m\u001b[38;5;28;43;01mNone\u001b[39;49;00m\u001b[43m)\u001b[49m\n\u001b[1;32m    665\u001b[0m distribute_options \u001b[38;5;241m=\u001b[39m {\n\u001b[1;32m    666\u001b[0m     \u001b[38;5;124m'\u001b[39m\u001b[38;5;124mnode_id\u001b[39m\u001b[38;5;124m'\u001b[39m: distributed\u001b[38;5;241m.\u001b[39mglobal_state\u001b[38;5;241m.\u001b[39mprocess_id,\n\u001b[1;32m    667\u001b[0m     \u001b[38;5;124m'\u001b[39m\u001b[38;5;124mnum_nodes\u001b[39m\u001b[38;5;124m'\u001b[39m: distributed\u001b[38;5;241m.\u001b[39mglobal_state\u001b[38;5;241m.\u001b[39mnum_processes,\n\u001b[1;32m    668\u001b[0m }\n",
      "File \u001b[0;32m/cluster/project/refregier/areeves/pybird_emu_jax/lib64/python3.10/site-packages/jaxlib/xla_client.py:199\u001b[0m, in \u001b[0;36mmake_c_api_client\u001b[0;34m(plugin_name, options, distributed_client)\u001b[0m\n\u001b[1;32m    198\u001b[0m   options \u001b[38;5;241m=\u001b[39m {}\n\u001b[0;32m--> 199\u001b[0m \u001b[38;5;28;01mreturn\u001b[39;00m \u001b[43m_xla\u001b[49m\u001b[38;5;241;43m.\u001b[39;49m\u001b[43mget_c_api_client\u001b[49m\u001b[43m(\u001b[49m\u001b[43mplugin_name\u001b[49m\u001b[43m,\u001b[49m\u001b[43m \u001b[49m\u001b[43moptions\u001b[49m\u001b[43m,\u001b[49m\u001b[43m \u001b[49m\u001b[43mdistributed_client\u001b[49m\u001b[43m)\u001b[49m\n",
      "\u001b[0;31mXlaRuntimeError\u001b[0m: FAILED_PRECONDITION: No visible GPU devices.",
      "\nDuring handling of the above exception, another exception occurred:\n",
      "\u001b[0;31mRuntimeError\u001b[0m                              Traceback (most recent call last)",
      "Input \u001b[0;32mIn [1]\u001b[0m, in \u001b[0;36m<cell line: 11>\u001b[0;34m()\u001b[0m\n\u001b[1;32m      9\u001b[0m \u001b[38;5;28;01mimport\u001b[39;00m \u001b[38;5;21;01mpybird\u001b[39;00m \n\u001b[1;32m     10\u001b[0m \u001b[38;5;28;01mimport\u001b[39;00m \u001b[38;5;21;01mos\u001b[39;00m \n\u001b[0;32m---> 11\u001b[0m \u001b[38;5;28;01mfrom\u001b[39;00m \u001b[38;5;21;01mtrain_pybird_emulators\u001b[39;00m\u001b[38;5;21;01m.\u001b[39;00m\u001b[38;5;21;01memu_utils\u001b[39;00m \u001b[38;5;28;01mimport\u001b[39;00m emu_utils \n\u001b[1;32m     12\u001b[0m os\u001b[38;5;241m.\u001b[39menviron[\u001b[38;5;124m\"\u001b[39m\u001b[38;5;124mXLA_PYTHON_CLIENT_PREALLOCATE\u001b[39m\u001b[38;5;124m\"\u001b[39m]\u001b[38;5;241m=\u001b[39m\u001b[38;5;124m\"\u001b[39m\u001b[38;5;124mfalse\u001b[39m\u001b[38;5;124m\"\u001b[39m\n\u001b[1;32m     13\u001b[0m os\u001b[38;5;241m.\u001b[39menviron[\u001b[38;5;124m\"\u001b[39m\u001b[38;5;124mXLA_PYTHON_CLIENT_MEM_FRACTION\u001b[39m\u001b[38;5;124m\"\u001b[39m]\u001b[38;5;241m=\u001b[39m\u001b[38;5;124m\"\u001b[39m\u001b[38;5;124m.80\u001b[39m\u001b[38;5;124m\"\u001b[39m\n",
      "File \u001b[0;32m/cluster/work/refregier/alexree/local_packages/train_pybird_emulators/src/train_pybird_emulators/emu_utils/emu_utils.py:5\u001b[0m, in \u001b[0;36m<module>\u001b[0;34m\u001b[0m\n\u001b[1;32m      3\u001b[0m \u001b[38;5;28;01mfrom\u001b[39;00m \u001b[38;5;21;01mscipy\u001b[39;00m\u001b[38;5;21;01m.\u001b[39;00m\u001b[38;5;21;01mstats\u001b[39;00m \u001b[38;5;28;01mimport\u001b[39;00m qmc, norm, truncnorm, uniform\n\u001b[1;32m      4\u001b[0m \u001b[38;5;28;01mimport\u001b[39;00m \u001b[38;5;21;01mpybird\u001b[39;00m\n\u001b[0;32m----> 5\u001b[0m \u001b[38;5;28;01mfrom\u001b[39;00m \u001b[38;5;21;01mpybird\u001b[39;00m\u001b[38;5;21;01m.\u001b[39;00m\u001b[38;5;21;01mcorrelator\u001b[39;00m \u001b[38;5;28;01mimport\u001b[39;00m Correlator\n\u001b[1;32m      6\u001b[0m \u001b[38;5;28;01mfrom\u001b[39;00m \u001b[38;5;21;01mpybird\u001b[39;00m\u001b[38;5;21;01m.\u001b[39;00m\u001b[38;5;21;01mfftlog\u001b[39;00m \u001b[38;5;28;01mimport\u001b[39;00m FFTLog\n\u001b[1;32m      7\u001b[0m \u001b[38;5;28;01mfrom\u001b[39;00m \u001b[38;5;21;01mclassy\u001b[39;00m \u001b[38;5;28;01mimport\u001b[39;00m Class\n",
      "File \u001b[0;32m/cluster/project/refregier/areeves/pybird_emu_jax/lib64/python3.10/site-packages/pybird/correlator.py:2\u001b[0m, in \u001b[0;36m<module>\u001b[0;34m\u001b[0m\n\u001b[1;32m      1\u001b[0m \u001b[38;5;28;01mfrom\u001b[39;00m \u001b[38;5;21;01mpybird\u001b[39;00m\u001b[38;5;21;01m.\u001b[39;00m\u001b[38;5;21;01mmodule\u001b[39;00m \u001b[38;5;28;01mimport\u001b[39;00m \u001b[38;5;241m*\u001b[39m\n\u001b[0;32m----> 2\u001b[0m \u001b[38;5;28;01mfrom\u001b[39;00m \u001b[38;5;21;01mpybird\u001b[39;00m\u001b[38;5;21;01m.\u001b[39;00m\u001b[38;5;21;01mcommon\u001b[39;00m \u001b[38;5;28;01mimport\u001b[39;00m Common, co\n\u001b[1;32m      3\u001b[0m \u001b[38;5;28;01mfrom\u001b[39;00m \u001b[38;5;21;01mpybird\u001b[39;00m\u001b[38;5;21;01m.\u001b[39;00m\u001b[38;5;21;01mbird\u001b[39;00m \u001b[38;5;28;01mimport\u001b[39;00m Bird\n\u001b[1;32m      4\u001b[0m \u001b[38;5;28;01mfrom\u001b[39;00m \u001b[38;5;21;01mpybird\u001b[39;00m\u001b[38;5;21;01m.\u001b[39;00m\u001b[38;5;21;01mnonlinear\u001b[39;00m \u001b[38;5;28;01mimport\u001b[39;00m NonLinear\n",
      "File \u001b[0;32m/cluster/project/refregier/areeves/pybird_emu_jax/lib64/python3.10/site-packages/pybird/common.py:12\u001b[0m, in \u001b[0;36m<module>\u001b[0;34m\u001b[0m\n\u001b[1;32m      3\u001b[0m \u001b[38;5;66;03m# powers of mu to Legendre polynomials\u001b[39;00m\n\u001b[1;32m      4\u001b[0m mu \u001b[38;5;241m=\u001b[39m {\n\u001b[1;32m      5\u001b[0m     \u001b[38;5;241m0\u001b[39m: {\u001b[38;5;241m0\u001b[39m: \u001b[38;5;241m1.\u001b[39m, \u001b[38;5;241m2\u001b[39m: \u001b[38;5;241m0.\u001b[39m, \u001b[38;5;241m4\u001b[39m: \u001b[38;5;241m0.\u001b[39m},\n\u001b[1;32m      6\u001b[0m     \u001b[38;5;241m2\u001b[39m: {\u001b[38;5;241m0\u001b[39m: \u001b[38;5;241m1.\u001b[39m \u001b[38;5;241m/\u001b[39m \u001b[38;5;241m3.\u001b[39m, \u001b[38;5;241m2\u001b[39m: \u001b[38;5;241m2.\u001b[39m \u001b[38;5;241m/\u001b[39m \u001b[38;5;241m3.\u001b[39m, \u001b[38;5;241m4\u001b[39m: \u001b[38;5;241m0.\u001b[39m},\n\u001b[0;32m   (...)\u001b[0m\n\u001b[1;32m      9\u001b[0m     \u001b[38;5;241m8\u001b[39m: {\u001b[38;5;241m0\u001b[39m: \u001b[38;5;241m1.\u001b[39m \u001b[38;5;241m/\u001b[39m \u001b[38;5;241m9.\u001b[39m, \u001b[38;5;241m2\u001b[39m: \u001b[38;5;241m40.\u001b[39m \u001b[38;5;241m/\u001b[39m \u001b[38;5;241m99.\u001b[39m, \u001b[38;5;241m4\u001b[39m: \u001b[38;5;241m48.\u001b[39m \u001b[38;5;241m/\u001b[39m \u001b[38;5;241m143.\u001b[39m}\n\u001b[1;32m     10\u001b[0m }\n\u001b[0;32m---> 12\u001b[0m kbird \u001b[38;5;241m=\u001b[39m \u001b[43marray\u001b[49m\u001b[43m(\u001b[49m\u001b[43m[\u001b[49m\u001b[38;5;241;43m0.001\u001b[39;49m\u001b[43m,\u001b[49m\u001b[43m \u001b[49m\u001b[38;5;241;43m0.0025\u001b[39;49m\u001b[43m,\u001b[49m\u001b[43m \u001b[49m\u001b[38;5;241;43m0.005\u001b[39;49m\u001b[43m,\u001b[49m\u001b[43m \u001b[49m\u001b[38;5;241;43m0.0075\u001b[39;49m\u001b[43m,\u001b[49m\u001b[43m \u001b[49m\u001b[38;5;241;43m0.01\u001b[39;49m\u001b[43m,\u001b[49m\u001b[43m \u001b[49m\u001b[38;5;241;43m0.0125\u001b[39;49m\u001b[43m,\u001b[49m\u001b[43m \u001b[49m\u001b[38;5;241;43m0.015\u001b[39;49m\u001b[43m,\u001b[49m\u001b[43m \u001b[49m\u001b[38;5;241;43m0.0175\u001b[39;49m\u001b[43m,\u001b[49m\u001b[43m \u001b[49m\u001b[38;5;241;43m0.02\u001b[39;49m\u001b[43m,\u001b[49m\u001b[43m \u001b[49m\u001b[38;5;241;43m0.0225\u001b[39;49m\u001b[43m,\u001b[49m\u001b[43m \u001b[49m\u001b[38;5;241;43m0.025\u001b[39;49m\u001b[43m,\u001b[49m\u001b[43m \u001b[49m\u001b[38;5;241;43m0.0275\u001b[39;49m\u001b[43m,\u001b[49m\u001b[43m \u001b[49m\u001b[38;5;241;43m0.03\u001b[39;49m\u001b[43m]\u001b[49m\u001b[43m)\u001b[49m\n\u001b[1;32m     13\u001b[0m sbird \u001b[38;5;241m=\u001b[39m array([\u001b[38;5;241m1.000e+00\u001b[39m, \u001b[38;5;241m1.124e+00\u001b[39m, \u001b[38;5;241m1.264e+00\u001b[39m, \u001b[38;5;241m1.421e+00\u001b[39m, \u001b[38;5;241m1.597e+00\u001b[39m, \u001b[38;5;241m1.796e+00\u001b[39m, \u001b[38;5;241m2.019e+00\u001b[39m, \u001b[38;5;241m2.270e+00\u001b[39m, \u001b[38;5;241m2.551e+00\u001b[39m, \u001b[38;5;241m2.868e+00\u001b[39m, \u001b[38;5;241m3.225e+00\u001b[39m, \u001b[38;5;241m3.625e+00\u001b[39m, \u001b[38;5;241m4.075e+00\u001b[39m, \u001b[38;5;241m4.582e+00\u001b[39m, \u001b[38;5;241m5.151e+00\u001b[39m, \u001b[38;5;241m5.790e+00\u001b[39m, \u001b[38;5;241m6.510e+00\u001b[39m, \u001b[38;5;241m7.318e+00\u001b[39m, \u001b[38;5;241m8.227e+00\u001b[39m, \u001b[38;5;241m9.249e+00\u001b[39m, \u001b[38;5;241m1.040e+01\u001b[39m, \u001b[38;5;241m1.169e+01\u001b[39m, \u001b[38;5;241m1.314e+01\u001b[39m, \u001b[38;5;241m1.477e+01\u001b[39m, \u001b[38;5;241m1.661e+01\u001b[39m, \u001b[38;5;241m1.867e+01\u001b[39m, \u001b[38;5;241m2.099e+01\u001b[39m, \u001b[38;5;241m2.360e+01\u001b[39m, \u001b[38;5;241m2.653e+01\u001b[39m, \u001b[38;5;241m2.982e+01\u001b[39m, \u001b[38;5;241m3.353e+01\u001b[39m, \u001b[38;5;241m3.769e+01\u001b[39m, \u001b[38;5;241m4.238e+01\u001b[39m, \u001b[38;5;241m4.764e+01\u001b[39m, \u001b[38;5;241m5.356e+01\u001b[39m, \u001b[38;5;241m6.000e+01\u001b[39m, \u001b[38;5;241m6.021e+01\u001b[39m, \u001b[38;5;241m6.526e+01\u001b[39m, \u001b[38;5;241m6.769e+01\u001b[39m,\n\u001b[1;32m     14\u001b[0m                   \u001b[38;5;241m7.053e+01\u001b[39m, \u001b[38;5;241m7.579e+01\u001b[39m, \u001b[38;5;241m7.609e+01\u001b[39m, \u001b[38;5;241m8.105e+01\u001b[39m, \u001b[38;5;241m8.555e+01\u001b[39m, \u001b[38;5;241m8.632e+01\u001b[39m, \u001b[38;5;241m9.158e+01\u001b[39m, \u001b[38;5;241m9.617e+01\u001b[39m, \u001b[38;5;241m9.684e+01\u001b[39m, \u001b[38;5;241m1.021e+02\u001b[39m, \u001b[38;5;241m1.074e+02\u001b[39m, \u001b[38;5;241m1.081e+02\u001b[39m, \u001b[38;5;241m1.126e+02\u001b[39m, \u001b[38;5;241m1.179e+02\u001b[39m, \u001b[38;5;241m1.215e+02\u001b[39m, \u001b[38;5;241m1.232e+02\u001b[39m, \u001b[38;5;241m1.284e+02\u001b[39m, \u001b[38;5;241m1.337e+02\u001b[39m, \u001b[38;5;241m1.366e+02\u001b[39m, \u001b[38;5;241m1.389e+02\u001b[39m, \u001b[38;5;241m1.442e+02\u001b[39m, \u001b[38;5;241m1.495e+02\u001b[39m, \u001b[38;5;241m1.536e+02\u001b[39m, \u001b[38;5;241m1.547e+02\u001b[39m, \u001b[38;5;241m1.600e+02\u001b[39m, \u001b[38;5;241m1.727e+02\u001b[39m, \u001b[38;5;241m1.941e+02\u001b[39m, \u001b[38;5;241m2.183e+02\u001b[39m, \u001b[38;5;241m2.454e+02\u001b[39m, \u001b[38;5;241m2.759e+02\u001b[39m, \u001b[38;5;241m3.101e+02\u001b[39m, \u001b[38;5;241m3.486e+02\u001b[39m, \u001b[38;5;241m3.919e+02\u001b[39m, \u001b[38;5;241m4.406e+02\u001b[39m, \u001b[38;5;241m4.954e+02\u001b[39m, \u001b[38;5;241m5.569e+02\u001b[39m, \u001b[38;5;241m6.261e+02\u001b[39m, \u001b[38;5;241m7.038e+02\u001b[39m, \u001b[38;5;241m7.912e+02\u001b[39m, \u001b[38;5;241m8.895e+02\u001b[39m, \u001b[38;5;241m1.000e+03\u001b[39m])\n\u001b[1;32m     15\u001b[0m \u001b[38;5;66;03m#load the fixed emulator k-array\u001b[39;00m\n",
      "File \u001b[0;32m/cluster/project/refregier/areeves/pybird_emu_jax/lib64/python3.10/site-packages/jax/_src/numpy/lax_numpy.py:2608\u001b[0m, in \u001b[0;36marray\u001b[0;34m(object, dtype, copy, order, ndmin)\u001b[0m\n\u001b[1;32m   2605\u001b[0m \u001b[38;5;28;01melse\u001b[39;00m:\n\u001b[1;32m   2606\u001b[0m   \u001b[38;5;28;01mraise\u001b[39;00m \u001b[38;5;167;01mTypeError\u001b[39;00m(\u001b[38;5;124mf\u001b[39m\u001b[38;5;124m\"\u001b[39m\u001b[38;5;124mUnexpected input type for array: \u001b[39m\u001b[38;5;132;01m{\u001b[39;00m\u001b[38;5;28mtype\u001b[39m(\u001b[38;5;28mobject\u001b[39m)\u001b[38;5;132;01m}\u001b[39;00m\u001b[38;5;124m\"\u001b[39m)\n\u001b[0;32m-> 2608\u001b[0m out_array: Array \u001b[38;5;241m=\u001b[39m \u001b[43mlax_internal\u001b[49m\u001b[38;5;241;43m.\u001b[39;49m\u001b[43m_convert_element_type\u001b[49m\u001b[43m(\u001b[49m\n\u001b[1;32m   2609\u001b[0m \u001b[43m    \u001b[49m\u001b[43mout\u001b[49m\u001b[43m,\u001b[49m\u001b[43m \u001b[49m\u001b[43mdtype\u001b[49m\u001b[43m,\u001b[49m\u001b[43m \u001b[49m\u001b[43mweak_type\u001b[49m\u001b[38;5;241;43m=\u001b[39;49m\u001b[43mweak_type\u001b[49m\u001b[43m)\u001b[49m\n\u001b[1;32m   2610\u001b[0m \u001b[38;5;28;01mif\u001b[39;00m ndmin \u001b[38;5;241m>\u001b[39m ndim(out_array):\n\u001b[1;32m   2611\u001b[0m   out_array \u001b[38;5;241m=\u001b[39m lax\u001b[38;5;241m.\u001b[39mexpand_dims(out_array, \u001b[38;5;28mrange\u001b[39m(ndmin \u001b[38;5;241m-\u001b[39m ndim(out_array)))\n",
      "File \u001b[0;32m/cluster/project/refregier/areeves/pybird_emu_jax/lib64/python3.10/site-packages/jax/_src/lax/lax.py:559\u001b[0m, in \u001b[0;36m_convert_element_type\u001b[0;34m(operand, new_dtype, weak_type)\u001b[0m\n\u001b[1;32m    557\u001b[0m   \u001b[38;5;28;01mreturn\u001b[39;00m type_cast(Array, operand)\n\u001b[1;32m    558\u001b[0m \u001b[38;5;28;01melse\u001b[39;00m:\n\u001b[0;32m--> 559\u001b[0m   \u001b[38;5;28;01mreturn\u001b[39;00m \u001b[43mconvert_element_type_p\u001b[49m\u001b[38;5;241;43m.\u001b[39;49m\u001b[43mbind\u001b[49m\u001b[43m(\u001b[49m\u001b[43moperand\u001b[49m\u001b[43m,\u001b[49m\u001b[43m \u001b[49m\u001b[43mnew_dtype\u001b[49m\u001b[38;5;241;43m=\u001b[39;49m\u001b[43mnew_dtype\u001b[49m\u001b[43m,\u001b[49m\n\u001b[1;32m    560\u001b[0m \u001b[43m                                     \u001b[49m\u001b[43mweak_type\u001b[49m\u001b[38;5;241;43m=\u001b[39;49m\u001b[38;5;28;43mbool\u001b[39;49m\u001b[43m(\u001b[49m\u001b[43mweak_type\u001b[49m\u001b[43m)\u001b[49m\u001b[43m)\u001b[49m\n",
      "File \u001b[0;32m/cluster/project/refregier/areeves/pybird_emu_jax/lib64/python3.10/site-packages/jax/_src/core.py:387\u001b[0m, in \u001b[0;36mPrimitive.bind\u001b[0;34m(self, *args, **params)\u001b[0m\n\u001b[1;32m    384\u001b[0m \u001b[38;5;28;01mdef\u001b[39;00m \u001b[38;5;21mbind\u001b[39m(\u001b[38;5;28mself\u001b[39m, \u001b[38;5;241m*\u001b[39margs, \u001b[38;5;241m*\u001b[39m\u001b[38;5;241m*\u001b[39mparams):\n\u001b[1;32m    385\u001b[0m   \u001b[38;5;28;01massert\u001b[39;00m (\u001b[38;5;129;01mnot\u001b[39;00m config\u001b[38;5;241m.\u001b[39menable_checks\u001b[38;5;241m.\u001b[39mvalue \u001b[38;5;129;01mor\u001b[39;00m\n\u001b[1;32m    386\u001b[0m           \u001b[38;5;28mall\u001b[39m(\u001b[38;5;28misinstance\u001b[39m(arg, Tracer) \u001b[38;5;129;01mor\u001b[39;00m valid_jaxtype(arg) \u001b[38;5;28;01mfor\u001b[39;00m arg \u001b[38;5;129;01min\u001b[39;00m args)), args\n\u001b[0;32m--> 387\u001b[0m   \u001b[38;5;28;01mreturn\u001b[39;00m \u001b[38;5;28;43mself\u001b[39;49m\u001b[38;5;241;43m.\u001b[39;49m\u001b[43mbind_with_trace\u001b[49m\u001b[43m(\u001b[49m\u001b[43mfind_top_trace\u001b[49m\u001b[43m(\u001b[49m\u001b[43margs\u001b[49m\u001b[43m)\u001b[49m\u001b[43m,\u001b[49m\u001b[43m \u001b[49m\u001b[43margs\u001b[49m\u001b[43m,\u001b[49m\u001b[43m \u001b[49m\u001b[43mparams\u001b[49m\u001b[43m)\u001b[49m\n",
      "File \u001b[0;32m/cluster/project/refregier/areeves/pybird_emu_jax/lib64/python3.10/site-packages/jax/_src/core.py:391\u001b[0m, in \u001b[0;36mPrimitive.bind_with_trace\u001b[0;34m(self, trace, args, params)\u001b[0m\n\u001b[1;32m    389\u001b[0m \u001b[38;5;28;01mdef\u001b[39;00m \u001b[38;5;21mbind_with_trace\u001b[39m(\u001b[38;5;28mself\u001b[39m, trace, args, params):\n\u001b[1;32m    390\u001b[0m   \u001b[38;5;28;01mwith\u001b[39;00m pop_level(trace\u001b[38;5;241m.\u001b[39mlevel):\n\u001b[0;32m--> 391\u001b[0m     out \u001b[38;5;241m=\u001b[39m \u001b[43mtrace\u001b[49m\u001b[38;5;241;43m.\u001b[39;49m\u001b[43mprocess_primitive\u001b[49m\u001b[43m(\u001b[49m\u001b[38;5;28;43mself\u001b[39;49m\u001b[43m,\u001b[49m\u001b[43m \u001b[49m\u001b[38;5;28;43mmap\u001b[39;49m\u001b[43m(\u001b[49m\u001b[43mtrace\u001b[49m\u001b[38;5;241;43m.\u001b[39;49m\u001b[43mfull_raise\u001b[49m\u001b[43m,\u001b[49m\u001b[43m \u001b[49m\u001b[43margs\u001b[49m\u001b[43m)\u001b[49m\u001b[43m,\u001b[49m\u001b[43m \u001b[49m\u001b[43mparams\u001b[49m\u001b[43m)\u001b[49m\n\u001b[1;32m    392\u001b[0m   \u001b[38;5;28;01mreturn\u001b[39;00m \u001b[38;5;28mmap\u001b[39m(full_lower, out) \u001b[38;5;28;01mif\u001b[39;00m \u001b[38;5;28mself\u001b[39m\u001b[38;5;241m.\u001b[39mmultiple_results \u001b[38;5;28;01melse\u001b[39;00m full_lower(out)\n",
      "File \u001b[0;32m/cluster/project/refregier/areeves/pybird_emu_jax/lib64/python3.10/site-packages/jax/_src/core.py:879\u001b[0m, in \u001b[0;36mEvalTrace.process_primitive\u001b[0;34m(self, primitive, tracers, params)\u001b[0m\n\u001b[1;32m    877\u001b[0m   \u001b[38;5;28;01mreturn\u001b[39;00m call_impl_with_key_reuse_checks(primitive, primitive\u001b[38;5;241m.\u001b[39mimpl, \u001b[38;5;241m*\u001b[39mtracers, \u001b[38;5;241m*\u001b[39m\u001b[38;5;241m*\u001b[39mparams)\n\u001b[1;32m    878\u001b[0m \u001b[38;5;28;01melse\u001b[39;00m:\n\u001b[0;32m--> 879\u001b[0m   \u001b[38;5;28;01mreturn\u001b[39;00m \u001b[43mprimitive\u001b[49m\u001b[38;5;241;43m.\u001b[39;49m\u001b[43mimpl\u001b[49m\u001b[43m(\u001b[49m\u001b[38;5;241;43m*\u001b[39;49m\u001b[43mtracers\u001b[49m\u001b[43m,\u001b[49m\u001b[43m \u001b[49m\u001b[38;5;241;43m*\u001b[39;49m\u001b[38;5;241;43m*\u001b[39;49m\u001b[43mparams\u001b[49m\u001b[43m)\u001b[49m\n",
      "File \u001b[0;32m/cluster/project/refregier/areeves/pybird_emu_jax/lib64/python3.10/site-packages/jax/_src/dispatch.py:86\u001b[0m, in \u001b[0;36mapply_primitive\u001b[0;34m(prim, *args, **params)\u001b[0m\n\u001b[1;32m     84\u001b[0m prev \u001b[38;5;241m=\u001b[39m lib\u001b[38;5;241m.\u001b[39mjax_jit\u001b[38;5;241m.\u001b[39mswap_thread_local_state_disable_jit(\u001b[38;5;28;01mFalse\u001b[39;00m)\n\u001b[1;32m     85\u001b[0m \u001b[38;5;28;01mtry\u001b[39;00m:\n\u001b[0;32m---> 86\u001b[0m   outs \u001b[38;5;241m=\u001b[39m \u001b[43mfun\u001b[49m\u001b[43m(\u001b[49m\u001b[38;5;241;43m*\u001b[39;49m\u001b[43margs\u001b[49m\u001b[43m)\u001b[49m\n\u001b[1;32m     87\u001b[0m \u001b[38;5;28;01mfinally\u001b[39;00m:\n\u001b[1;32m     88\u001b[0m   lib\u001b[38;5;241m.\u001b[39mjax_jit\u001b[38;5;241m.\u001b[39mswap_thread_local_state_disable_jit(prev)\n",
      "    \u001b[0;31m[... skipping hidden 17 frame]\u001b[0m\n",
      "File \u001b[0;32m/cluster/project/refregier/areeves/pybird_emu_jax/lib64/python3.10/site-packages/jax/_src/xla_bridge.py:890\u001b[0m, in \u001b[0;36mbackends\u001b[0;34m()\u001b[0m\n\u001b[1;32m    888\u001b[0m       \u001b[38;5;28;01melse\u001b[39;00m:\n\u001b[1;32m    889\u001b[0m         err_msg \u001b[38;5;241m+\u001b[39m\u001b[38;5;241m=\u001b[39m \u001b[38;5;124m\"\u001b[39m\u001b[38;5;124m (you may need to uninstall the failing plugin package, or set JAX_PLATFORMS=cpu to skip this backend.)\u001b[39m\u001b[38;5;124m\"\u001b[39m\n\u001b[0;32m--> 890\u001b[0m       \u001b[38;5;28;01mraise\u001b[39;00m \u001b[38;5;167;01mRuntimeError\u001b[39;00m(err_msg)\n\u001b[1;32m    892\u001b[0m \u001b[38;5;28;01massert\u001b[39;00m _default_backend \u001b[38;5;129;01mis\u001b[39;00m \u001b[38;5;129;01mnot\u001b[39;00m \u001b[38;5;28;01mNone\u001b[39;00m\n\u001b[1;32m    893\u001b[0m \u001b[38;5;28;01mif\u001b[39;00m \u001b[38;5;129;01mnot\u001b[39;00m config\u001b[38;5;241m.\u001b[39mjax_platforms\u001b[38;5;241m.\u001b[39mvalue:\n",
      "\u001b[0;31mRuntimeError\u001b[0m: Unable to initialize backend 'cuda': FAILED_PRECONDITION: No visible GPU devices. (you may need to uninstall the failing plugin package, or set JAX_PLATFORMS=cpu to skip this backend.)"
     ]
    }
   ],
   "source": [
    "from pybird import config \n",
    "config.set_jax_enabled(True)\n",
    "import numpy as np \n",
    "import matplotlib.pyplot as plt \n",
    "import h5py\n",
    "from scipy.interpolate import interp1d\n",
    "import jax \n",
    "import jax.numpy as jnp\n",
    "import pybird \n",
    "import os \n",
    "from train_pybird_emulators.emu_utils import emu_utils \n",
    "os.environ[\"XLA_PYTHON_CLIENT_PREALLOCATE\"]=\"false\"\n",
    "os.environ[\"XLA_PYTHON_CLIENT_MEM_FRACTION\"]=\".80\"\n",
    "os.environ[\"XLA_PYTHON_CLIENT_ALLOCATOR\"]=\"platform\""
   ]
  },
  {
   "cell_type": "code",
   "execution_count": null,
   "id": "e9bf3c7d-d51d-4c1f-9d7c-1418f84841bc",
   "metadata": {},
   "outputs": [],
   "source": [
    "from pybird.correlator import Correlator"
   ]
  },
  {
   "cell_type": "code",
   "execution_count": null,
   "id": "95ec992a-ceb5-456b-8f1e-748491020b23",
   "metadata": {},
   "outputs": [],
   "source": [
    "N = Correlator()\n",
    "#Set up pybird in time unspecified mode for the computation of the pybird pieces training data\n",
    "N.set({'output': 'bPk', 'multipole': 3, 'kmax': 0.6,\n",
    "'fftaccboost': 2,\n",
    "'with_resum': True, 'with_exact_time': True,\n",
    "'with_time': False, # time unspecified\n",
    "'km': 1., 'kr': 1., 'nd': 3e-4,\n",
    "'eft_basis': 'eftoflss', 'with_stoch': True})"
   ]
  },
  {
   "cell_type": "code",
   "execution_count": null,
   "id": "c15550d8-c5cf-4541-b7fd-2f7b4e1127c7",
   "metadata": {},
   "outputs": [],
   "source": [
    "from jax.config import config\n",
    "config.update(\"jax_enable_x64\", True) "
   ]
  },
  {
   "cell_type": "code",
   "execution_count": null,
   "id": "dcc4c530-2b6d-4227-89cc-729493e85cd6",
   "metadata": {},
   "outputs": [],
   "source": [
    "with h5py.File('/cluster/work/refregier/alexree/frequentist_framework/FreqCosmo/lhc_bank_z0p5to2p5/total_data.h5', 'r') as hdf_file:\n",
    "    print(hdf_file.keys())\n",
    "    print(hdf_file[\"params\"][-9])    \n",
    "    pk_test = hdf_file[\"pk_lin\"][-9]"
   ]
  },
  {
   "cell_type": "code",
   "execution_count": null,
   "id": "29995721-6c85-48e1-8b5b-3f5940502a2b",
   "metadata": {},
   "outputs": [],
   "source": [
    "def get_logslope(x, f, side='left'):\n",
    "    if side == 'left': \n",
    "        n = (np.log(f[1]) - np.log(f[0])) / (np.log(x[1]) - np.log(x[0]))\n",
    "        A = f[0] / x[0]**n\n",
    "    elif side == 'right':\n",
    "        n = (np.log(f[-1]) - np.log(f[-2])) / (np.log(x[-1]) - np.log(x[-2]))\n",
    "        A = f[-1] / x[-1]**n\n",
    "    return A, n  "
   ]
  },
  {
   "cell_type": "code",
   "execution_count": null,
   "id": "4c266c28-2ea2-4e82-8d1c-1188e7462e06",
   "metadata": {},
   "outputs": [],
   "source": [
    "from utils import PiecewiseSpline_jax"
   ]
  },
  {
   "cell_type": "code",
   "execution_count": null,
   "id": "19dace81-c229-41d4-8181-a984df6312e3",
   "metadata": {},
   "outputs": [],
   "source": [
    "# k_l, k_r =  1e-4, 1.0 #In Mpc/h\n",
    "k_l, k_r =  1e-4, 0.7 #In Mpc/h\n",
    "\n",
    "kk = np.logspace(-5, 1, 1000)\n",
    "\n",
    "mask = (kk < k_l) | (kk > k_r)\n",
    "kk_ = kk[~mask]\n",
    "pk_max = np.max(pk_test)\n",
    "pk = 1.*pk_test / pk_max # normalizing\n",
    "ilogpk = interp1d(np.log(kk), np.log(pk), kind = 'cubic')\n",
    "pkk_ = np.exp(ilogpk(np.log(kk_)))\n",
    "\n",
    "knots_orig = np.load(\"/cluster/work/refregier/alexree/frequentist_framework/pybird_emu/data/emu/knots.npy\")\n",
    "\n",
    "knots_125 = np.load(\"/cluster/work/refregier/alexree/frequentist_framework/FreqCosmo/hpc_work/final_knots_125.npy\")\n",
    "nknots = 80\n",
    "k_low = 0.02\n",
    "k_mid = 0.1\n",
    "n_low = 15\n",
    "n_mid = 13\n",
    "n_high = nknots - n_low - n_mid\n",
    "knots_low = np.geomspace(k_l, k_low, n_low)\n",
    "knots_mid = np.geomspace(k_low+0.001,k_mid, n_mid)\n",
    "knots_high = np.geomspace(k_mid+0.01, k_r, n_high)\n",
    "knots = np.concatenate((knots_low,knots_mid,knots_high))\n",
    "\n",
    "# knots = knots_orig \n",
    "\n",
    "logpk = ilogpk(np.log(knots))\n",
    "A_r, n_r = get_logslope(kk_, pkk_, side='right')\n",
    "pk_r = A_r * k_r**n_r\n",
    "dpk_r = A_r * n_r * k_r**(n_r-1.)\n",
    "dlogpk_r = (k_r/pk_r * dpk_r)"
   ]
  },
  {
   "cell_type": "code",
   "execution_count": null,
   "id": "11cb47c8-6b32-49c7-8ffb-94b2efa18b42",
   "metadata": {},
   "outputs": [],
   "source": [
    "knots_mid"
   ]
  },
  {
   "cell_type": "code",
   "execution_count": null,
   "id": "d634fcde-bf36-440c-898e-6cdea547d8af",
   "metadata": {},
   "outputs": [],
   "source": [
    "knots_high"
   ]
  },
  {
   "cell_type": "code",
   "execution_count": null,
   "id": "2fd18077-d759-459b-9df3-3d0c410a8099",
   "metadata": {},
   "outputs": [],
   "source": [
    "plt.xscale(\"log\")\n",
    "plt.scatter(knots, y=np.zeros_like(knots))"
   ]
  },
  {
   "cell_type": "code",
   "execution_count": null,
   "id": "5aee141a-6bcf-475a-9722-686f7de68bb1",
   "metadata": {},
   "outputs": [],
   "source": [
    "spline_1 = utils.PiecewiseSpline_jax(knots, logpk, dlogpk_r, boundaries=True)"
   ]
  },
  {
   "cell_type": "code",
   "execution_count": null,
   "id": "247f1dc4-366a-4ba7-9388-69f268f9e571",
   "metadata": {},
   "outputs": [],
   "source": [
    "# plt.plot(test_kk, np.exp(spline_1(np.log(test_kk))))\n",
    "# plt.plot(test_kk, np.exp(ilogpk(np.log(test_kk))), 'r--')\n",
    "plt.xscale(\"log\")\n",
    "plt.plot(kk, np.exp(spline_1(np.log(kk))))\n",
    "plt.plot(kk, np.exp(ilogpk(np.log(kk))), 'r--')"
   ]
  },
  {
   "cell_type": "code",
   "execution_count": null,
   "id": "25e96385-641b-4865-a991-77d900737277",
   "metadata": {},
   "outputs": [],
   "source": [
    "plt.xscale(\"log\")\n",
    "plt.xlim(1e-4,1)\n",
    "plt.ylim(0.9990,1.005)\n",
    "plt.plot(kk, np.exp(spline_1(np.log(kk)))/np.exp(ilogpk(np.log(kk))))"
   ]
  },
  {
   "cell_type": "code",
   "execution_count": null,
   "id": "856c0f74-81d2-4f0c-8b6f-8450a210156f",
   "metadata": {},
   "outputs": [],
   "source": [
    "#now lets try with the Jax version of things \n",
    "import jax.numpy as jnp\n",
    "\n",
    "from utils import PiecewiseSpline_jax\n",
    "from utils import InterpolatedUnivariateSpline_jax"
   ]
  },
  {
   "cell_type": "code",
   "execution_count": null,
   "id": "7511d484-6e7a-43ac-a875-8e6bc9c3767f",
   "metadata": {},
   "outputs": [],
   "source": [
    "kk_jax = jnp.array(kk)\n",
    "pk_jax = jnp.array(pk)\n",
    "knots_jax = jnp.array(knots)\n",
    "ilogpk_jax =  InterpolatedUnivariateSpline_jax(jnp.log(kk_jax), jnp.log(pk_jax), endpoints='natural')\n",
    "dlogpk_r_jax = dlogpk_r.astype(jnp.float64)\n",
    "logpk_jax = ilogpk_jax(jnp.log(knots_jax))\n",
    "spline_2 = PiecewiseSpline_jax(knots_jax, logpk_jax, dlogpk_r_jax)"
   ]
  },
  {
   "cell_type": "code",
   "execution_count": null,
   "id": "51e408a7-2760-4c68-b35a-3fb67d4eb161",
   "metadata": {},
   "outputs": [],
   "source": [
    "#The internal knots used by pybird up to kmax=0.4 which is where the emus are trained\n",
    "k_arr = np.array([0.001 , 0.0025, 0.005 , 0.0075, 0.01  , 0.0125, 0.015 , 0.0175,\n",
    "    0.02  , 0.0225, 0.025 , 0.0275, 0.03  , 0.035 , 0.04  , 0.045 ,\n",
    "    0.05  , 0.055 , 0.06  , 0.065 , 0.07  , 0.075 , 0.08  , 0.085 ,\n",
    "    0.09  , 0.095 , 0.1   , 0.105 , 0.11  , 0.115 , 0.12  , 0.125 ,\n",
    "    0.13  , 0.135 , 0.14  , 0.145 , 0.15  , 0.155 , 0.16  , 0.165 ,\n",
    "    0.17  , 0.175 , 0.18  , 0.185 , 0.19  , 0.195 , 0.2   , 0.205 ,\n",
    "    0.21  , 0.215 , 0.22  , 0.225 , 0.23  , 0.235 , 0.24  , 0.245 ,\n",
    "    0.25  , 0.255 , 0.26  , 0.265 , 0.27  , 0.275 , 0.28  , 0.285 ,\n",
    "    0.29  , 0.295 , 0.3   , 0.31  , 0.32  , 0.33  , 0.34  , 0.35  ,\n",
    "    0.36  , 0.37  , 0.38  , 0.39  , 0.4])"
   ]
  },
  {
   "cell_type": "code",
   "execution_count": null,
   "id": "7204966f-6c1a-4290-a484-2305aae7ae12",
   "metadata": {},
   "outputs": [],
   "source": [
    "    #Get covariance matrix at reference cosmology \n",
    "from classy import Class\n",
    "import utils\n",
    "z=0.5\n",
    "M = Class()\n",
    "cosmo = {'omega_b': 0.02235, 'omega_cdm': 0.120, 'h': 0.675, 'ln10^{10}A_s': 3.044, 'n_s': 0.965}\n",
    "M.set(cosmo)\n",
    "M.set({'output': 'mPk', 'P_k_max_h/Mpc': 30, 'z_max_pk': z})\n",
    "M.compute()\n",
    "D1, f1 = M.scale_independent_growth_factor(z), M.scale_independent_growth_factor_f(z), \n",
    "\n",
    "pk_lin = np.array([M.pk_lin(k*M.h(),z)*M.h()**3 for k in kk]) # k in Mpc/h, pk in (Mpc/h)^3\n",
    "ipk_h = interp1d(kk, pk_lin, kind='cubic')\n",
    "\n",
    "Vs = 1.e11      # ideal volume (in [Mpc/h]^3), > 3 x better than DESI / Euclid (BOSS ~ 3e9, DESI ~ 3e10)\n",
    "nbar = 6e-3     # ideal nbar (for b1~2) (in [Mpc/h]^3), > 12 x better than DESI / Euclid\n",
    "\n",
    "# Vs = 3.e10      # ideal volume (in [Mpc/h]^3), > 3 x better than DESI / Euclid (BOSS ~ 3e9, DESI ~ 3e10)\n",
    "# nbar = 2e-3     # ideal nbar (for b1~2) (in [Mpc/h]^3), > 12 x better than DESI / Euclid\n",
    "\n",
    "cov = utils.get_cov(k_arr, ipk_h, 1.9536, f1, mult=3, nbar=nbar, Vs=Vs)\n",
    "cov_inv = jnp.linalg.inv(cov)\n",
    "err = np.sqrt(np.diag(cov))\n",
    "\n",
    "cov_desi = utils.get_cov(k_arr, ipk_h, 1.9536, f1, mult=3, nbar=nbar/3, Vs=Vs/3)"
   ]
  },
  {
   "cell_type": "code",
   "execution_count": null,
   "id": "a00286e3-97f4-460a-9f39-0867cd2d940f",
   "metadata": {},
   "outputs": [],
   "source": []
  },
  {
   "cell_type": "code",
   "execution_count": null,
   "id": "a7f7b183-d754-4c4d-a167-c83263904272",
   "metadata": {},
   "outputs": [],
   "source": [
    "f1"
   ]
  },
  {
   "cell_type": "code",
   "execution_count": null,
   "id": "f509c9ef-91ca-4af6-9d61-b4169f44e2d0",
   "metadata": {},
   "outputs": [],
   "source": [
    "from pybird import config\n",
    "config.set_jax_enabled(True) # Enable JAX by setting the config Class\n",
    "from pybird.correlator import Correlator"
   ]
  },
  {
   "cell_type": "code",
   "execution_count": null,
   "id": "54e04608-f7fc-41db-8a44-9df0cf209045",
   "metadata": {},
   "outputs": [],
   "source": [
    "N = Correlator()\n",
    "N.set({'output': 'bPk', 'multipole': 3, 'kmax': 0.4,\n",
    "    'fftaccboost': 2,\n",
    "    'with_time': False,\n",
    "    'with_resum': False,\n",
    "    'with_exact_time': True,\n",
    "    'km': 1., 'kr': 1., 'nd': 3e-4,\n",
    "    'eft_basis': 'eftoflss', 'with_stoch': True})\n",
    "\n",
    "N_rec = Correlator()\n",
    "N_rec.set({'output': 'bPk', 'multipole': 3, 'kmax': 0.4,\n",
    "    'fftaccboost': 2,\n",
    "    'with_time': False,\n",
    "    'with_resum': False,\n",
    "    'with_exact_time': True,\n",
    "    'km': 1., 'kr': 1., 'nd': 3e-4,\n",
    "    'eft_basis': 'eftoflss', 'with_stoch': True})"
   ]
  },
  {
   "cell_type": "code",
   "execution_count": null,
   "id": "6cf1f3ec-3e2d-4cbe-b93e-5d36f37734d3",
   "metadata": {},
   "outputs": [],
   "source": [
    "def get_logslope_jax(x, f, side='left'):\n",
    "    if side == 'left': \n",
    "        n = (jnp.log(f[1]) - jnp.log(f[0])) / (jnp.log(x[1]) - jnp.log(x[0]))\n",
    "        A = f[0] / x[0]**n\n",
    "    elif side == 'right':\n",
    "        n = (jnp.log(f[-1]) - jnp.log(f[-2])) / (jnp.log(x[-1]) - jnp.log(x[-2]))\n",
    "        A = f[-1] / x[-1]**n\n",
    "    return A, n"
   ]
  },
  {
   "cell_type": "code",
   "execution_count": null,
   "id": "ce58b969-a341-4ad0-8eb1-2016a6113751",
   "metadata": {},
   "outputs": [],
   "source": [
    "mask = jnp.where((kk > k_l) & (kk < k_r))\n",
    "def get_pybird_chi2(knots, cov_inv, pk, return_spectra=False):\n",
    "    \n",
    "    pk_max = jnp.max(pk)\n",
    "    pk_normed=pk/pk_max\n",
    "    eft_params = {'b1': 1.9536, 'c2': 0.5865, 'c4': 0.0, 'b3': -0.3595, 'cct': 0.1821, 'cr1': -0.8417, 'cr2': -0.808, 'ce0': 1.4954, 'ce1': 0.0, 'ce2': -1.6292, 'b2': 0.4147, 'b4': 0.4147}\n",
    "    # Construct the spline\n",
    "    ilogpk = utils.InterpolatedUnivariateSpline_jax(jnp.log(kk), \\\n",
    "    jnp.log(pk_normed),endpoints='natural')\n",
    "    logpk = ilogpk(jnp.log(knots))\n",
    "\n",
    "    D1 = 0.7696605714261694\n",
    "    f1 = 0.7588944657919923\n",
    "    Omega0_m = 0.3\n",
    "    z = 0.5\n",
    "    \n",
    "    A_r, n_r = get_logslope_jax(kk[mask], pk_normed[mask], side='right')\n",
    "    pk_r = A_r * k_r ** n_r\n",
    "    dpk_r = A_r * n_r * k_r ** (n_r - 1.)\n",
    "    dlogpk_r = (k_r / pk_r * dpk_r)\n",
    "    spline = utils.PiecewiseSpline_jax(knots, logpk, dlogpk_r, boundaries=True)\n",
    "\n",
    "    prediction_pklin = jnp.exp(spline(jnp.log(kk[mask])))*pk_max\n",
    "    \n",
    "    einsum_str = 'b,lbx->lx'\n",
    "    \n",
    "    N.compute({'kk': kk[mask], 'pk_lin': jnp.array(pk[mask]), 'D': D1, 'f': f1, 'z': z, 'Omega0_m': Omega0_m},\n",
    "            do_core=True, do_survey_specific=True)\n",
    "    \n",
    "    bpk_truth = N.get(eft_params)\n",
    "\n",
    "    N_rec.compute({'kk': kk[mask], 'pk_lin': jnp.array(prediction_pklin), 'D': D1, 'f': f1, 'z': z, 'Omega0_m': Omega0_m},\n",
    "            do_core=True, do_survey_specific=True)\n",
    "    \n",
    "    N_rec.get(eft_params)\n",
    "\n",
    "    N.bird.Ploopl = N_rec.bird.Ploopl\n",
    "    N.bird.setreducePslb(N.bias)\n",
    "    \n",
    "    bpk_reconstructed = N.bird.fullPs\n",
    "\n",
    "    difference = bpk_truth.flatten() - bpk_reconstructed.flatten()\n",
    "    chi2 = jnp.dot(difference, jnp.dot(cov_inv, difference))\n",
    "    \n",
    "    if return_spectra: \n",
    "        return chi2, bpk_truth, bpk_reconstructed\n",
    "    else:\n",
    "        return chi2\n",
    "\n"
   ]
  },
  {
   "cell_type": "code",
   "execution_count": null,
   "id": "ec227d63-5b7b-4024-a647-5788c343a86a",
   "metadata": {},
   "outputs": [],
   "source": [
    "import time"
   ]
  },
  {
   "cell_type": "code",
   "execution_count": null,
   "id": "c92a544f-5542-4fb6-b52a-3e7aaa7494ee",
   "metadata": {},
   "outputs": [],
   "source": [
    "knots.shape"
   ]
  },
  {
   "cell_type": "code",
   "execution_count": null,
   "id": "27d971cd-17a3-463e-973a-78885eccf79a",
   "metadata": {},
   "outputs": [],
   "source": [
    "kk = jnp.array(kk)\n",
    "knots = jnp.array(knots)\n",
    "pk_lin = jnp.array(pk_lin)"
   ]
  },
  {
   "cell_type": "code",
   "execution_count": null,
   "id": "632d02c0-202a-40be-8c6f-8d638bc2b6ed",
   "metadata": {},
   "outputs": [],
   "source": [
    "start = time.time()\n",
    "get_pybird_chi2(knots, cov_inv,pk_lin)\n",
    "end = time.time()"
   ]
  },
  {
   "cell_type": "code",
   "execution_count": null,
   "id": "94d2a4d6-b649-4337-be7c-a90e7f309d5b",
   "metadata": {},
   "outputs": [],
   "source": [
    "print(\"time\", end-start)"
   ]
  },
  {
   "cell_type": "code",
   "execution_count": null,
   "id": "f5548fc6-fdbe-4770-82f1-7f4a2656a57a",
   "metadata": {},
   "outputs": [],
   "source": [
    "get_chi2_jax_jit = jax.jit(get_pybird_chi2)"
   ]
  },
  {
   "cell_type": "code",
   "execution_count": null,
   "id": "3d5caa7b-1488-445b-a21c-95ea78ea1f9c",
   "metadata": {},
   "outputs": [],
   "source": [
    " a = get_chi2_jax_jit(knots, cov_inv,pk_lin)"
   ]
  },
  {
   "cell_type": "code",
   "execution_count": null,
   "id": "50c78c39-3077-49f5-9cde-7c3e5fa1d7c3",
   "metadata": {},
   "outputs": [],
   "source": [
    "start = time.time()\n",
    "\n",
    "get_chi2_jax_jit(knots, cov_inv,pk_lin)\n",
    "\n",
    "end = time.time()"
   ]
  },
  {
   "cell_type": "code",
   "execution_count": null,
   "id": "0dd57846-e843-42a2-a869-1c164b1dea56",
   "metadata": {},
   "outputs": [],
   "source": [
    "print(\"time\", end-start)"
   ]
  },
  {
   "cell_type": "code",
   "execution_count": null,
   "id": "43c37990-ee9e-4f58-9241-a4c4491ac347",
   "metadata": {},
   "outputs": [],
   "source": [
    "a"
   ]
  },
  {
   "cell_type": "code",
   "execution_count": null,
   "id": "0003c127-5ac7-4e4c-8a3f-5b16fb75e4ae",
   "metadata": {},
   "outputs": [],
   "source": [
    "# now loop over the bank and get all the reconstructions \n",
    "\n",
    "n_test = 5000\n",
    "with h5py.File('/cluster/work/refregier/alexree/frequentist_framework/FreqCosmo/lhc_bank_z0p5to2p5/total_data.h5', 'r') as hdf_file:  \n",
    "    pk_test_bank = hdf_file[\"pk_lin\"][-n_test:]\n"
   ]
  },
  {
   "cell_type": "code",
   "execution_count": null,
   "id": "aa69b083-8077-439b-bc8b-4f522f8245b8",
   "metadata": {},
   "outputs": [],
   "source": [
    "pk_test_bank"
   ]
  },
  {
   "cell_type": "code",
   "execution_count": null,
   "id": "be6e27be-782a-4c70-a1ba-37309928a3dc",
   "metadata": {},
   "outputs": [],
   "source": [
    "pk_test_bank.shape[0]"
   ]
  },
  {
   "cell_type": "code",
   "execution_count": null,
   "id": "af4f8e13-cb6f-44e8-aff0-9edcecf20562",
   "metadata": {},
   "outputs": [],
   "source": [
    "chi2s = []\n",
    "for i in range(pk_test_bank.shape[0]):\n",
    "    chi2s.append(get_chi2_jax_jit(knots, cov_inv,pk_test_bank[i]))"
   ]
  },
  {
   "cell_type": "code",
   "execution_count": null,
   "id": "224426f0-7e4b-489d-90da-f05acbd46f59",
   "metadata": {},
   "outputs": [],
   "source": [
    "nbins = 3*k_arr.shape[0]\n"
   ]
  },
  {
   "cell_type": "code",
   "execution_count": null,
   "id": "78af3b5f-3a6f-40e6-b5e8-c3a6e1489b9b",
   "metadata": {},
   "outputs": [],
   "source": [
    "np.save(\"final_knots_80\", knots)"
   ]
  },
  {
   "cell_type": "code",
   "execution_count": null,
   "id": "24f03197-af92-4fac-bcca-9f4c88f44d49",
   "metadata": {},
   "outputs": [],
   "source": [
    "# Plotting histogram\n",
    "plt.figure(figsize=(10, 6))  # Adjust figure size as needed\n",
    "plt.hist(np.sqrt(np.array(chi2s)/nbins), bins=500, color='skyblue', edgecolor='black')\n",
    "plt.title('Histogram of chi2s')\n",
    "plt.xlabel(r'$\\sqrt{\\chi^2/nbins}$')\n",
    "plt.ylabel('Frequency')\n",
    "plt.grid(True)  # Add grid for better visualization\n",
    "# plt.xlim([0,10])"
   ]
  },
  {
   "cell_type": "code",
   "execution_count": null,
   "id": "62e07939-0689-4f3e-9930-f2752a71cb9c",
   "metadata": {},
   "outputs": [],
   "source": [
    "cutoff_index = int(np.ceil(len(chi2s) * 0.95)) - 1"
   ]
  },
  {
   "cell_type": "code",
   "execution_count": null,
   "id": "1de487cf-d8e4-4df6-a7fb-4fca7a7a0ae9",
   "metadata": {},
   "outputs": [],
   "source": [
    "cutoff_index"
   ]
  },
  {
   "cell_type": "code",
   "execution_count": null,
   "id": "7f988b9c-2847-4b4e-8d2b-b5bde2a581d0",
   "metadata": {},
   "outputs": [],
   "source": [
    "two_sigma = np.sort(np.sqrt(np.array(chi2s)/(77*3)))[cutoff_index]"
   ]
  },
  {
   "cell_type": "code",
   "execution_count": null,
   "id": "d4a2d6e4-ec6e-43d7-bf8a-5b807f36337c",
   "metadata": {},
   "outputs": [],
   "source": [
    "two_sigma"
   ]
  },
  {
   "cell_type": "code",
   "execution_count": null,
   "id": "c3748ddc-9b48-4e91-a3f3-22ab975ea7f7",
   "metadata": {},
   "outputs": [],
   "source": [
    "ind_bad = jnp.argmax(jnp.array(chi2s))"
   ]
  },
  {
   "cell_type": "code",
   "execution_count": null,
   "id": "acd10af1-de86-49df-9040-e7eeba78641f",
   "metadata": {},
   "outputs": [],
   "source": [
    "chi2, truth, reconstructed = get_pybird_chi2(knots, cov_inv,pk_test_bank[ind_bad], return_spectra=True)"
   ]
  },
  {
   "cell_type": "code",
   "execution_count": null,
   "id": "23b6b922-384d-4f43-802a-4f70285b7be8",
   "metadata": {},
   "outputs": [],
   "source": [
    "np.sqrt((chi2/(77*3)))"
   ]
  },
  {
   "cell_type": "code",
   "execution_count": null,
   "id": "5b3b0b82-0183-43da-9828-13c6a6794d17",
   "metadata": {},
   "outputs": [],
   "source": [
    "err_0 = np.sqrt(np.diag(cov))"
   ]
  },
  {
   "cell_type": "code",
   "execution_count": null,
   "id": "676246e0-67c7-41a5-89de-3ff3133b523b",
   "metadata": {},
   "outputs": [],
   "source": [
    "fig, ax = plt.subplots(3,1,figsize =(10,6))\n",
    "\n",
    "# truth = bpk_benchmark\n",
    "for i, ell in enumerate([0, 2, 4]):\n",
    "    ax[i].plot(k_arr, (truth[i]-reconstructed[i])/truth[i], 'C0', alpha=0.2, label=fr'$\\Delta P^g_{ell}/truth$')\n",
    "    ax[i].fill_between(k_arr, -err_0[i*77:(i+1)*77]/truth[i], err_0[i*77:(i+1)*77]/truth[i], color='orange', alpha=.4, label='errorbar')\n",
    "    ax[i].fill_between(k_arr, -1e-3*np.ones_like(k_arr), 1e-3*np.ones_like(k_arr), color='C2', alpha=.3, label='Boltzmann code error')\n",
    "    ax[i].set_ylim([-0.005,0.005])\n",
    "\n",
    "plt.legend()"
   ]
  },
  {
   "cell_type": "code",
   "execution_count": null,
   "id": "3e00cb59-11a7-49a1-9bc5-7e8a6f787dc1",
   "metadata": {},
   "outputs": [],
   "source": [
    "fig, ax = plt.subplots()\n",
    "\n",
    "ax.plot(k_arr, np.abs(truth[0]))\n",
    "ax.set_xscale(\"log\")\n",
    "ax.set_yscale(\"log\")"
   ]
  },
  {
   "cell_type": "code",
   "execution_count": null,
   "id": "c7c006b9-1635-49aa-8300-4b83b246cc41",
   "metadata": {},
   "outputs": [],
   "source": [
    "fig, ax = plt.subplots()\n",
    "\n",
    "ax.plot(k_arr, np.abs(reconstructed[0]))\n",
    "ax.set_xscale(\"log\")\n",
    "ax.set_yscale(\"log\")"
   ]
  },
  {
   "cell_type": "markdown",
   "id": "f09c2aee-1cbd-40c3-b130-0634b058a781",
   "metadata": {},
   "source": [
    "### Lets investigate that power spectrum"
   ]
  },
  {
   "cell_type": "code",
   "execution_count": null,
   "id": "94071066-adbf-41c9-9ae7-bdbf8e630dbc",
   "metadata": {},
   "outputs": [],
   "source": [
    "pk_max = np.amax(pk_test_bank[ind_bad])\n",
    "\n",
    "pk = 1.*pk_test_bank[ind_bad] / pk_max # normalizing\n",
    "ilogpk = interp1d(np.log(kk), np.log(pk), kind = 'cubic')\n",
    "pkk_ = np.exp(ilogpk(np.log(kk_)))\n",
    "\n",
    "# knots = np.load(\"/cluster/work/refregier/alexree/frequentist_framework/pybird_emu/data/emu/knots.npy\")\n",
    "\n",
    "# nknots = 80\n",
    "# k_mid = 0.05\n",
    "# n_low = 15\n",
    "# n_high = nknots - n_low\n",
    "# knots_low = np.geomspace(k_l, k_mid, n_low)\n",
    "# knots_high = np.geomspace(k_mid+0.001, k_r, n_high)\n",
    "# knots = np.concatenate((knots_low,knots_high))\n",
    "\n",
    "logpk = ilogpk(np.log(knots))\n",
    "A_r, n_r = get_logslope(kk_, pkk_, side='right')\n",
    "pk_r = A_r * k_r**n_r\n",
    "dpk_r = A_r * n_r * k_r**(n_r-1.)\n",
    "dlogpk_r = (k_r/pk_r * dpk_r)\n",
    "\n",
    "spline_1 = utils.PiecewiseSpline_jax(knots, logpk, dlogpk_r)"
   ]
  },
  {
   "cell_type": "code",
   "execution_count": null,
   "id": "de39542c-ca71-4d14-a229-9b5d4990851f",
   "metadata": {},
   "outputs": [],
   "source": [
    "plt.xscale(\"log\")\n",
    "plt.plot(kk, pk*pk_max, 'r--')\n",
    "plt.plot(kk, np.exp(spline_1(np.log(kk)))*pk_max, 'g')"
   ]
  },
  {
   "cell_type": "code",
   "execution_count": null,
   "id": "47f8b079-bd89-4f0d-b859-8caea2f0d978",
   "metadata": {},
   "outputs": [],
   "source": [
    "plt.xscale(\"log\")\n",
    "plt.plot(kk, pk/np.exp(spline_1(np.log(kk))), 'r--')\n",
    "plt.xlim(1e-4,1)"
   ]
  },
  {
   "cell_type": "code",
   "execution_count": null,
   "id": "fcdcc185-6300-4c98-84e5-550658eae2d6",
   "metadata": {},
   "outputs": [],
   "source": []
  },
  {
   "cell_type": "code",
   "execution_count": null,
   "id": "0884ad2a-0944-4a23-8225-8f283df9cdef",
   "metadata": {},
   "outputs": [],
   "source": []
  },
  {
   "cell_type": "code",
   "execution_count": null,
   "id": "5850a118-482e-42f0-b363-16c0cdf9c8f2",
   "metadata": {},
   "outputs": [],
   "source": []
  },
  {
   "cell_type": "code",
   "execution_count": null,
   "id": "1536a37a-c918-47c7-9ec9-1d575a979a31",
   "metadata": {},
   "outputs": [],
   "source": []
  }
 ],
 "metadata": {
  "kernelspec": {
   "display_name": "pybird_emu_jax",
   "language": "python",
   "name": "pybird_emu_jax"
  },
  "language_info": {
   "codemirror_mode": {
    "name": "ipython",
    "version": 3
   },
   "file_extension": ".py",
   "mimetype": "text/x-python",
   "name": "python",
   "nbconvert_exporter": "python",
   "pygments_lexer": "ipython3",
   "version": "3.10.4"
  }
 },
 "nbformat": 4,
 "nbformat_minor": 5
}
