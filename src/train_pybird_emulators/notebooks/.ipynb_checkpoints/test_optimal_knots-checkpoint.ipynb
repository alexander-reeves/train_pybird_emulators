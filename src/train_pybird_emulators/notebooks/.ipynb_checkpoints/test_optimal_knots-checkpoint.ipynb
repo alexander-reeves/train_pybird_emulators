{
 "cells": [
  {
   "cell_type": "code",
   "execution_count": 1,
   "id": "cb470e41-5a6f-4043-bcb0-8c99d15c48af",
   "metadata": {},
   "outputs": [
    {
     "name": "stdout",
     "output_type": "stream",
     "text": [
      "using jax\n"
     ]
    }
   ],
   "source": [
    "from pybird import config \n",
    "config.set_jax_enabled(True)\n",
    "import numpy as np \n",
    "import matplotlib.pyplot as plt \n",
    "import h5py\n",
    "from scipy.interpolate import interp1d\n",
    "import jax \n",
    "import jax.numpy as jnp\n",
    "import pybird \n",
    "import os \n",
    "import utils \n",
    "os.environ[\"XLA_PYTHON_CLIENT_PREALLOCATE\"]=\"false\"\n",
    "os.environ[\"XLA_PYTHON_CLIENT_MEM_FRACTION\"]=\".80\"\n",
    "os.environ[\"XLA_PYTHON_CLIENT_ALLOCATOR\"]=\"platform\""
   ]
  },
  {
   "cell_type": "code",
   "execution_count": 2,
   "id": "c15550d8-c5cf-4541-b7fd-2f7b4e1127c7",
   "metadata": {},
   "outputs": [
    {
     "name": "stderr",
     "output_type": "stream",
     "text": [
      "/scratch/tmp.53720734.areeves/ipykernel_73306/4258299747.py:1: DeprecationWarning: Accessing jax.config via the jax.config submodule is deprecated.\n",
      "  from jax.config import config\n"
     ]
    }
   ],
   "source": [
    "from jax.config import config\n",
    "config.update(\"jax_enable_x64\", True) "
   ]
  },
  {
   "cell_type": "code",
   "execution_count": 3,
   "id": "dcc4c530-2b6d-4227-89cc-729493e85cd6",
   "metadata": {},
   "outputs": [
    {
     "name": "stdout",
     "output_type": "stream",
     "text": [
      "<KeysViewHDF5 ['params', 'pk_lin']>\n",
      "[ 0.1566485   0.02405606  0.60950625  0.0387175   0.736829    2.62749\n",
      "  0.41931    -1.0994935   0.57862   ]\n"
     ]
    }
   ],
   "source": [
    "with h5py.File('/cluster/work/refregier/alexree/frequentist_framework/FreqCosmo/lhc_bank_z0p5to2p5/total_data.h5', 'r') as hdf_file:\n",
    "    print(hdf_file.keys())\n",
    "    print(hdf_file[\"params\"][-9])    \n",
    "    pk_test = hdf_file[\"pk_lin\"][-9]"
   ]
  },
  {
   "cell_type": "code",
   "execution_count": 4,
   "id": "29995721-6c85-48e1-8b5b-3f5940502a2b",
   "metadata": {},
   "outputs": [],
   "source": [
    "def get_logslope(x, f, side='left'):\n",
    "    if side == 'left': \n",
    "        n = (np.log(f[1]) - np.log(f[0])) / (np.log(x[1]) - np.log(x[0]))\n",
    "        A = f[0] / x[0]**n\n",
    "    elif side == 'right':\n",
    "        n = (np.log(f[-1]) - np.log(f[-2])) / (np.log(x[-1]) - np.log(x[-2]))\n",
    "        A = f[-1] / x[-1]**n\n",
    "    return A, n  "
   ]
  },
  {
   "cell_type": "code",
   "execution_count": 5,
   "id": "4c266c28-2ea2-4e82-8d1c-1188e7462e06",
   "metadata": {},
   "outputs": [],
   "source": [
    "from utils import PiecewiseSpline_jax"
   ]
  },
  {
   "cell_type": "code",
   "execution_count": 52,
   "id": "19dace81-c229-41d4-8181-a984df6312e3",
   "metadata": {},
   "outputs": [],
   "source": [
    "# k_l, k_r =  1e-4, 1.0 #In Mpc/h\n",
    "k_l, k_r =  1e-4, 0.7 #In Mpc/h\n",
    "\n",
    "kk = np.logspace(-5, 1, 1000)\n",
    "\n",
    "mask = (kk < k_l) | (kk > k_r)\n",
    "kk_ = kk[~mask]\n",
    "pk_max = np.max(pk_test)\n",
    "pk = 1.*pk_test / pk_max # normalizing\n",
    "ilogpk = interp1d(np.log(kk), np.log(pk), kind = 'cubic')\n",
    "pkk_ = np.exp(ilogpk(np.log(kk_)))\n",
    "\n",
    "knots_orig = np.load(\"/cluster/work/refregier/alexree/frequentist_framework/pybird_emu/data/emu/knots.npy\")\n",
    "\n",
    "knots_125 = np.load(\"/cluster/work/refregier/alexree/frequentist_framework/FreqCosmo/hpc_work/final_knots_125.npy\")\n",
    "nknots = 80\n",
    "k_low = 0.02\n",
    "k_mid = 0.1\n",
    "n_low = 15\n",
    "n_mid = 13\n",
    "n_high = nknots - n_low - n_mid\n",
    "knots_low = np.geomspace(k_l, k_low, n_low)\n",
    "knots_mid = np.geomspace(k_low+0.001,k_mid, n_mid)\n",
    "knots_high = np.geomspace(k_mid+0.01, k_r, n_high)\n",
    "knots = np.concatenate((knots_low,knots_mid,knots_high))\n",
    "\n",
    "# knots = knots_orig \n",
    "\n",
    "logpk = ilogpk(np.log(knots))\n",
    "A_r, n_r = get_logslope(kk_, pkk_, side='right')\n",
    "pk_r = A_r * k_r**n_r\n",
    "dpk_r = A_r * n_r * k_r**(n_r-1.)\n",
    "dlogpk_r = (k_r/pk_r * dpk_r)"
   ]
  },
  {
   "cell_type": "code",
   "execution_count": 53,
   "id": "11cb47c8-6b32-49c7-8ffb-94b2efa18b42",
   "metadata": {},
   "outputs": [
    {
     "data": {
      "text/plain": [
       "array([0.021     , 0.02391669, 0.02723847, 0.03102162, 0.03533021,\n",
       "       0.04023722, 0.04582576, 0.05219049, 0.05943922, 0.06769472,\n",
       "       0.07709683, 0.0878048 , 0.1       ])"
      ]
     },
     "execution_count": 53,
     "metadata": {},
     "output_type": "execute_result"
    }
   ],
   "source": [
    "knots_mid"
   ]
  },
  {
   "cell_type": "code",
   "execution_count": 54,
   "id": "d634fcde-bf36-440c-898e-6cdea547d8af",
   "metadata": {},
   "outputs": [
    {
     "data": {
      "text/plain": [
       "array([0.11      , 0.11406479, 0.11827979, 0.12265054, 0.12718281,\n",
       "       0.13188255, 0.13675596, 0.14180945, 0.14704969, 0.15248357,\n",
       "       0.15811824, 0.16396113, 0.17001993, 0.17630262, 0.18281747,\n",
       "       0.18957306, 0.19657828, 0.20384237, 0.21137489, 0.21918576,\n",
       "       0.22728525, 0.23568405, 0.2443932 , 0.25342417, 0.26278887,\n",
       "       0.27249962, 0.2825692 , 0.29301089, 0.30383842, 0.31506605,\n",
       "       0.32670858, 0.33878133, 0.3513002 , 0.36428168, 0.37774285,\n",
       "       0.39170145, 0.40617586, 0.42118514, 0.43674905, 0.45288809,\n",
       "       0.46962351, 0.48697734, 0.50497245, 0.52363252, 0.54298213,\n",
       "       0.56304677, 0.58385284, 0.60542775, 0.62779992, 0.65099879,\n",
       "       0.67505493, 0.7       ])"
      ]
     },
     "execution_count": 54,
     "metadata": {},
     "output_type": "execute_result"
    }
   ],
   "source": [
    "knots_high"
   ]
  },
  {
   "cell_type": "code",
   "execution_count": 55,
   "id": "2fd18077-d759-459b-9df3-3d0c410a8099",
   "metadata": {},
   "outputs": [
    {
     "data": {
      "text/plain": [
       "<matplotlib.collections.PathCollection at 0x2b2653a65ab0>"
      ]
     },
     "execution_count": 55,
     "metadata": {},
     "output_type": "execute_result"
    },
    {
     "data": {
      "image/png": "[encoded data removed]",
      "text/plain": [
       "<Figure size 432x288 with 1 Axes>"
      ]
     },
     "metadata": {
      "needs_background": "light"
     },
     "output_type": "display_data"
    }
   ],
   "source": [
    "plt.xscale(\"log\")\n",
    "plt.scatter(knots, y=np.zeros_like(knots))"
   ]
  },
  {
   "cell_type": "code",
   "execution_count": 56,
   "id": "5aee141a-6bcf-475a-9722-686f7de68bb1",
   "metadata": {},
   "outputs": [
    {
     "name": "stdout",
     "output_type": "stream",
     "text": [
      "logknots [-9.21334488 -9.21234237 -9.21134087 -9.21034037 -8.83188913 -8.45343789\n",
      " -8.07498665 -7.69653541 -7.31808417 -6.93963293 -6.56118169 -6.18273045\n",
      " -5.80427921 -5.42582797 -5.04737673 -4.66892549 -4.29047425 -3.91202301\n",
      " -3.86323284 -3.73317886 -3.60312488 -3.4730709  -3.34301693 -3.21296295\n",
      " -3.08290897 -2.95285499 -2.82280101 -2.69274703 -2.56269305 -2.43263907\n",
      " -2.30258509 -2.20727491 -2.17098864 -2.13470237 -2.09841609 -2.06212982\n",
      " -2.02584354 -1.98955727 -1.953271   -1.91698472 -1.88069845 -1.84441217\n",
      " -1.8081259  -1.77183963 -1.73555335 -1.69926708 -1.6629808  -1.62669453\n",
      " -1.59040826 -1.55412198 -1.51783571 -1.48154944 -1.44526316 -1.40897689\n",
      " -1.37269061 -1.33640434 -1.30011807 -1.26383179 -1.22754552 -1.19125924\n",
      " -1.15497297 -1.1186867  -1.08240042 -1.04611415 -1.00982787 -0.9735416\n",
      " -0.93725533 -0.90096905 -0.86468278 -0.8283965  -0.79211023 -0.75582396\n",
      " -0.71953768 -0.68325141 -0.64696514 -0.61067886 -0.57439259 -0.53810631\n",
      " -0.50182004 -0.46553377 -0.42924749 -0.39296122 -0.35667494 -0.35567544\n",
      " -0.35467694 -0.35367943]\n"
     ]
    }
   ],
   "source": [
    "spline_1 = utils.PiecewiseSpline_jax(knots, logpk, dlogpk_r, boundaries=True)"
   ]
  },
  {
   "cell_type": "code",
   "execution_count": 57,
   "id": "247f1dc4-366a-4ba7-9388-69f268f9e571",
   "metadata": {},
   "outputs": [
    {
     "data": {
      "text/plain": [
       "[<matplotlib.lines.Line2D at 0x2b26539e4880>]"
      ]
     },
     "execution_count": 57,
     "metadata": {},
     "output_type": "execute_result"
    },
    {
     "data": {
      "image/png": "[encoded data removed]",
      "text/plain": [
       "<Figure size 432x288 with 1 Axes>"
      ]
     },
     "metadata": {
      "needs_background": "light"
     },
     "output_type": "display_data"
    }
   ],
   "source": [
    "# plt.plot(test_kk, np.exp(spline_1(np.log(test_kk))))\n",
    "# plt.plot(test_kk, np.exp(ilogpk(np.log(test_kk))), 'r--')\n",
    "plt.xscale(\"log\")\n",
    "plt.plot(kk, np.exp(spline_1(np.log(kk))))\n",
    "plt.plot(kk, np.exp(ilogpk(np.log(kk))), 'r--')"
   ]
  },
  {
   "cell_type": "code",
   "execution_count": 58,
   "id": "25e96385-641b-4865-a991-77d900737277",
   "metadata": {},
   "outputs": [
    {
     "data": {
      "text/plain": [
       "[<matplotlib.lines.Line2D at 0x2b256b9f5870>]"
      ]
     },
     "execution_count": 58,
     "metadata": {},
     "output_type": "execute_result"
    },
    {
     "data": {
      "image/png": "[encoded data removed]",
      "text/plain": [
       "<Figure size 432x288 with 1 Axes>"
      ]
     },
     "metadata": {
      "needs_background": "light"
     },
     "output_type": "display_data"
    }
   ],
   "source": [
    "plt.xscale(\"log\")\n",
    "plt.xlim(1e-4,1)\n",
    "plt.ylim(0.9990,1.005)\n",
    "plt.plot(kk, np.exp(spline_1(np.log(kk)))/np.exp(ilogpk(np.log(kk))))"
   ]
  },
  {
   "cell_type": "code",
   "execution_count": 59,
   "id": "856c0f74-81d2-4f0c-8b6f-8450a210156f",
   "metadata": {},
   "outputs": [],
   "source": [
    "#now lets try with the Jax version of things \n",
    "import jax.numpy as jnp\n",
    "\n",
    "from utils import PiecewiseSpline_jax\n",
    "from utils import InterpolatedUnivariateSpline_jax"
   ]
  },
  {
   "cell_type": "code",
   "execution_count": 60,
   "id": "7511d484-6e7a-43ac-a875-8e6bc9c3767f",
   "metadata": {},
   "outputs": [],
   "source": [
    "kk_jax = jnp.array(kk)\n",
    "pk_jax = jnp.array(pk)\n",
    "knots_jax = jnp.array(knots)\n",
    "ilogpk_jax =  InterpolatedUnivariateSpline_jax(jnp.log(kk_jax), jnp.log(pk_jax), endpoints='natural')\n",
    "dlogpk_r_jax = dlogpk_r.astype(jnp.float64)\n",
    "logpk_jax = ilogpk_jax(jnp.log(knots_jax))\n",
    "spline_2 = PiecewiseSpline_jax(knots_jax, logpk_jax, dlogpk_r_jax)"
   ]
  },
  {
   "cell_type": "code",
   "execution_count": 61,
   "id": "51e408a7-2760-4c68-b35a-3fb67d4eb161",
   "metadata": {},
   "outputs": [],
   "source": [
    "#The internal knots used by pybird up to kmax=0.4 which is where the emus are trained\n",
    "k_arr = np.array([0.001 , 0.0025, 0.005 , 0.0075, 0.01  , 0.0125, 0.015 , 0.0175,\n",
    "    0.02  , 0.0225, 0.025 , 0.0275, 0.03  , 0.035 , 0.04  , 0.045 ,\n",
    "    0.05  , 0.055 , 0.06  , 0.065 , 0.07  , 0.075 , 0.08  , 0.085 ,\n",
    "    0.09  , 0.095 , 0.1   , 0.105 , 0.11  , 0.115 , 0.12  , 0.125 ,\n",
    "    0.13  , 0.135 , 0.14  , 0.145 , 0.15  , 0.155 , 0.16  , 0.165 ,\n",
    "    0.17  , 0.175 , 0.18  , 0.185 , 0.19  , 0.195 , 0.2   , 0.205 ,\n",
    "    0.21  , 0.215 , 0.22  , 0.225 , 0.23  , 0.235 , 0.24  , 0.245 ,\n",
    "    0.25  , 0.255 , 0.26  , 0.265 , 0.27  , 0.275 , 0.28  , 0.285 ,\n",
    "    0.29  , 0.295 , 0.3   , 0.31  , 0.32  , 0.33  , 0.34  , 0.35  ,\n",
    "    0.36  , 0.37  , 0.38  , 0.39  , 0.4])"
   ]
  },
  {
   "cell_type": "code",
   "execution_count": 62,
   "id": "7204966f-6c1a-4290-a484-2305aae7ae12",
   "metadata": {},
   "outputs": [],
   "source": [
    "    #Get covariance matrix at reference cosmology \n",
    "from classy import Class\n",
    "import utils\n",
    "z=0.5\n",
    "M = Class()\n",
    "cosmo = {'omega_b': 0.02235, 'omega_cdm': 0.120, 'h': 0.675, 'ln10^{10}A_s': 3.044, 'n_s': 0.965}\n",
    "M.set(cosmo)\n",
    "M.set({'output': 'mPk', 'P_k_max_h/Mpc': 30, 'z_max_pk': z})\n",
    "M.compute()\n",
    "D1, f1 = M.scale_independent_growth_factor(z), M.scale_independent_growth_factor_f(z), \n",
    "\n",
    "pk_lin = np.array([M.pk_lin(k*M.h(),z)*M.h()**3 for k in kk]) # k in Mpc/h, pk in (Mpc/h)^3\n",
    "ipk_h = interp1d(kk, pk_lin, kind='cubic')\n",
    "\n",
    "Vs = 1.e11      # ideal volume (in [Mpc/h]^3), > 3 x better than DESI / Euclid (BOSS ~ 3e9, DESI ~ 3e10)\n",
    "nbar = 6e-3     # ideal nbar (for b1~2) (in [Mpc/h]^3), > 12 x better than DESI / Euclid\n",
    "\n",
    "# Vs = 3.e10      # ideal volume (in [Mpc/h]^3), > 3 x better than DESI / Euclid (BOSS ~ 3e9, DESI ~ 3e10)\n",
    "# nbar = 2e-3     # ideal nbar (for b1~2) (in [Mpc/h]^3), > 12 x better than DESI / Euclid\n",
    "\n",
    "cov = utils.get_cov(k_arr, ipk_h, 1.9536, f1, mult=3, nbar=nbar, Vs=Vs)\n",
    "cov_inv = jnp.linalg.inv(cov)\n",
    "err = np.sqrt(np.diag(cov))\n",
    "\n",
    "cov_desi = utils.get_cov(k_arr, ipk_h, 1.9536, f1, mult=3, nbar=nbar/3, Vs=Vs/3)"
   ]
  },
  {
   "cell_type": "code",
   "execution_count": null,
   "id": "a00286e3-97f4-460a-9f39-0867cd2d940f",
   "metadata": {},
   "outputs": [],
   "source": []
  },
  {
   "cell_type": "code",
   "execution_count": 66,
   "id": "a7f7b183-d754-4c4d-a167-c83263904272",
   "metadata": {},
   "outputs": [
    {
     "data": {
      "text/plain": [
       "0.7588944656570878"
      ]
     },
     "execution_count": 66,
     "metadata": {},
     "output_type": "execute_result"
    }
   ],
   "source": [
    "f1"
   ]
  },
  {
   "cell_type": "code",
   "execution_count": 63,
   "id": "f509c9ef-91ca-4af6-9d61-b4169f44e2d0",
   "metadata": {},
   "outputs": [],
   "source": [
    "from pybird import config\n",
    "config.set_jax_enabled(True) # Enable JAX by setting the config Class\n",
    "from pybird.correlator import Correlator"
   ]
  },
  {
   "cell_type": "code",
   "execution_count": 18,
   "id": "54e04608-f7fc-41db-8a44-9df0cf209045",
   "metadata": {},
   "outputs": [],
   "source": [
    "N = Correlator()\n",
    "N.set({'output': 'bPk', 'multipole': 3, 'kmax': 0.4,\n",
    "    'fftaccboost': 2,\n",
    "    'with_time': False,\n",
    "    'with_resum': False,\n",
    "    'with_exact_time': True,\n",
    "    'km': 1., 'kr': 1., 'nd': 3e-4,\n",
    "    'eft_basis': 'eftoflss', 'with_stoch': True})\n",
    "\n",
    "N_rec = Correlator()\n",
    "N_rec.set({'output': 'bPk', 'multipole': 3, 'kmax': 0.4,\n",
    "    'fftaccboost': 2,\n",
    "    'with_time': False,\n",
    "    'with_resum': False,\n",
    "    'with_exact_time': True,\n",
    "    'km': 1., 'kr': 1., 'nd': 3e-4,\n",
    "    'eft_basis': 'eftoflss', 'with_stoch': True})"
   ]
  },
  {
   "cell_type": "code",
   "execution_count": 19,
   "id": "6cf1f3ec-3e2d-4cbe-b93e-5d36f37734d3",
   "metadata": {},
   "outputs": [],
   "source": [
    "def get_logslope_jax(x, f, side='left'):\n",
    "    if side == 'left': \n",
    "        n = (jnp.log(f[1]) - jnp.log(f[0])) / (jnp.log(x[1]) - jnp.log(x[0]))\n",
    "        A = f[0] / x[0]**n\n",
    "    elif side == 'right':\n",
    "        n = (jnp.log(f[-1]) - jnp.log(f[-2])) / (jnp.log(x[-1]) - jnp.log(x[-2]))\n",
    "        A = f[-1] / x[-1]**n\n",
    "    return A, n"
   ]
  },
  {
   "cell_type": "code",
   "execution_count": 20,
   "id": "ce58b969-a341-4ad0-8eb1-2016a6113751",
   "metadata": {},
   "outputs": [],
   "source": [
    "mask = jnp.where((kk > k_l) & (kk < k_r))\n",
    "def get_pybird_chi2(knots, cov_inv, pk, return_spectra=False):\n",
    "    \n",
    "    pk_max = jnp.max(pk)\n",
    "    pk_normed=pk/pk_max\n",
    "    eft_params = {'b1': 1.9536, 'c2': 0.5865, 'c4': 0.0, 'b3': -0.3595, 'cct': 0.1821, 'cr1': -0.8417, 'cr2': -0.808, 'ce0': 1.4954, 'ce1': 0.0, 'ce2': -1.6292, 'b2': 0.4147, 'b4': 0.4147}\n",
    "    # Construct the spline\n",
    "    ilogpk = utils.InterpolatedUnivariateSpline_jax(jnp.log(kk), \\\n",
    "    jnp.log(pk_normed),endpoints='natural')\n",
    "    logpk = ilogpk(jnp.log(knots))\n",
    "\n",
    "    D1 = 0.7696605714261694\n",
    "    f1 = 0.7588944657919923\n",
    "    Omega0_m = 0.3\n",
    "    z = 0.5\n",
    "    \n",
    "    A_r, n_r = get_logslope_jax(kk[mask], pk_normed[mask], side='right')\n",
    "    pk_r = A_r * k_r ** n_r\n",
    "    dpk_r = A_r * n_r * k_r ** (n_r - 1.)\n",
    "    dlogpk_r = (k_r / pk_r * dpk_r)\n",
    "    spline = utils.PiecewiseSpline_jax(knots, logpk, dlogpk_r, boundaries=True)\n",
    "\n",
    "    prediction_pklin = jnp.exp(spline(jnp.log(kk[mask])))*pk_max\n",
    "    \n",
    "    einsum_str = 'b,lbx->lx'\n",
    "    \n",
    "    N.compute({'kk': kk[mask], 'pk_lin': jnp.array(pk[mask]), 'D': D1, 'f': f1, 'z': z, 'Omega0_m': Omega0_m},\n",
    "            do_core=True, do_survey_specific=True)\n",
    "    \n",
    "    bpk_truth = N.get(eft_params)\n",
    "\n",
    "    N_rec.compute({'kk': kk[mask], 'pk_lin': jnp.array(prediction_pklin), 'D': D1, 'f': f1, 'z': z, 'Omega0_m': Omega0_m},\n",
    "            do_core=True, do_survey_specific=True)\n",
    "    \n",
    "    N_rec.get(eft_params)\n",
    "\n",
    "    N.bird.Ploopl = N_rec.bird.Ploopl\n",
    "    N.bird.setreducePslb(N.bias)\n",
    "    \n",
    "    bpk_reconstructed = N.bird.fullPs\n",
    "\n",
    "    difference = bpk_truth.flatten() - bpk_reconstructed.flatten()\n",
    "    chi2 = jnp.dot(difference, jnp.dot(cov_inv, difference))\n",
    "    \n",
    "    if return_spectra: \n",
    "        return chi2, bpk_truth, bpk_reconstructed\n",
    "    else:\n",
    "        return chi2\n",
    "\n"
   ]
  },
  {
   "cell_type": "code",
   "execution_count": 21,
   "id": "ec227d63-5b7b-4024-a647-5788c343a86a",
   "metadata": {},
   "outputs": [],
   "source": [
    "import time"
   ]
  },
  {
   "cell_type": "code",
   "execution_count": 64,
   "id": "c92a544f-5542-4fb6-b52a-3e7aaa7494ee",
   "metadata": {},
   "outputs": [
    {
     "data": {
      "text/plain": [
       "(80,)"
      ]
     },
     "execution_count": 64,
     "metadata": {},
     "output_type": "execute_result"
    }
   ],
   "source": [
    "knots.shape"
   ]
  },
  {
   "cell_type": "code",
   "execution_count": 22,
   "id": "27d971cd-17a3-463e-973a-78885eccf79a",
   "metadata": {},
   "outputs": [],
   "source": [
    "kk = jnp.array(kk)\n",
    "knots = jnp.array(knots)\n",
    "pk_lin = jnp.array(pk_lin)"
   ]
  },
  {
   "cell_type": "code",
   "execution_count": 23,
   "id": "632d02c0-202a-40be-8c6f-8d638bc2b6ed",
   "metadata": {},
   "outputs": [
    {
     "name": "stdout",
     "output_type": "stream",
     "text": [
      "logknots [-9.21334488 -9.21234237 -9.21134087 -9.21034037 -8.83188913 -8.45343789\n",
      " -8.07498665 -7.69653541 -7.31808417 -6.93963293 -6.56118169 -6.18273045\n",
      " -5.80427921 -5.42582797 -5.04737673 -4.66892549 -4.29047425 -3.91202301\n",
      " -3.86323284 -3.73317886 -3.60312488 -3.4730709  -3.34301693 -3.21296295\n",
      " -3.08290897 -2.95285499 -2.82280101 -2.69274703 -2.56269305 -2.43263907\n",
      " -2.30258509 -2.20727491 -2.17098864 -2.13470237 -2.09841609 -2.06212982\n",
      " -2.02584354 -1.98955727 -1.953271   -1.91698472 -1.88069845 -1.84441217\n",
      " -1.8081259  -1.77183963 -1.73555335 -1.69926708 -1.6629808  -1.62669453\n",
      " -1.59040826 -1.55412198 -1.51783571 -1.48154944 -1.44526316 -1.40897689\n",
      " -1.37269061 -1.33640434 -1.30011807 -1.26383179 -1.22754552 -1.19125924\n",
      " -1.15497297 -1.1186867  -1.08240042 -1.04611415 -1.00982787 -0.9735416\n",
      " -0.93725533 -0.90096905 -0.86468278 -0.8283965  -0.79211023 -0.75582396\n",
      " -0.71953768 -0.68325141 -0.64696514 -0.61067886 -0.57439259 -0.53810631\n",
      " -0.50182004 -0.46553377 -0.42924749 -0.39296122 -0.35667494 -0.35567544\n",
      " -0.35467694 -0.35367943]\n"
     ]
    }
   ],
   "source": [
    "start = time.time()\n",
    "get_pybird_chi2(knots, cov_inv,pk_lin)\n",
    "end = time.time()"
   ]
  },
  {
   "cell_type": "code",
   "execution_count": 24,
   "id": "94d2a4d6-b649-4337-be7c-a90e7f309d5b",
   "metadata": {},
   "outputs": [
    {
     "name": "stdout",
     "output_type": "stream",
     "text": [
      "time 5.615009307861328\n"
     ]
    }
   ],
   "source": [
    "print(\"time\", end-start)"
   ]
  },
  {
   "cell_type": "code",
   "execution_count": 25,
   "id": "f5548fc6-fdbe-4770-82f1-7f4a2656a57a",
   "metadata": {},
   "outputs": [],
   "source": [
    "get_chi2_jax_jit = jax.jit(get_pybird_chi2)"
   ]
  },
  {
   "cell_type": "code",
   "execution_count": 26,
   "id": "3d5caa7b-1488-445b-a21c-95ea78ea1f9c",
   "metadata": {},
   "outputs": [
    {
     "name": "stdout",
     "output_type": "stream",
     "text": [
      "logknots Traced<ShapedArray(float64[86])>with<DynamicJaxprTrace(level=1/0)>\n"
     ]
    }
   ],
   "source": [
    " a = get_chi2_jax_jit(knots, cov_inv,pk_lin)"
   ]
  },
  {
   "cell_type": "code",
   "execution_count": 27,
   "id": "50c78c39-3077-49f5-9cde-7c3e5fa1d7c3",
   "metadata": {},
   "outputs": [],
   "source": [
    "start = time.time()\n",
    "\n",
    "get_chi2_jax_jit(knots, cov_inv,pk_lin)\n",
    "\n",
    "end = time.time()"
   ]
  },
  {
   "cell_type": "code",
   "execution_count": 28,
   "id": "0dd57846-e843-42a2-a869-1c164b1dea56",
   "metadata": {},
   "outputs": [
    {
     "name": "stdout",
     "output_type": "stream",
     "text": [
      "time 0.08005833625793457\n"
     ]
    }
   ],
   "source": [
    "print(\"time\", end-start)"
   ]
  },
  {
   "cell_type": "code",
   "execution_count": 29,
   "id": "43c37990-ee9e-4f58-9241-a4c4491ac347",
   "metadata": {},
   "outputs": [
    {
     "data": {
      "text/plain": [
       "Array(0.62276891, dtype=float64)"
      ]
     },
     "execution_count": 29,
     "metadata": {},
     "output_type": "execute_result"
    }
   ],
   "source": [
    "a"
   ]
  },
  {
   "cell_type": "code",
   "execution_count": 30,
   "id": "0003c127-5ac7-4e4c-8a3f-5b16fb75e4ae",
   "metadata": {},
   "outputs": [],
   "source": [
    "# now loop over the bank and get all the reconstructions \n",
    "\n",
    "n_test = 5000\n",
    "with h5py.File('/cluster/work/refregier/alexree/frequentist_framework/FreqCosmo/lhc_bank_z0p5to2p5/total_data.h5', 'r') as hdf_file:  \n",
    "    pk_test_bank = hdf_file[\"pk_lin\"][-n_test:]\n"
   ]
  },
  {
   "cell_type": "code",
   "execution_count": 31,
   "id": "aa69b083-8077-439b-bc8b-4f522f8245b8",
   "metadata": {},
   "outputs": [
    {
     "data": {
      "text/plain": [
       "array([[1.06482224e+02, 1.07961889e+02, 1.09462116e+02, ...,\n",
       "        1.26754974e-01, 1.22349579e-01, 1.18095201e-01],\n",
       "       [1.70196589e+01, 1.72576657e+01, 1.74990009e+01, ...,\n",
       "        1.27666950e-01, 1.23163471e-01, 1.18817104e-01],\n",
       "       [1.41352798e+02, 1.42874603e+02, 1.44412791e+02, ...,\n",
       "        5.28461928e-02, 5.08204882e-02, 4.88717124e-02],\n",
       "       ...,\n",
       "       [5.78523021e+00, 5.84929933e+00, 5.91407800e+00, ...,\n",
       "        1.63300347e-02, 1.57196997e-02, 1.51319045e-02],\n",
       "       [4.09403099e+01, 4.14450467e+01, 4.19560062e+01, ...,\n",
       "        1.67116045e-01, 1.61009605e-01, 1.55123777e-01],\n",
       "       [3.66522665e+00, 3.71674816e+00, 3.76899391e+00, ...,\n",
       "        3.24586511e-01, 3.13390262e-01, 3.02574674e-01]])"
      ]
     },
     "execution_count": 31,
     "metadata": {},
     "output_type": "execute_result"
    }
   ],
   "source": [
    "pk_test_bank"
   ]
  },
  {
   "cell_type": "code",
   "execution_count": 32,
   "id": "be6e27be-782a-4c70-a1ba-37309928a3dc",
   "metadata": {},
   "outputs": [
    {
     "data": {
      "text/plain": [
       "5000"
      ]
     },
     "execution_count": 32,
     "metadata": {},
     "output_type": "execute_result"
    }
   ],
   "source": [
    "pk_test_bank.shape[0]"
   ]
  },
  {
   "cell_type": "code",
   "execution_count": 33,
   "id": "af4f8e13-cb6f-44e8-aff0-9edcecf20562",
   "metadata": {},
   "outputs": [],
   "source": [
    "chi2s = []\n",
    "for i in range(pk_test_bank.shape[0]):\n",
    "    chi2s.append(get_chi2_jax_jit(knots, cov_inv,pk_test_bank[i]))"
   ]
  },
  {
   "cell_type": "code",
   "execution_count": 34,
   "id": "224426f0-7e4b-489d-90da-f05acbd46f59",
   "metadata": {},
   "outputs": [],
   "source": [
    "nbins = 3*k_arr.shape[0]\n"
   ]
  },
  {
   "cell_type": "code",
   "execution_count": 65,
   "id": "78af3b5f-3a6f-40e6-b5e8-c3a6e1489b9b",
   "metadata": {},
   "outputs": [],
   "source": [
    "np.save(\"final_knots_80\", knots)"
   ]
  },
  {
   "cell_type": "code",
   "execution_count": 35,
   "id": "24f03197-af92-4fac-bcca-9f4c88f44d49",
   "metadata": {},
   "outputs": [
    {
     "data": {
      "image/png": "[encoded data removed]",
      "text/plain": [
       "<Figure size 720x432 with 1 Axes>"
      ]
     },
     "metadata": {
      "needs_background": "light"
     },
     "output_type": "display_data"
    }
   ],
   "source": [
    "# Plotting histogram\n",
    "plt.figure(figsize=(10, 6))  # Adjust figure size as needed\n",
    "plt.hist(np.sqrt(np.array(chi2s)/nbins), bins=500, color='skyblue', edgecolor='black')\n",
    "plt.title('Histogram of chi2s')\n",
    "plt.xlabel(r'$\\sqrt{\\chi^2/nbins}$')\n",
    "plt.ylabel('Frequency')\n",
    "plt.grid(True)  # Add grid for better visualization\n",
    "# plt.xlim([0,10])"
   ]
  },
  {
   "cell_type": "code",
   "execution_count": 36,
   "id": "62e07939-0689-4f3e-9930-f2752a71cb9c",
   "metadata": {},
   "outputs": [],
   "source": [
    "cutoff_index = int(np.ceil(len(chi2s) * 0.95)) - 1"
   ]
  },
  {
   "cell_type": "code",
   "execution_count": 37,
   "id": "1de487cf-d8e4-4df6-a7fb-4fca7a7a0ae9",
   "metadata": {},
   "outputs": [
    {
     "data": {
      "text/plain": [
       "4749"
      ]
     },
     "execution_count": 37,
     "metadata": {},
     "output_type": "execute_result"
    }
   ],
   "source": [
    "cutoff_index"
   ]
  },
  {
   "cell_type": "code",
   "execution_count": 38,
   "id": "7f988b9c-2847-4b4e-8d2b-b5bde2a581d0",
   "metadata": {},
   "outputs": [],
   "source": [
    "two_sigma = np.sort(np.sqrt(np.array(chi2s)/(77*3)))[cutoff_index]"
   ]
  },
  {
   "cell_type": "code",
   "execution_count": 39,
   "id": "d4a2d6e4-ec6e-43d7-bf8a-5b807f36337c",
   "metadata": {},
   "outputs": [
    {
     "data": {
      "text/plain": [
       "0.07443414709409246"
      ]
     },
     "execution_count": 39,
     "metadata": {},
     "output_type": "execute_result"
    }
   ],
   "source": [
    "two_sigma"
   ]
  },
  {
   "cell_type": "code",
   "execution_count": 40,
   "id": "c3748ddc-9b48-4e91-a3f3-22ab975ea7f7",
   "metadata": {},
   "outputs": [],
   "source": [
    "ind_bad = jnp.argmax(jnp.array(chi2s))"
   ]
  },
  {
   "cell_type": "code",
   "execution_count": 41,
   "id": "acd10af1-de86-49df-9040-e7eeba78641f",
   "metadata": {},
   "outputs": [
    {
     "name": "stdout",
     "output_type": "stream",
     "text": [
      "logknots [-9.21334488 -9.21234237 -9.21134087 -9.21034037 -8.83188913 -8.45343789\n",
      " -8.07498665 -7.69653541 -7.31808417 -6.93963293 -6.56118169 -6.18273045\n",
      " -5.80427921 -5.42582797 -5.04737673 -4.66892549 -4.29047425 -3.91202301\n",
      " -3.86323284 -3.73317886 -3.60312488 -3.4730709  -3.34301693 -3.21296295\n",
      " -3.08290897 -2.95285499 -2.82280101 -2.69274703 -2.56269305 -2.43263907\n",
      " -2.30258509 -2.20727491 -2.17098864 -2.13470237 -2.09841609 -2.06212982\n",
      " -2.02584354 -1.98955727 -1.953271   -1.91698472 -1.88069845 -1.84441217\n",
      " -1.8081259  -1.77183963 -1.73555335 -1.69926708 -1.6629808  -1.62669453\n",
      " -1.59040826 -1.55412198 -1.51783571 -1.48154944 -1.44526316 -1.40897689\n",
      " -1.37269061 -1.33640434 -1.30011807 -1.26383179 -1.22754552 -1.19125924\n",
      " -1.15497297 -1.1186867  -1.08240042 -1.04611415 -1.00982787 -0.9735416\n",
      " -0.93725533 -0.90096905 -0.86468278 -0.8283965  -0.79211023 -0.75582396\n",
      " -0.71953768 -0.68325141 -0.64696514 -0.61067886 -0.57439259 -0.53810631\n",
      " -0.50182004 -0.46553377 -0.42924749 -0.39296122 -0.35667494 -0.35567544\n",
      " -0.35467694 -0.35367943]\n"
     ]
    }
   ],
   "source": [
    "chi2, truth, reconstructed = get_pybird_chi2(knots, cov_inv,pk_test_bank[ind_bad], return_spectra=True)"
   ]
  },
  {
   "cell_type": "code",
   "execution_count": 42,
   "id": "23b6b922-384d-4f43-802a-4f70285b7be8",
   "metadata": {},
   "outputs": [
    {
     "data": {
      "text/plain": [
       "0.9550463564507079"
      ]
     },
     "execution_count": 42,
     "metadata": {},
     "output_type": "execute_result"
    }
   ],
   "source": [
    "np.sqrt((chi2/(77*3)))"
   ]
  },
  {
   "cell_type": "code",
   "execution_count": 43,
   "id": "5b3b0b82-0183-43da-9828-13c6a6794d17",
   "metadata": {},
   "outputs": [],
   "source": [
    "err_0 = np.sqrt(np.diag(cov))"
   ]
  },
  {
   "cell_type": "code",
   "execution_count": 44,
   "id": "676246e0-67c7-41a5-89de-3ff3133b523b",
   "metadata": {},
   "outputs": [
    {
     "data": {
      "text/plain": [
       "<matplotlib.legend.Legend at 0x2b2555915300>"
      ]
     },
     "execution_count": 44,
     "metadata": {},
     "output_type": "execute_result"
    },
    {
     "data": {
      "image/png": "[encoded data removed]",
      "text/plain": [
       "<Figure size 720x432 with 3 Axes>"
      ]
     },
     "metadata": {
      "needs_background": "light"
     },
     "output_type": "display_data"
    }
   ],
   "source": [
    "fig, ax = plt.subplots(3,1,figsize =(10,6))\n",
    "\n",
    "# truth = bpk_benchmark\n",
    "for i, ell in enumerate([0, 2, 4]):\n",
    "    ax[i].plot(k_arr, (truth[i]-reconstructed[i])/truth[i], 'C0', alpha=0.2, label=fr'$\\Delta P^g_{ell}/truth$')\n",
    "    ax[i].fill_between(k_arr, -err_0[i*77:(i+1)*77]/truth[i], err_0[i*77:(i+1)*77]/truth[i], color='orange', alpha=.4, label='errorbar')\n",
    "    ax[i].fill_between(k_arr, -1e-3*np.ones_like(k_arr), 1e-3*np.ones_like(k_arr), color='C2', alpha=.3, label='Boltzmann code error')\n",
    "    ax[i].set_ylim([-0.005,0.005])\n",
    "\n",
    "plt.legend()"
   ]
  },
  {
   "cell_type": "code",
   "execution_count": 45,
   "id": "3e00cb59-11a7-49a1-9bc5-7e8a6f787dc1",
   "metadata": {},
   "outputs": [
    {
     "data": {
      "image/png": "[encoded data removed]",
      "text/plain": [
       "<Figure size 432x288 with 1 Axes>"
      ]
     },
     "metadata": {
      "needs_background": "light"
     },
     "output_type": "display_data"
    }
   ],
   "source": [
    "fig, ax = plt.subplots()\n",
    "\n",
    "ax.plot(k_arr, np.abs(truth[0]))\n",
    "ax.set_xscale(\"log\")\n",
    "ax.set_yscale(\"log\")"
   ]
  },
  {
   "cell_type": "code",
   "execution_count": 46,
   "id": "c7c006b9-1635-49aa-8300-4b83b246cc41",
   "metadata": {},
   "outputs": [
    {
     "data": {
      "image/png": "[encoded data removed]",
      "text/plain": [
       "<Figure size 432x288 with 1 Axes>"
      ]
     },
     "metadata": {
      "needs_background": "light"
     },
     "output_type": "display_data"
    }
   ],
   "source": [
    "fig, ax = plt.subplots()\n",
    "\n",
    "ax.plot(k_arr, np.abs(reconstructed[0]))\n",
    "ax.set_xscale(\"log\")\n",
    "ax.set_yscale(\"log\")"
   ]
  },
  {
   "cell_type": "markdown",
   "id": "f09c2aee-1cbd-40c3-b130-0634b058a781",
   "metadata": {},
   "source": [
    "### Lets investigate that power spectrum"
   ]
  },
  {
   "cell_type": "code",
   "execution_count": 47,
   "id": "94071066-adbf-41c9-9ae7-bdbf8e630dbc",
   "metadata": {},
   "outputs": [],
   "source": [
    "pk_max = np.amax(pk_test_bank[ind_bad])\n",
    "\n",
    "pk = 1.*pk_test_bank[ind_bad] / pk_max # normalizing\n",
    "ilogpk = interp1d(np.log(kk), np.log(pk), kind = 'cubic')\n",
    "pkk_ = np.exp(ilogpk(np.log(kk_)))\n",
    "\n",
    "# knots = np.load(\"/cluster/work/refregier/alexree/frequentist_framework/pybird_emu/data/emu/knots.npy\")\n",
    "\n",
    "# nknots = 80\n",
    "# k_mid = 0.05\n",
    "# n_low = 15\n",
    "# n_high = nknots - n_low\n",
    "# knots_low = np.geomspace(k_l, k_mid, n_low)\n",
    "# knots_high = np.geomspace(k_mid+0.001, k_r, n_high)\n",
    "# knots = np.concatenate((knots_low,knots_high))\n",
    "\n",
    "logpk = ilogpk(np.log(knots))\n",
    "A_r, n_r = get_logslope(kk_, pkk_, side='right')\n",
    "pk_r = A_r * k_r**n_r\n",
    "dpk_r = A_r * n_r * k_r**(n_r-1.)\n",
    "dlogpk_r = (k_r/pk_r * dpk_r)\n",
    "\n",
    "spline_1 = utils.PiecewiseSpline_jax(knots, logpk, dlogpk_r)"
   ]
  },
  {
   "cell_type": "code",
   "execution_count": 48,
   "id": "de39542c-ca71-4d14-a229-9b5d4990851f",
   "metadata": {},
   "outputs": [
    {
     "data": {
      "text/plain": [
       "[<matplotlib.lines.Line2D at 0x2b2653792590>]"
      ]
     },
     "execution_count": 48,
     "metadata": {},
     "output_type": "execute_result"
    },
    {
     "data": {
      "image/png": "[encoded data removed]",
      "text/plain": [
       "<Figure size 432x288 with 1 Axes>"
      ]
     },
     "metadata": {
      "needs_background": "light"
     },
     "output_type": "display_data"
    }
   ],
   "source": [
    "plt.xscale(\"log\")\n",
    "plt.plot(kk, pk*pk_max, 'r--')\n",
    "plt.plot(kk, np.exp(spline_1(np.log(kk)))*pk_max, 'g')"
   ]
  },
  {
   "cell_type": "code",
   "execution_count": 49,
   "id": "47f8b079-bd89-4f0d-b859-8caea2f0d978",
   "metadata": {},
   "outputs": [
    {
     "data": {
      "text/plain": [
       "(0.0001, 1)"
      ]
     },
     "execution_count": 49,
     "metadata": {},
     "output_type": "execute_result"
    },
    {
     "data": {
      "image/png": "[encoded data removed]",
      "text/plain": [
       "<Figure size 432x288 with 1 Axes>"
      ]
     },
     "metadata": {
      "needs_background": "light"
     },
     "output_type": "display_data"
    }
   ],
   "source": [
    "plt.xscale(\"log\")\n",
    "plt.plot(kk, pk/np.exp(spline_1(np.log(kk))), 'r--')\n",
    "plt.xlim(1e-4,1)"
   ]
  },
  {
   "cell_type": "code",
   "execution_count": null,
   "id": "fcdcc185-6300-4c98-84e5-550658eae2d6",
   "metadata": {},
   "outputs": [],
   "source": []
  },
  {
   "cell_type": "code",
   "execution_count": null,
   "id": "0884ad2a-0944-4a23-8225-8f283df9cdef",
   "metadata": {},
   "outputs": [],
   "source": []
  },
  {
   "cell_type": "code",
   "execution_count": null,
   "id": "5850a118-482e-42f0-b363-16c0cdf9c8f2",
   "metadata": {},
   "outputs": [],
   "source": []
  },
  {
   "cell_type": "code",
   "execution_count": null,
   "id": "1536a37a-c918-47c7-9ec9-1d575a979a31",
   "metadata": {},
   "outputs": [],
   "source": []
  }
 ],
 "metadata": {
  "kernelspec": {
   "display_name": "pybird_emu_jax",
   "language": "python",
   "name": "pybird_emu_jax"
  },
  "language_info": {
   "codemirror_mode": {
    "name": "ipython",
    "version": 3
   },
   "file_extension": ".py",
   "mimetype": "text/x-python",
   "name": "python",
   "nbconvert_exporter": "python",
   "pygments_lexer": "ipython3",
   "version": "3.10.4"
  }
 },
 "nbformat": 4,
 "nbformat_minor": 5
}
