{
 "cells": [
  {
   "cell_type": "code",
   "execution_count": 1,
   "id": "f0cc28c7-fe30-426e-8774-af86789deb31",
   "metadata": {},
   "outputs": [
    {
     "name": "stdout",
     "output_type": "stream",
     "text": [
      "using jax\n"
     ]
    }
   ],
   "source": [
    "from pybird import config\n",
    "config.set_jax_enabled(True) # Enable JAX by setting the config Class\n",
    "import os\n",
    "import numpy as np\n",
    "import matplotlib.pyplot as plt\n",
    "from scipy.interpolate import interp1d\n",
    "from copy import copy, deepcopy\n",
    "from scipy.interpolate import interp1d, make_interp_spline\n",
    "import h5py\n",
    "import time \n",
    "import pickle \n",
    "from scipy.special import legendre\n",
    "import os, sys\n",
    "import numpy as np\n",
    "import matplotlib.pyplot as plt\n",
    "from classy import Class\n",
    "from pybird.correlator import Correlator\n",
    "import importlib, pybird\n",
    "importlib.reload(pybird.correlator)\n",
    "from pybird.correlator import Correlator\n",
    "import argparse\n",
    "import utils\n",
    "import jax\n",
    "from jax.config import config\n",
    "config.update(\"jax_enable_x64\", True) \n",
    "# from jax.scipy import optimize\n",
    "import jax.numpy as jnp\n",
    "from jax import vmap\n",
    "import logging \n",
    "from scipy import optimize "
   ]
  },
  {
   "cell_type": "code",
   "execution_count": 2,
   "id": "cd67020d-d0c0-4153-ab02-20873186921b",
   "metadata": {},
   "outputs": [],
   "source": [
    "from train_pybird_emulators.emu_utils import emu_utils as utils\n"
   ]
  },
  {
   "cell_type": "code",
   "execution_count": null,
   "id": "d8272e22-f7b7-4c70-bd96-a3394736542d",
   "metadata": {},
   "outputs": [],
   "source": []
  },
  {
   "cell_type": "markdown",
   "id": "54adfac9-d089-45bf-b180-27815e25bc52",
   "metadata": {},
   "source": [
    "esub generate_training_data.py --num_samps_per_index 2 --filename_config ../submission_scripts/emu_train_run.yml --filename_knots kn --n_gridpoints 2"
   ]
  },
  {
   "cell_type": "code",
   "execution_count": 36,
   "id": "5a60c8b3-42f2-45e8-bf98-054ba730048b",
   "metadata": {},
   "outputs": [
    {
     "name": "stdout",
     "output_type": "stream",
     "text": [
      "200\n",
      "200\n",
      "200\n",
      "200\n",
      "200\n",
      "200\n",
      "200\n",
      "200\n",
      "200\n",
      "200\n",
      "200\n",
      "200\n",
      "200\n",
      "200\n",
      "200\n",
      "200\n",
      "200\n",
      "200\n",
      "200\n",
      "200\n"
     ]
    }
   ],
   "source": [
    "def to_Mpc_per_h(_pk, _kk, h):\n",
    "    ilogpk_ = interp1d(np.log(_kk), np.log(_pk), fill_value='extrapolate')\n",
    "    return np.exp(ilogpk_(np.log(_kk*h))) * h**3\n",
    "\n",
    "\n",
    "\n",
    "\n",
    "k_l, k_r =  1e-4, 1.0 #In Mpc/h\n",
    "kk = np.linspace(k_l, k_r, 200)\n",
    "mask = (kk < k_l) | (kk > k_r)\n",
    "kk_ = kk[~mask]\n",
    "dk = kk_[1:]-kk_[:-1]\n",
    "dk = np.concatenate(([dk[0]], dk))\n",
    "\n",
    "#Get covariance matrix at reference cosmology \n",
    "z=0.5\n",
    "M = Class()\n",
    "cosmo = {'omega_b': 0.02235, 'omega_cdm': 0.120, 'h': 0.675, 'ln10^{10}A_s': 3.044, 'n_s': 0.965}\n",
    "M.set(cosmo)\n",
    "M.set({'output': 'mPk', 'P_k_max_h/Mpc': 1, 'z_max_pk': z})\n",
    "M.compute()\n",
    "pk_lin = np.array([M.pk_lin(k*M.h(), z)*M.h()**3 for k in kk]) # k in Mpc/h, pk in (Mpc/h)^3\n",
    "ipk_h = interp1d(kk, pk_lin, kind='cubic')\n",
    "\n",
    "Vs = 1.e11      # ideal volume (in [Mpc/h]^3), > 3 x better than DESI / Euclid (BOSS ~ 3e9, DESI ~ 3e10)\n",
    "nbar = 2e-2     # ideal nbar (for b1~2) (in [Mpc/h]^3), > 12 x better than DESI / Euclid\n",
    "cov = utils.get_cov(kk, ipk_h, 1., 0, mult=1, nbar=nbar, Vs=Vs)\n",
    "err = np.sqrt(np.diag(cov))\n",
    "\n",
    "\n",
    "\n",
    "nbank = 10\n",
    "\n",
    "indices = np.random.randint(low=0,high=5000,size=nbank)\n",
    "with open('../lhc_bank_z0p5to2p5/' + 'lhc_cosmo_dict.pkl', 'rb') as f:\n",
    "    lhc_cosmo_dicts = pickle.load(f)\n",
    "lhc_pk_lin = []\n",
    "with h5py.File('../lhc_bank_z0p5to2p5/' + 'lhc_pk_lins.h5', 'r') as f:\n",
    "    keys=list(f.keys())\n",
    "    for i in indices:\n",
    "        print(len(f[keys[i]][:]))\n",
    "        print(len(kk))\n",
    "        #lhc_pk_lin.append(to_Mpc_per_h(f[str(i)][:], kk, lhc_cosmo_dicts[i]['h']))\n",
    "        lhc_pk_lin.append(to_Mpc_per_h(f[keys[i]][:], kk, lhc_cosmo_dicts[i]['h']))\n",
    "\n",
    "#Append to array and convert units\n",
    "lhc_pk_lin = np.array(lhc_pk_lin)\n"
   ]
  },
  {
   "cell_type": "code",
   "execution_count": 42,
   "id": "a4ce295e-1636-4479-b1ce-160c432a3a9f",
   "metadata": {},
   "outputs": [],
   "source": [
    "mu_file = \"/Users/zhiyulu/Documents/Science/Cosmology_packages/LSS/FreqCosmo-alex/hpc_work/mu_55_knots.npy\"\n",
    "cov_file = \"/Users/zhiyulu/Documents/Science/Cosmology_packages/LSS/FreqCosmo-alex/hpc_work/covariance_55_knots.npy\""
   ]
  },
  {
   "cell_type": "code",
   "execution_count": 43,
   "id": "76f8dc35-0a0f-4196-8663-4f6cdc0f9182",
   "metadata": {},
   "outputs": [
    {
     "data": {
      "text/plain": [
       "(58,)"
      ]
     },
     "execution_count": 43,
     "metadata": {},
     "output_type": "execute_result"
    }
   ],
   "source": [
    "np.load(mu_file).shape"
   ]
  },
  {
   "cell_type": "code",
   "execution_count": 44,
   "id": "e35e3e1e-7f9d-4f4f-a38c-5552745f447a",
   "metadata": {},
   "outputs": [
    {
     "data": {
      "text/plain": [
       "(58, 58)"
      ]
     },
     "execution_count": 44,
     "metadata": {},
     "output_type": "execute_result"
    }
   ],
   "source": [
    "np.load(cov_file).shape"
   ]
  },
  {
   "cell_type": "code",
   "execution_count": null,
   "id": "49a401ee-542f-4676-abd5-02854395446f",
   "metadata": {},
   "outputs": [],
   "source": []
  }
 ],
 "metadata": {
  "kernelspec": {
   "display_name": "Python 3 (ipykernel)",
   "language": "python",
   "name": "python3"
  },
  "language_info": {
   "codemirror_mode": {
    "name": "ipython",
    "version": 3
   },
   "file_extension": ".py",
   "mimetype": "text/x-python",
   "name": "python",
   "nbconvert_exporter": "python",
   "pygments_lexer": "ipython3",
   "version": "3.11.8"
  }
 },
 "nbformat": 4,
 "nbformat_minor": 5
}
